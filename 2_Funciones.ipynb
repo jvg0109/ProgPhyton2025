{
  "nbformat": 4,
  "nbformat_minor": 0,
  "metadata": {
    "colab": {
      "provenance": [],
      "include_colab_link": true
    },
    "kernelspec": {
      "display_name": "Python 3",
      "language": "python",
      "name": "python3"
    }
  },
  "cells": [
    {
      "cell_type": "markdown",
      "metadata": {
        "id": "view-in-github",
        "colab_type": "text"
      },
      "source": [
        "<a href=\"https://colab.research.google.com/github/jvg0109/ProgPhyton2025/blob/main/2_Funciones.ipynb\" target=\"_parent\"><img src=\"https://colab.research.google.com/assets/colab-badge.svg\" alt=\"Open In Colab\"/></a>"
      ]
    },
    {
      "cell_type": "markdown",
      "metadata": {
        "id": "LXlv9Mj9-1QE"
      },
      "source": [
        "# Funciones\n",
        "\n",
        "Una función, es la forma de agrupar expresiones para realizar  determinadas acciones.\n",
        "\n",
        "La ejecucución de éstas depende que sea llamado el bloque que las define."
      ]
    },
    {
      "cell_type": "markdown",
      "metadata": {
        "id": "GD0iKA88DclK"
      },
      "source": [
        "## Definición de Funciones\n",
        "\n",
        "En Python, la definición de funciones se realiza mediante la instrucción def más un nombre de función descriptivo.\n",
        "\n",
        "La definición de la función finaliza con dos puntos (:)\n",
        "\n"
      ]
    },
    {
      "cell_type": "code",
      "metadata": {
        "id": "NyE9YtbaDclK"
      },
      "source": [
        "def my_func(param1=\"Hola Funciones\"):\n",
        "  \"\"\"\n",
        "  Aquí irá la documentación (docstring)\n",
        "  param1: este parámetro es..\n",
        "  Esta función return\n",
        "  \"\"\"\n",
        "  print(param1)"
      ],
      "execution_count": null,
      "outputs": []
    },
    {
      "cell_type": "code",
      "metadata": {
        "id": "7jY8vLLsDclM",
        "colab": {
          "base_uri": "https://localhost:8080/",
          "height": 138
        },
        "outputId": "3040fcde-545d-4f84-86d5-f1653f9778f2"
      },
      "source": [
        "my_func"
      ],
      "execution_count": null,
      "outputs": [
        {
          "output_type": "execute_result",
          "data": {
            "text/plain": [
              "<function __main__.my_func(param1='Hola Funciones')>"
            ],
            "text/html": [
              "<div style=\"max-width:800px; border: 1px solid var(--colab-border-color);\"><style>\n",
              "      pre.function-repr-contents {\n",
              "        overflow-x: auto;\n",
              "        padding: 8px 12px;\n",
              "        max-height: 500px;\n",
              "      }\n",
              "\n",
              "      pre.function-repr-contents.function-repr-contents-collapsed {\n",
              "        cursor: pointer;\n",
              "        max-height: 100px;\n",
              "      }\n",
              "    </style>\n",
              "    <pre style=\"white-space: initial; background:\n",
              "         var(--colab-secondary-surface-color); padding: 8px 12px;\n",
              "         border-bottom: 1px solid var(--colab-border-color);\"><b>my_func</b><br/>def my_func(param1=&#x27;Hola Funciones&#x27;)</pre><pre class=\"function-repr-contents function-repr-contents-collapsed\" style=\"\"><a class=\"filepath\" style=\"display:none\" href=\"#\">/tmp/ipython-input-1-1657788339.py</a>Aquí irá la documentación (docstring)\n",
              "param1: este parámetro es..\n",
              "Esta función return</pre></div>"
            ]
          },
          "metadata": {},
          "execution_count": 2
        }
      ]
    },
    {
      "cell_type": "code",
      "metadata": {
        "id": "nt34DpTPDclN",
        "colab": {
          "base_uri": "https://localhost:8080/"
        },
        "outputId": "97e8ab2b-16ba-4ec0-e552-9549f9802325"
      },
      "source": [
        "my_func(\"Hola funciones 2\")"
      ],
      "execution_count": null,
      "outputs": [
        {
          "output_type": "stream",
          "name": "stdout",
          "text": [
            "Hola funciones 2\n"
          ]
        }
      ]
    },
    {
      "cell_type": "code",
      "source": [
        "my_func?"
      ],
      "metadata": {
        "id": "LDwIr1y_UC9V"
      },
      "execution_count": null,
      "outputs": []
    },
    {
      "cell_type": "code",
      "metadata": {
        "id": "BuF7tmG1DclN",
        "colab": {
          "base_uri": "https://localhost:8080/"
        },
        "outputId": "d2a962f7-b6d9-4c4f-e2e7-df30ef432481"
      },
      "source": [
        "my_func('nuevo valor del parametro')"
      ],
      "execution_count": null,
      "outputs": [
        {
          "output_type": "stream",
          "name": "stdout",
          "text": [
            "nuevo valor del parametro\n"
          ]
        }
      ]
    },
    {
      "cell_type": "code",
      "metadata": {
        "id": "2MRHJcX7DclO",
        "colab": {
          "base_uri": "https://localhost:8080/"
        },
        "outputId": "ccf0b676-4bf2-495a-f0fc-3f47fd391fc9"
      },
      "source": [
        "my_func(param1='nuevo valor 2 del parametro')"
      ],
      "execution_count": null,
      "outputs": [
        {
          "output_type": "stream",
          "name": "stdout",
          "text": [
            "nuevo valor 2 del parametro\n"
          ]
        }
      ]
    },
    {
      "cell_type": "code",
      "metadata": {
        "id": "6M-2n30_DclQ"
      },
      "source": [
        "def saludar(nombre):\n",
        "    print('Hola ' + nombre)"
      ],
      "execution_count": null,
      "outputs": []
    },
    {
      "cell_type": "code",
      "metadata": {
        "id": "ZGlveH2sDclR",
        "colab": {
          "base_uri": "https://localhost:8080/"
        },
        "outputId": "ea51c0e2-0ccd-4cfc-85fd-8937e69e2ae9"
      },
      "source": [
        "n = \"Pedro\"\n",
        "saludar(n)"
      ],
      "execution_count": null,
      "outputs": [
        {
          "output_type": "stream",
          "name": "stdout",
          "text": [
            "Hola Pedro\n"
          ]
        }
      ]
    },
    {
      "cell_type": "code",
      "metadata": {
        "id": "XONROccMDclR"
      },
      "source": [
        "def square(x):\n",
        "  return x**2"
      ],
      "execution_count": null,
      "outputs": []
    },
    {
      "cell_type": "code",
      "metadata": {
        "id": "hdGUQTgeDclS"
      },
      "source": [
        "out1 = square(100)"
      ],
      "execution_count": null,
      "outputs": []
    },
    {
      "cell_type": "code",
      "metadata": {
        "id": "QTNxENIFDclS",
        "colab": {
          "base_uri": "https://localhost:8080/"
        },
        "outputId": "771c00e6-cd9f-4622-8b35-0c5deb9d0895"
      },
      "source": [
        "print(out1)\n",
        "#print(out2)"
      ],
      "execution_count": null,
      "outputs": [
        {
          "output_type": "stream",
          "name": "stdout",
          "text": [
            "10000\n"
          ]
        }
      ]
    },
    {
      "cell_type": "code",
      "metadata": {
        "id": "UA237qnZDclS"
      },
      "source": [
        "def square(x):\n",
        "    \"\"\"\n",
        "    Esta es la documentación de la función.\n",
        "    Puede tener múltiples líneas.\n",
        "    La función square retorna un número x elevado al cuadrado.\n",
        "    \"\"\"\n",
        "    return x**2"
      ],
      "execution_count": null,
      "outputs": []
    },
    {
      "cell_type": "code",
      "metadata": {
        "id": "s6zsuEILDclU"
      },
      "source": [
        "# Puedo ver la documentación con ?\n",
        "square?"
      ],
      "execution_count": null,
      "outputs": []
    },
    {
      "cell_type": "code",
      "metadata": {
        "id": "hV6Zbl7FnoXu"
      },
      "source": [
        "def potencia(x):\n",
        "  \"\"\"\n",
        "  La función potencia retorna 2 elevado al parámetro x que recibe\n",
        "  \"\"\"\n",
        "  return 2**x\n"
      ],
      "execution_count": null,
      "outputs": []
    },
    {
      "cell_type": "code",
      "metadata": {
        "id": "e4tB03M3nxPc",
        "colab": {
          "base_uri": "https://localhost:8080/"
        },
        "outputId": "c2fa37c7-43e9-4539-93ef-6c2585cb0183"
      },
      "source": [
        "for x in range(0,100):\n",
        "  print(potencia(x))"
      ],
      "execution_count": null,
      "outputs": [
        {
          "output_type": "stream",
          "name": "stdout",
          "text": [
            "1\n",
            "2\n",
            "4\n",
            "8\n",
            "16\n",
            "32\n",
            "64\n",
            "128\n",
            "256\n",
            "512\n",
            "1024\n",
            "2048\n",
            "4096\n",
            "8192\n",
            "16384\n",
            "32768\n",
            "65536\n",
            "131072\n",
            "262144\n",
            "524288\n",
            "1048576\n",
            "2097152\n",
            "4194304\n",
            "8388608\n",
            "16777216\n",
            "33554432\n",
            "67108864\n",
            "134217728\n",
            "268435456\n",
            "536870912\n",
            "1073741824\n",
            "2147483648\n",
            "4294967296\n",
            "8589934592\n",
            "17179869184\n",
            "34359738368\n",
            "68719476736\n",
            "137438953472\n",
            "274877906944\n",
            "549755813888\n",
            "1099511627776\n",
            "2199023255552\n",
            "4398046511104\n",
            "8796093022208\n",
            "17592186044416\n",
            "35184372088832\n",
            "70368744177664\n",
            "140737488355328\n",
            "281474976710656\n",
            "562949953421312\n",
            "1125899906842624\n",
            "2251799813685248\n",
            "4503599627370496\n",
            "9007199254740992\n",
            "18014398509481984\n",
            "36028797018963968\n",
            "72057594037927936\n",
            "144115188075855872\n",
            "288230376151711744\n",
            "576460752303423488\n",
            "1152921504606846976\n",
            "2305843009213693952\n",
            "4611686018427387904\n",
            "9223372036854775808\n",
            "18446744073709551616\n",
            "36893488147419103232\n",
            "73786976294838206464\n",
            "147573952589676412928\n",
            "295147905179352825856\n",
            "590295810358705651712\n",
            "1180591620717411303424\n",
            "2361183241434822606848\n",
            "4722366482869645213696\n",
            "9444732965739290427392\n",
            "18889465931478580854784\n",
            "37778931862957161709568\n",
            "75557863725914323419136\n",
            "151115727451828646838272\n",
            "302231454903657293676544\n",
            "604462909807314587353088\n",
            "1208925819614629174706176\n",
            "2417851639229258349412352\n",
            "4835703278458516698824704\n",
            "9671406556917033397649408\n",
            "19342813113834066795298816\n",
            "38685626227668133590597632\n",
            "77371252455336267181195264\n",
            "154742504910672534362390528\n",
            "309485009821345068724781056\n",
            "618970019642690137449562112\n",
            "1237940039285380274899124224\n",
            "2475880078570760549798248448\n",
            "4951760157141521099596496896\n",
            "9903520314283042199192993792\n",
            "19807040628566084398385987584\n",
            "39614081257132168796771975168\n",
            "79228162514264337593543950336\n",
            "158456325028528675187087900672\n",
            "316912650057057350374175801344\n",
            "633825300114114700748351602688\n"
          ]
        }
      ]
    },
    {
      "cell_type": "code",
      "metadata": {
        "id": "XbfymanwqsEb",
        "colab": {
          "base_uri": "https://localhost:8080/"
        },
        "outputId": "8dd3d3eb-f701-4cb9-bd44-0f03f525b24c"
      },
      "source": [
        "i = 0\n",
        "while i <= 100:\n",
        "  print(potencia(i))\n",
        "  i = i + 1"
      ],
      "execution_count": null,
      "outputs": [
        {
          "output_type": "stream",
          "name": "stdout",
          "text": [
            "1\n",
            "2\n",
            "4\n",
            "8\n",
            "16\n",
            "32\n",
            "64\n",
            "128\n",
            "256\n",
            "512\n",
            "1024\n",
            "2048\n",
            "4096\n",
            "8192\n",
            "16384\n",
            "32768\n",
            "65536\n",
            "131072\n",
            "262144\n",
            "524288\n",
            "1048576\n",
            "2097152\n",
            "4194304\n",
            "8388608\n",
            "16777216\n",
            "33554432\n",
            "67108864\n",
            "134217728\n",
            "268435456\n",
            "536870912\n",
            "1073741824\n",
            "2147483648\n",
            "4294967296\n",
            "8589934592\n",
            "17179869184\n",
            "34359738368\n",
            "68719476736\n",
            "137438953472\n",
            "274877906944\n",
            "549755813888\n",
            "1099511627776\n",
            "2199023255552\n",
            "4398046511104\n",
            "8796093022208\n",
            "17592186044416\n",
            "35184372088832\n",
            "70368744177664\n",
            "140737488355328\n",
            "281474976710656\n",
            "562949953421312\n",
            "1125899906842624\n",
            "2251799813685248\n",
            "4503599627370496\n",
            "9007199254740992\n",
            "18014398509481984\n",
            "36028797018963968\n",
            "72057594037927936\n",
            "144115188075855872\n",
            "288230376151711744\n",
            "576460752303423488\n",
            "1152921504606846976\n",
            "2305843009213693952\n",
            "4611686018427387904\n",
            "9223372036854775808\n",
            "18446744073709551616\n",
            "36893488147419103232\n",
            "73786976294838206464\n",
            "147573952589676412928\n",
            "295147905179352825856\n",
            "590295810358705651712\n",
            "1180591620717411303424\n",
            "2361183241434822606848\n",
            "4722366482869645213696\n",
            "9444732965739290427392\n",
            "18889465931478580854784\n",
            "37778931862957161709568\n",
            "75557863725914323419136\n",
            "151115727451828646838272\n",
            "302231454903657293676544\n",
            "604462909807314587353088\n",
            "1208925819614629174706176\n",
            "2417851639229258349412352\n",
            "4835703278458516698824704\n",
            "9671406556917033397649408\n",
            "19342813113834066795298816\n",
            "38685626227668133590597632\n",
            "77371252455336267181195264\n",
            "154742504910672534362390528\n",
            "309485009821345068724781056\n",
            "618970019642690137449562112\n",
            "1237940039285380274899124224\n",
            "2475880078570760549798248448\n",
            "4951760157141521099596496896\n",
            "9903520314283042199192993792\n",
            "19807040628566084398385987584\n",
            "39614081257132168796771975168\n",
            "79228162514264337593543950336\n",
            "158456325028528675187087900672\n",
            "316912650057057350374175801344\n",
            "633825300114114700748351602688\n",
            "1267650600228229401496703205376\n"
          ]
        }
      ]
    },
    {
      "cell_type": "markdown",
      "metadata": {
        "id": "bKhO4wX9Dck7"
      },
      "source": [
        "## range()\n",
        "\n",
        "Retorna una lista de elementos desde 0 y hasta el parámetro que se envíe dentro de los paréntesis."
      ]
    },
    {
      "cell_type": "code",
      "metadata": {
        "id": "eGh8JrArDclU",
        "colab": {
          "base_uri": "https://localhost:8080/"
        },
        "outputId": "41729dad-0269-4dab-f991-6ee03329a220"
      },
      "source": [
        "# Ver documentación de otra función, por ejemplo: range\n",
        "range(100)"
      ],
      "execution_count": null,
      "outputs": [
        {
          "output_type": "execute_result",
          "data": {
            "text/plain": [
              "range(0, 100)"
            ]
          },
          "metadata": {},
          "execution_count": 20
        }
      ]
    },
    {
      "cell_type": "code",
      "metadata": {
        "id": "J96OO9K7wuIp",
        "colab": {
          "base_uri": "https://localhost:8080/"
        },
        "outputId": "0287ccbb-8990-4d6d-e57e-3de1dbb5e717"
      },
      "source": [
        "range(10)"
      ],
      "execution_count": null,
      "outputs": [
        {
          "output_type": "execute_result",
          "data": {
            "text/plain": [
              "range(0, 10)"
            ]
          },
          "metadata": {},
          "execution_count": 21
        }
      ]
    },
    {
      "cell_type": "code",
      "metadata": {
        "id": "ZEJuVF6IwuIq",
        "colab": {
          "base_uri": "https://localhost:8080/"
        },
        "outputId": "9287c61a-6ba3-4f69-f7a1-7eb236bd1660"
      },
      "source": [
        "list(range(10))"
      ],
      "execution_count": null,
      "outputs": [
        {
          "output_type": "execute_result",
          "data": {
            "text/plain": [
              "[0, 1, 2, 3, 4, 5, 6, 7, 8, 9]"
            ]
          },
          "metadata": {},
          "execution_count": 22
        }
      ]
    },
    {
      "cell_type": "code",
      "metadata": {
        "id": "4u9vgP7bwuIq",
        "colab": {
          "base_uri": "https://localhost:8080/"
        },
        "outputId": "4e2f0942-22ad-4e3c-eea0-00c06f15831b"
      },
      "source": [
        "list(range(10,20,2))"
      ],
      "execution_count": null,
      "outputs": [
        {
          "output_type": "execute_result",
          "data": {
            "text/plain": [
              "[10, 12, 14, 16, 18]"
            ]
          },
          "metadata": {},
          "execution_count": 23
        }
      ]
    },
    {
      "cell_type": "code",
      "metadata": {
        "id": "4GPstSp_Dck8",
        "colab": {
          "base_uri": "https://localhost:8080/"
        },
        "outputId": "22e99803-8b15-48ec-ec1a-718911bdf838"
      },
      "source": [
        "range(5)"
      ],
      "execution_count": null,
      "outputs": [
        {
          "output_type": "execute_result",
          "data": {
            "text/plain": [
              "range(0, 5)"
            ]
          },
          "metadata": {},
          "execution_count": 24
        }
      ]
    },
    {
      "cell_type": "code",
      "metadata": {
        "id": "tqLFs4r7Dck8",
        "colab": {
          "base_uri": "https://localhost:8080/"
        },
        "outputId": "140353c9-a6f9-491c-c145-b32d9bc0c76e"
      },
      "source": [
        "for i in range(5):\n",
        "    print(i)"
      ],
      "execution_count": null,
      "outputs": [
        {
          "output_type": "stream",
          "name": "stdout",
          "text": [
            "0\n",
            "1\n",
            "2\n",
            "3\n",
            "4\n"
          ]
        }
      ]
    },
    {
      "cell_type": "code",
      "metadata": {
        "id": "c_q6UGYGDck-",
        "colab": {
          "base_uri": "https://localhost:8080/"
        },
        "outputId": "9bd5da74-7c3d-45a7-b605-e8423b9a183f"
      },
      "source": [
        "list(range(5))"
      ],
      "execution_count": null,
      "outputs": [
        {
          "output_type": "execute_result",
          "data": {
            "text/plain": [
              "[0, 1, 2, 3, 4]"
            ]
          },
          "metadata": {},
          "execution_count": 26
        }
      ]
    },
    {
      "cell_type": "markdown",
      "metadata": {
        "id": "8EtOFB9qNIxM"
      },
      "source": [
        "# Ejercicio\n",
        "\n",
        "Crear una función que evalúe si un número que recibe por parámetro es impar"
      ]
    },
    {
      "cell_type": "code",
      "source": [
        "def validar_impar(numero):\n",
        "  return #ToDo"
      ],
      "metadata": {
        "id": "3gpMJYd4c_Nj"
      },
      "execution_count": null,
      "outputs": []
    },
    {
      "cell_type": "code",
      "source": [
        "validar_impar(30)"
      ],
      "metadata": {
        "colab": {
          "base_uri": "https://localhost:8080/"
        },
        "id": "u9V1bNV5dkOC",
        "outputId": "297d30b3-5adb-498c-9640-bad6f13d5da1"
      },
      "execution_count": null,
      "outputs": [
        {
          "output_type": "execute_result",
          "data": {
            "text/plain": [
              "False"
            ]
          },
          "metadata": {},
          "execution_count": 29
        }
      ]
    },
    {
      "cell_type": "markdown",
      "metadata": {
        "id": "mG476TcMu7uP"
      },
      "source": [
        "## Fecha\n",
        "\n",
        "Python también permite operar con tipos de datos fecha 'date', de manera simple y eficaz."
      ]
    },
    {
      "cell_type": "code",
      "source": [
        "import datetime as dt"
      ],
      "metadata": {
        "id": "xHO9f-Ac9Ui7"
      },
      "execution_count": null,
      "outputs": []
    },
    {
      "cell_type": "code",
      "metadata": {
        "id": "6zXnc9SbDckp"
      },
      "source": [
        "from datetime import datetime"
      ],
      "execution_count": null,
      "outputs": []
    },
    {
      "cell_type": "code",
      "metadata": {
        "id": "aT67wftEDckq"
      },
      "source": [
        "fecha = datetime.now()"
      ],
      "execution_count": null,
      "outputs": []
    },
    {
      "cell_type": "code",
      "metadata": {
        "id": "cXqhoVuPDckr",
        "colab": {
          "base_uri": "https://localhost:8080/"
        },
        "outputId": "9683329c-4c10-4a24-9245-8b5019ad6024"
      },
      "source": [
        "fecha"
      ],
      "execution_count": null,
      "outputs": [
        {
          "output_type": "execute_result",
          "data": {
            "text/plain": [
              "datetime.datetime(2024, 8, 17, 20, 12, 38, 915673)"
            ]
          },
          "metadata": {},
          "execution_count": 8
        }
      ]
    },
    {
      "cell_type": "code",
      "source": [
        "!date"
      ],
      "metadata": {
        "colab": {
          "base_uri": "https://localhost:8080/"
        },
        "id": "KziGnIK2eaVa",
        "outputId": "d5bddeda-7cd6-4c10-ffe0-b7a2ae7d993a"
      },
      "execution_count": null,
      "outputs": [
        {
          "output_type": "stream",
          "name": "stdout",
          "text": [
            "Sat Aug 17 08:13:20 PM UTC 2024\n"
          ]
        }
      ]
    },
    {
      "cell_type": "code",
      "metadata": {
        "id": "BTsVAjC5Dckr",
        "colab": {
          "base_uri": "https://localhost:8080/"
        },
        "outputId": "c8fb0bfa-7ae9-4e3b-c9ce-a63dcaf39f2f"
      },
      "source": [
        "fecha.year"
      ],
      "execution_count": null,
      "outputs": [
        {
          "output_type": "execute_result",
          "data": {
            "text/plain": [
              "2024"
            ]
          },
          "metadata": {},
          "execution_count": 10
        }
      ]
    },
    {
      "cell_type": "code",
      "metadata": {
        "id": "u1OAawmvDcks",
        "colab": {
          "base_uri": "https://localhost:8080/"
        },
        "outputId": "bd6be08a-34c6-44a3-c6bf-785c321ce9af"
      },
      "source": [
        "fecha.month"
      ],
      "execution_count": null,
      "outputs": [
        {
          "output_type": "execute_result",
          "data": {
            "text/plain": [
              "8"
            ]
          },
          "metadata": {},
          "execution_count": 11
        }
      ]
    },
    {
      "cell_type": "code",
      "metadata": {
        "id": "Ys0uLDj2Dckt",
        "colab": {
          "base_uri": "https://localhost:8080/"
        },
        "outputId": "73483e68-e37b-430d-805b-1f015e31747a"
      },
      "source": [
        "fecha.day"
      ],
      "execution_count": null,
      "outputs": [
        {
          "output_type": "execute_result",
          "data": {
            "text/plain": [
              "17"
            ]
          },
          "metadata": {},
          "execution_count": 12
        }
      ]
    },
    {
      "cell_type": "code",
      "metadata": {
        "id": "_6hP8aqXDcku",
        "colab": {
          "base_uri": "https://localhost:8080/"
        },
        "outputId": "4eac1d71-c716-4b0e-d6c0-43654937e0d1"
      },
      "source": [
        "print('Fecha: %s/%s/%s Hora: %s:%s' % (fecha.day, fecha.month, fecha.year, fecha.hour, fecha.minute))"
      ],
      "execution_count": null,
      "outputs": [
        {
          "output_type": "stream",
          "name": "stdout",
          "text": [
            "Fecha: 17/8/2024 Hora: 20:12\n"
          ]
        }
      ]
    },
    {
      "cell_type": "code",
      "metadata": {
        "id": "y3RfgPHIlmOD",
        "colab": {
          "base_uri": "https://localhost:8080/",
          "height": 35
        },
        "outputId": "8f81927c-63a9-4c84-d643-95cd451eef1b"
      },
      "source": [
        "import datetime\n",
        "mydate = datetime.datetime.now()\n",
        "mydate.strftime(\"%B\")"
      ],
      "execution_count": null,
      "outputs": [
        {
          "output_type": "execute_result",
          "data": {
            "text/plain": [
              "'August'"
            ],
            "application/vnd.google.colaboratory.intrinsic+json": {
              "type": "string"
            }
          },
          "metadata": {},
          "execution_count": 14
        }
      ]
    },
    {
      "cell_type": "markdown",
      "source": [
        "## Obteniendo la fecha y hora para Colombia"
      ],
      "metadata": {
        "id": "ud1cZB0mCFbj"
      }
    },
    {
      "cell_type": "code",
      "source": [
        "import datetime\n",
        "import pytz\n",
        "tz = pytz.timezone('America/Bogota')\n",
        "ct = datetime.datetime.now(tz=tz)\n",
        "ct.isoformat()"
      ],
      "metadata": {
        "colab": {
          "base_uri": "https://localhost:8080/",
          "height": 35
        },
        "id": "NYHcVLuaBSXV",
        "outputId": "3bb9bc1e-6309-4d6e-a144-90f7a00a50e1"
      },
      "execution_count": null,
      "outputs": [
        {
          "output_type": "execute_result",
          "data": {
            "text/plain": [
              "'2024-08-17T15:14:18.836311-05:00'"
            ],
            "application/vnd.google.colaboratory.intrinsic+json": {
              "type": "string"
            }
          },
          "metadata": {},
          "execution_count": 15
        }
      ]
    },
    {
      "cell_type": "code",
      "source": [
        "!pip install --upgrade holidays"
      ],
      "metadata": {
        "colab": {
          "base_uri": "https://localhost:8080/"
        },
        "id": "Uwhrneq4CGbV",
        "outputId": "c5510ad5-1bee-4173-a7b2-96f220f30d28"
      },
      "execution_count": null,
      "outputs": [
        {
          "output_type": "stream",
          "name": "stdout",
          "text": [
            "Requirement already satisfied: holidays in /usr/local/lib/python3.10/dist-packages (0.54)\n",
            "Requirement already satisfied: python-dateutil in /usr/local/lib/python3.10/dist-packages (from holidays) (2.8.2)\n",
            "Requirement already satisfied: six>=1.5 in /usr/local/lib/python3.10/dist-packages (from python-dateutil->holidays) (1.16.0)\n"
          ]
        }
      ]
    },
    {
      "cell_type": "code",
      "source": [
        "import holidays"
      ],
      "metadata": {
        "id": "j66MOcpkCNcl"
      },
      "execution_count": null,
      "outputs": []
    },
    {
      "cell_type": "code",
      "source": [
        "co_holidays = holidays.CO(years=2024)"
      ],
      "metadata": {
        "id": "n618KdMyCUbt"
      },
      "execution_count": null,
      "outputs": []
    },
    {
      "cell_type": "code",
      "source": [
        "from datetime import date\n",
        "date(2024, 8, 19) in co_holidays"
      ],
      "metadata": {
        "colab": {
          "base_uri": "https://localhost:8080/"
        },
        "id": "ig4xFoyqCcOt",
        "outputId": "f5ea7cfc-e8d8-4a6a-cb7b-ee460e0b2254"
      },
      "execution_count": null,
      "outputs": [
        {
          "output_type": "execute_result",
          "data": {
            "text/plain": [
              "True"
            ]
          },
          "metadata": {},
          "execution_count": 33
        }
      ]
    },
    {
      "cell_type": "code",
      "source": [
        "co_holidays.values()"
      ],
      "metadata": {
        "id": "eKEIABeDCzF0",
        "colab": {
          "base_uri": "https://localhost:8080/"
        },
        "outputId": "81aa3011-4556-4989-d93c-468d0b2ee894"
      },
      "execution_count": null,
      "outputs": [
        {
          "output_type": "execute_result",
          "data": {
            "text/plain": [
              "dict_values([\"New Year's Day\", 'Epiphany (observed)', \"Saint Joseph's Day (observed)\", 'Maundy Thursday', 'Good Friday', 'Ascension Day (observed)', 'Corpus Christi (observed)', 'Labor Day', 'Sacred Heart (observed)', 'Saint Peter and Saint Paul (observed)', 'Independence Day', 'Battle of Boyacá', 'Assumption Day (observed)', 'Columbus Day (observed)', \"All Saints' Day (observed)\", 'Independence of Cartagena', 'Immaculate Conception', 'Christmas Day'])"
            ]
          },
          "metadata": {},
          "execution_count": 34
        }
      ]
    },
    {
      "cell_type": "markdown",
      "metadata": {
        "id": "CATEgOIiDclA"
      },
      "source": [
        "## Listas por comprensión (list comprehension)"
      ]
    },
    {
      "cell_type": "code",
      "metadata": {
        "id": "fVXt9hgYDclA"
      },
      "source": [
        "x = [1,2,3,4]"
      ],
      "execution_count": null,
      "outputs": []
    },
    {
      "cell_type": "code",
      "metadata": {
        "id": "R7f8oFmYDclB",
        "colab": {
          "base_uri": "https://localhost:8080/"
        },
        "outputId": "155fd561-24be-4e5d-b4ea-392b1be9cd35"
      },
      "source": [
        "out = []\n",
        "for item in x:\n",
        "  out.append(item**2)\n",
        "print(out)"
      ],
      "execution_count": null,
      "outputs": [
        {
          "output_type": "stream",
          "name": "stdout",
          "text": [
            "[1, 4, 9, 16]\n"
          ]
        }
      ]
    },
    {
      "cell_type": "code",
      "metadata": {
        "id": "-PiWerzNDclD",
        "colab": {
          "base_uri": "https://localhost:8080/"
        },
        "outputId": "02c160a5-bc6f-4ce7-aecb-3237625da589"
      },
      "source": [
        "[item**2 for item in x]"
      ],
      "execution_count": null,
      "outputs": [
        {
          "output_type": "execute_result",
          "data": {
            "text/plain": [
              "[1, 4, 9, 16]"
            ]
          },
          "metadata": {},
          "execution_count": 38
        }
      ]
    },
    {
      "cell_type": "code",
      "metadata": {
        "id": "2cOX014-DclE"
      },
      "source": [
        "out = [item**2 for item in x]"
      ],
      "execution_count": null,
      "outputs": []
    },
    {
      "cell_type": "code",
      "metadata": {
        "id": "ZA4Z9Zx0DclF",
        "colab": {
          "base_uri": "https://localhost:8080/"
        },
        "outputId": "d00b2020-8d89-4c12-810f-001d7030813e"
      },
      "source": [
        "out"
      ],
      "execution_count": null,
      "outputs": [
        {
          "output_type": "execute_result",
          "data": {
            "text/plain": [
              "[1, 4, 9, 16]"
            ]
          },
          "metadata": {},
          "execution_count": 40
        }
      ]
    },
    {
      "cell_type": "code",
      "metadata": {
        "id": "6-Lse_l8DclH"
      },
      "source": [
        "cubos = [x ** 3 for x in range(10)]"
      ],
      "execution_count": null,
      "outputs": []
    },
    {
      "cell_type": "code",
      "metadata": {
        "id": "KGE8PsYODclH",
        "colab": {
          "base_uri": "https://localhost:8080/"
        },
        "outputId": "b974e037-4151-4d80-dae0-810bd23f2eba"
      },
      "source": [
        "cubos"
      ],
      "execution_count": null,
      "outputs": [
        {
          "output_type": "execute_result",
          "data": {
            "text/plain": [
              "[0, 1, 8, 27, 64, 125, 216, 343, 512, 729]"
            ]
          },
          "metadata": {},
          "execution_count": 42
        }
      ]
    },
    {
      "cell_type": "code",
      "metadata": {
        "id": "S63GTvr3DclI"
      },
      "source": [
        "multiplos_tres_cinco = [x for x in range(1, 101) if x % 3 == 0 and x % 5 == 0]"
      ],
      "execution_count": null,
      "outputs": []
    },
    {
      "cell_type": "code",
      "metadata": {
        "id": "Wo7NJ6T7DclK",
        "colab": {
          "base_uri": "https://localhost:8080/"
        },
        "outputId": "a0a43cfa-9560-447c-fa8e-ea3b518fda77"
      },
      "source": [
        "multiplos_tres_cinco"
      ],
      "execution_count": null,
      "outputs": [
        {
          "output_type": "execute_result",
          "data": {
            "text/plain": [
              "[15, 30, 45, 60, 75, 90]"
            ]
          },
          "metadata": {},
          "execution_count": 44
        }
      ]
    },
    {
      "cell_type": "markdown",
      "metadata": {
        "id": "VB1jbFoezZLE"
      },
      "source": [
        "#Ejercicio\n",
        "Generar una lista con los números del 1 al 1000 que sean divisibles por 17 ó por 29, usando el concepto de lista por comprensión."
      ]
    },
    {
      "cell_type": "code",
      "source": [
        "multiplos = #ToDo\n",
        "multiplos"
      ],
      "metadata": {
        "id": "XUiaikqhgrtK"
      },
      "execution_count": null,
      "outputs": []
    },
    {
      "cell_type": "markdown",
      "metadata": {
        "id": "A9hagHupDclY"
      },
      "source": [
        "## Expresiones lambda\n",
        "\n",
        "Para crear funciones de manera rápida **just in time**, como por ejemplo para la definición de prototipos.\n"
      ]
    },
    {
      "cell_type": "code",
      "metadata": {
        "id": "JZz94MI7DclY"
      },
      "source": [
        "def times2(var):\n",
        "  return var*2"
      ],
      "execution_count": null,
      "outputs": []
    },
    {
      "cell_type": "code",
      "metadata": {
        "id": "XZYziVaWDclZ",
        "colab": {
          "base_uri": "https://localhost:8080/"
        },
        "outputId": "56be7b2b-d869-46c8-f7f2-6630121b4fdc"
      },
      "source": [
        "times2(2)"
      ],
      "execution_count": null,
      "outputs": [
        {
          "output_type": "execute_result",
          "data": {
            "text/plain": [
              "4"
            ]
          },
          "metadata": {},
          "execution_count": 46
        }
      ]
    },
    {
      "cell_type": "code",
      "metadata": {
        "id": "bE_g14fpDclZ",
        "colab": {
          "base_uri": "https://localhost:8080/"
        },
        "outputId": "1ec0e4ee-7019-456f-ba6f-535b146ed27b"
      },
      "source": [
        "lambda var: var*2"
      ],
      "execution_count": null,
      "outputs": [
        {
          "output_type": "execute_result",
          "data": {
            "text/plain": [
              "<function __main__.<lambda>(var)>"
            ]
          },
          "metadata": {},
          "execution_count": 7
        }
      ]
    },
    {
      "cell_type": "code",
      "metadata": {
        "id": "HbhiD8ZZDcla"
      },
      "source": [
        "t = lambda var: var*2"
      ],
      "execution_count": null,
      "outputs": []
    },
    {
      "cell_type": "code",
      "metadata": {
        "id": "NNJwxoabDcla",
        "colab": {
          "base_uri": "https://localhost:8080/"
        },
        "outputId": "c190e243-8a5b-4aff-c579-fb75e574fd75"
      },
      "source": [
        "t(20)"
      ],
      "execution_count": null,
      "outputs": [
        {
          "output_type": "execute_result",
          "data": {
            "text/plain": [
              "40"
            ]
          },
          "metadata": {},
          "execution_count": 49
        }
      ]
    },
    {
      "cell_type": "code",
      "metadata": {
        "id": "IMJd2h2mwuIw"
      },
      "source": [
        "otra = lambda var1,var2: (var1 + var2)**2"
      ],
      "execution_count": null,
      "outputs": []
    },
    {
      "cell_type": "code",
      "metadata": {
        "id": "JX7cWHfpwuIx",
        "colab": {
          "base_uri": "https://localhost:8080/"
        },
        "outputId": "9b1b8421-2a19-4ffe-bfec-00308522a60c"
      },
      "source": [
        "otra(2,3)"
      ],
      "execution_count": null,
      "outputs": [
        {
          "output_type": "execute_result",
          "data": {
            "text/plain": [
              "25"
            ]
          },
          "metadata": {},
          "execution_count": 51
        }
      ]
    },
    {
      "cell_type": "markdown",
      "source": [
        "#Ejercicio\n",
        "Construir una expresión lambda que devuelva el tamaño de cada una de las cadenas de la siguiente lista: [\"juan\",\"cesar\",\"Carlos\",\"Rosa\",\"Selena\"]. Pista> la fucnión len() calcula el tamaño de una cadana."
      ],
      "metadata": {
        "id": "XQmE9Hz0xLG-"
      }
    },
    {
      "cell_type": "code",
      "source": [
        "lista = [\"juan\",\"cesar\",\"Carlos\",\"Rosa\",\"Selena\"]"
      ],
      "metadata": {
        "id": "mkY1xYWvIeTm"
      },
      "execution_count": null,
      "outputs": []
    },
    {
      "cell_type": "code",
      "source": [
        "#ToDo\n"
      ],
      "metadata": {
        "colab": {
          "base_uri": "https://localhost:8080/"
        },
        "id": "zh12qe4fIj88",
        "outputId": "13821047-4876-4ee1-a2a6-65a98383a4ab"
      },
      "execution_count": null,
      "outputs": [
        {
          "output_type": "execute_result",
          "data": {
            "text/plain": [
              "[4, 5, 6, 4, 6]"
            ]
          },
          "metadata": {},
          "execution_count": 56
        }
      ]
    },
    {
      "cell_type": "markdown",
      "source": [
        "# Operadores Map y Filter"
      ],
      "metadata": {
        "id": "l9ewAm5E1Ui5"
      }
    },
    {
      "cell_type": "markdown",
      "source": [
        "##Map"
      ],
      "metadata": {
        "id": "gGGLaK4rdoYv"
      }
    },
    {
      "cell_type": "code",
      "metadata": {
        "id": "mmiYT-dzDclc",
        "colab": {
          "base_uri": "https://localhost:8080/"
        },
        "outputId": "d8fa155d-027f-4042-a48e-f22c908ad5d5"
      },
      "source": [
        "seq = [1, 2, 3, 4, 5]\n",
        "seq"
      ],
      "execution_count": null,
      "outputs": [
        {
          "output_type": "execute_result",
          "data": {
            "text/plain": [
              "[1, 2, 3, 4, 5]"
            ]
          },
          "metadata": {},
          "execution_count": 57
        }
      ]
    },
    {
      "cell_type": "code",
      "metadata": {
        "id": "XzKrjhqKDcle",
        "colab": {
          "base_uri": "https://localhost:8080/"
        },
        "outputId": "50ae8670-8980-4bfa-a11f-8e26ac59c24f"
      },
      "source": [
        "map(times2,seq)"
      ],
      "execution_count": null,
      "outputs": [
        {
          "output_type": "execute_result",
          "data": {
            "text/plain": [
              "<map at 0x792d089c5c00>"
            ]
          },
          "metadata": {},
          "execution_count": 60
        }
      ]
    },
    {
      "cell_type": "code",
      "metadata": {
        "id": "G-ogw60uDclf",
        "colab": {
          "base_uri": "https://localhost:8080/"
        },
        "outputId": "354b1c33-f19d-4876-e121-3c9b1501ac60"
      },
      "source": [
        "list(map(times2,seq))"
      ],
      "execution_count": null,
      "outputs": [
        {
          "output_type": "execute_result",
          "data": {
            "text/plain": [
              "[2, 4, 6, 8, 10]"
            ]
          },
          "metadata": {},
          "execution_count": 61
        }
      ]
    },
    {
      "cell_type": "code",
      "metadata": {
        "id": "CS8AOZDYDclf",
        "colab": {
          "base_uri": "https://localhost:8080/"
        },
        "outputId": "0ad10232-2384-45b5-f20b-358dd84d6819"
      },
      "source": [
        "list(map(lambda var: var*3, seq))"
      ],
      "execution_count": null,
      "outputs": [
        {
          "output_type": "execute_result",
          "data": {
            "text/plain": [
              "[3, 6, 9, 12, 15]"
            ]
          },
          "metadata": {},
          "execution_count": 62
        }
      ]
    },
    {
      "cell_type": "code",
      "source": [
        "list(map(lambda n: n.upper(), lista))"
      ],
      "metadata": {
        "colab": {
          "base_uri": "https://localhost:8080/"
        },
        "id": "Uk-VtpeQKKWU",
        "outputId": "52068c13-bd9b-44b9-9b4d-aaf027170c26"
      },
      "execution_count": null,
      "outputs": [
        {
          "output_type": "execute_result",
          "data": {
            "text/plain": [
              "['JUAN', 'CESAR', 'CARLOS', 'ROSA', 'SELENA']"
            ]
          },
          "metadata": {},
          "execution_count": 63
        }
      ]
    },
    {
      "cell_type": "markdown",
      "source": [
        "## Filter"
      ],
      "metadata": {
        "id": "Z00xAk2PeL-V"
      }
    },
    {
      "cell_type": "code",
      "metadata": {
        "id": "tCO6ahN1Dclg",
        "colab": {
          "base_uri": "https://localhost:8080/"
        },
        "outputId": "c8d140fe-c7a3-4f46-f586-89071b631bd5"
      },
      "source": [
        "filter(lambda item: item%2 == 0, seq)"
      ],
      "execution_count": null,
      "outputs": [
        {
          "output_type": "execute_result",
          "data": {
            "text/plain": [
              "<filter at 0x792d089c51e0>"
            ]
          },
          "metadata": {},
          "execution_count": 64
        }
      ]
    },
    {
      "cell_type": "code",
      "metadata": {
        "id": "VmxhyL6YDclh",
        "colab": {
          "base_uri": "https://localhost:8080/"
        },
        "outputId": "b31d1136-80d1-4968-8f02-802724077134"
      },
      "source": [
        "list(filter(lambda item: item%2 == 0, seq))"
      ],
      "execution_count": null,
      "outputs": [
        {
          "output_type": "execute_result",
          "data": {
            "text/plain": [
              "[2, 4]"
            ]
          },
          "metadata": {},
          "execution_count": 65
        }
      ]
    },
    {
      "cell_type": "code",
      "metadata": {
        "id": "wswTiRk9Dclk",
        "colab": {
          "base_uri": "https://localhost:8080/"
        },
        "outputId": "e0f26971-0b5f-4a46-c971-6dd2d31ccdce"
      },
      "source": [
        "list(filter(lambda x: x % 3 == 0, range(16)))"
      ],
      "execution_count": null,
      "outputs": [
        {
          "output_type": "execute_result",
          "data": {
            "text/plain": [
              "[0, 3, 6, 9, 12, 15]"
            ]
          },
          "metadata": {},
          "execution_count": 66
        }
      ]
    },
    {
      "cell_type": "code",
      "metadata": {
        "id": "Lip8yWwxDclk",
        "colab": {
          "base_uri": "https://localhost:8080/"
        },
        "outputId": "7b1da72a-e6b2-42ff-a82a-45c14c72f87f"
      },
      "source": [
        "oculto = \"IXXX aXXmX aXXXnXoXXXXXtXhXeXXXXrX sXXXXeXcXXXrXeXt mXXeXsXXXsXaXXXXXXgXeX!XX\"\n",
        "\n",
        "mensaje = filter(lambda x: x != \"X\", oculto)\n",
        "print(''.join(mensaje))"
      ],
      "execution_count": null,
      "outputs": [
        {
          "output_type": "stream",
          "name": "stdout",
          "text": [
            "I am another secret message!\n"
          ]
        }
      ]
    },
    {
      "cell_type": "markdown",
      "metadata": {
        "id": "seNR1XYCL7MF"
      },
      "source": [
        "#Ejercicio\n",
        "Hacer un filtro que genere los números que son múltiplos de 3 y de 5 en el rango de números del 1 al 100"
      ]
    },
    {
      "cell_type": "code",
      "source": [],
      "metadata": {
        "id": "_BkV2EFv_dNu",
        "colab": {
          "base_uri": "https://localhost:8080/"
        },
        "outputId": "a9567af8-b1f0-4b40-8717-b4a89af16f8b"
      },
      "execution_count": null,
      "outputs": [
        {
          "output_type": "execute_result",
          "data": {
            "text/plain": [
              "[15, 30, 45, 60, 75, 90]"
            ]
          },
          "metadata": {},
          "execution_count": 82
        }
      ]
    },
    {
      "cell_type": "markdown",
      "metadata": {
        "id": "xMH3l8h5Dcll"
      },
      "source": [
        "## Métodos Python\n",
        "\n",
        "Python viene por defecto con bastantes funciones ùtiles para manejo de datos.\n",
        "\n",
        "Veremos algunas."
      ]
    },
    {
      "cell_type": "code",
      "metadata": {
        "id": "b9Yog5hVDcll"
      },
      "source": [
        "st = 'HOLA! mi nombre es Jorge'"
      ],
      "execution_count": null,
      "outputs": []
    },
    {
      "cell_type": "code",
      "metadata": {
        "id": "yFzv0m9NDcll",
        "colab": {
          "base_uri": "https://localhost:8080/",
          "height": 35
        },
        "outputId": "d6505580-5bfb-437c-982b-1016a5d23f97"
      },
      "source": [
        "st.lower()"
      ],
      "execution_count": null,
      "outputs": [
        {
          "output_type": "execute_result",
          "data": {
            "text/plain": [
              "'hola! mi nombre es jorge'"
            ],
            "application/vnd.google.colaboratory.intrinsic+json": {
              "type": "string"
            }
          },
          "metadata": {},
          "execution_count": 71
        }
      ]
    },
    {
      "cell_type": "code",
      "metadata": {
        "id": "gwf9B3_BDcll",
        "colab": {
          "base_uri": "https://localhost:8080/",
          "height": 35
        },
        "outputId": "3d7e9045-b23e-44a2-f6f6-683f770fd330"
      },
      "source": [
        "st.upper()"
      ],
      "execution_count": null,
      "outputs": [
        {
          "output_type": "execute_result",
          "data": {
            "text/plain": [
              "'HOLA! MI NOMBRE ES JORGE'"
            ],
            "application/vnd.google.colaboratory.intrinsic+json": {
              "type": "string"
            }
          },
          "metadata": {},
          "execution_count": 72
        }
      ]
    },
    {
      "cell_type": "code",
      "metadata": {
        "id": "EWQeveqADclm",
        "colab": {
          "base_uri": "https://localhost:8080/"
        },
        "outputId": "1b14b979-bb46-43dc-d38c-602aa69d09b7"
      },
      "source": [
        "st.split()"
      ],
      "execution_count": null,
      "outputs": [
        {
          "output_type": "execute_result",
          "data": {
            "text/plain": [
              "['HOLA!', 'mi', 'nombre', 'es', 'Jorge']"
            ]
          },
          "metadata": {},
          "execution_count": 73
        }
      ]
    },
    {
      "cell_type": "code",
      "metadata": {
        "id": "__P7kfaxDclm"
      },
      "source": [
        "tweet = 'Curso AVD     Python! #MejorCurso'"
      ],
      "execution_count": null,
      "outputs": []
    },
    {
      "cell_type": "code",
      "metadata": {
        "id": "gpobfonTDcln",
        "colab": {
          "base_uri": "https://localhost:8080/"
        },
        "outputId": "632144bf-0d1c-495e-c3b0-d2331d30dcf6"
      },
      "source": [
        "tweet.split()"
      ],
      "execution_count": null,
      "outputs": [
        {
          "output_type": "execute_result",
          "data": {
            "text/plain": [
              "['Curso', 'AVD', 'Python!', '#MejorCurso']"
            ]
          },
          "metadata": {},
          "execution_count": 75
        }
      ]
    },
    {
      "cell_type": "code",
      "metadata": {
        "id": "AlC4gqSeDclp",
        "colab": {
          "base_uri": "https://localhost:8080/"
        },
        "outputId": "899b8fb4-8f2f-4dd8-d3e7-b92d1183477a"
      },
      "source": [
        "tweet.split('#')"
      ],
      "execution_count": null,
      "outputs": [
        {
          "output_type": "execute_result",
          "data": {
            "text/plain": [
              "['Curso AVD     Python! ', 'MejorCurso']"
            ]
          },
          "metadata": {},
          "execution_count": 77
        }
      ]
    },
    {
      "cell_type": "code",
      "metadata": {
        "id": "Q-CE4dkLDclp",
        "colab": {
          "base_uri": "https://localhost:8080/",
          "height": 35
        },
        "outputId": "51a057c3-ed23-488a-b489-f3c313d45a04"
      },
      "source": [
        "tweet.split('#')[1]"
      ],
      "execution_count": null,
      "outputs": [
        {
          "output_type": "execute_result",
          "data": {
            "text/plain": [
              "'MejorCurso'"
            ],
            "application/vnd.google.colaboratory.intrinsic+json": {
              "type": "string"
            }
          },
          "metadata": {},
          "execution_count": 78
        }
      ]
    },
    {
      "cell_type": "code",
      "metadata": {
        "id": "eY7CMHCZDclp"
      },
      "source": [
        "d = {'k1':10, 'k2':20, 'k3':1, 'k4': 'hola'}"
      ],
      "execution_count": null,
      "outputs": []
    },
    {
      "cell_type": "code",
      "metadata": {
        "id": "V1GKByMgDclp",
        "colab": {
          "base_uri": "https://localhost:8080/"
        },
        "outputId": "b354addf-fe6e-4f09-943c-74639082dccd"
      },
      "source": [
        "d.keys()"
      ],
      "execution_count": null,
      "outputs": [
        {
          "output_type": "execute_result",
          "data": {
            "text/plain": [
              "dict_keys(['k1', 'k2', 'k3', 'k4'])"
            ]
          },
          "metadata": {},
          "execution_count": 80
        }
      ]
    },
    {
      "cell_type": "code",
      "metadata": {
        "id": "lcm40SSyDclq",
        "colab": {
          "base_uri": "https://localhost:8080/"
        },
        "outputId": "36b1aaa6-40e3-4ae9-86f1-11adbcecd8a4"
      },
      "source": [
        "d.items()"
      ],
      "execution_count": null,
      "outputs": [
        {
          "output_type": "execute_result",
          "data": {
            "text/plain": [
              "dict_items([('k1', 10), ('k2', 20), ('k3', 1), ('k4', 'hola')])"
            ]
          },
          "metadata": {},
          "execution_count": 81
        }
      ]
    },
    {
      "cell_type": "code",
      "metadata": {
        "id": "ZT_4OCJxDclq",
        "colab": {
          "base_uri": "https://localhost:8080/"
        },
        "outputId": "86267e14-5f10-4df7-da0d-30b54ae7c832"
      },
      "source": [
        "d.values()"
      ],
      "execution_count": null,
      "outputs": [
        {
          "output_type": "execute_result",
          "data": {
            "text/plain": [
              "dict_values([10, 20, 1, 'hola'])"
            ]
          },
          "metadata": {},
          "execution_count": 82
        }
      ]
    },
    {
      "cell_type": "code",
      "metadata": {
        "id": "y7NUhVwgDclr"
      },
      "source": [
        "lst = [1,2,3,4,5,6]"
      ],
      "execution_count": null,
      "outputs": []
    },
    {
      "cell_type": "code",
      "metadata": {
        "id": "VUcZxMgbDcls",
        "colab": {
          "base_uri": "https://localhost:8080/"
        },
        "outputId": "a9657f20-b966-4e31-a1aa-00c4b7cc72d2"
      },
      "source": [
        "lst.pop()"
      ],
      "execution_count": null,
      "outputs": [
        {
          "output_type": "execute_result",
          "data": {
            "text/plain": [
              "6"
            ]
          },
          "metadata": {},
          "execution_count": 84
        }
      ]
    },
    {
      "cell_type": "code",
      "metadata": {
        "id": "sZY9FGwxDclt",
        "colab": {
          "base_uri": "https://localhost:8080/"
        },
        "outputId": "c76bd1b6-38aa-45ed-a254-4a6221dd73cb"
      },
      "source": [
        "lst"
      ],
      "execution_count": null,
      "outputs": [
        {
          "output_type": "execute_result",
          "data": {
            "text/plain": [
              "[1, 2, 3, 4, 5]"
            ]
          },
          "metadata": {},
          "execution_count": 85
        }
      ]
    },
    {
      "cell_type": "code",
      "metadata": {
        "id": "vErqP6UqDclt"
      },
      "source": [
        "item = lst.pop()"
      ],
      "execution_count": null,
      "outputs": []
    },
    {
      "cell_type": "code",
      "metadata": {
        "id": "RJbwXr_nDclu",
        "colab": {
          "base_uri": "https://localhost:8080/"
        },
        "outputId": "aa8fac28-67f1-40bb-eba0-bcaf0849a62f"
      },
      "source": [
        "lst"
      ],
      "execution_count": null,
      "outputs": [
        {
          "output_type": "execute_result",
          "data": {
            "text/plain": [
              "[1, 2, 3, 4]"
            ]
          },
          "metadata": {},
          "execution_count": 87
        }
      ]
    },
    {
      "cell_type": "code",
      "metadata": {
        "id": "FEAFErCDDclv",
        "colab": {
          "base_uri": "https://localhost:8080/"
        },
        "outputId": "6a3b9933-829d-4b33-d477-ca447534b4ac"
      },
      "source": [
        "item"
      ],
      "execution_count": null,
      "outputs": [
        {
          "output_type": "execute_result",
          "data": {
            "text/plain": [
              "5"
            ]
          },
          "metadata": {},
          "execution_count": 88
        }
      ]
    },
    {
      "cell_type": "code",
      "metadata": {
        "id": "9K7VmD2_Dclv"
      },
      "source": [
        "primero = lst.pop(0)"
      ],
      "execution_count": null,
      "outputs": []
    },
    {
      "cell_type": "code",
      "metadata": {
        "id": "jDETv3LjDclw",
        "colab": {
          "base_uri": "https://localhost:8080/"
        },
        "outputId": "c411a41b-c6c7-410f-f880-8b7c781d0e39"
      },
      "source": [
        "primero"
      ],
      "execution_count": null,
      "outputs": [
        {
          "output_type": "execute_result",
          "data": {
            "text/plain": [
              "1"
            ]
          },
          "metadata": {},
          "execution_count": 90
        }
      ]
    },
    {
      "cell_type": "code",
      "metadata": {
        "id": "PQwNS9OuDclx",
        "colab": {
          "base_uri": "https://localhost:8080/"
        },
        "outputId": "093cbd21-bc93-49c2-f992-0b1502e75b5f"
      },
      "source": [
        "lst"
      ],
      "execution_count": null,
      "outputs": [
        {
          "output_type": "execute_result",
          "data": {
            "text/plain": [
              "[2, 3, 4]"
            ]
          },
          "metadata": {},
          "execution_count": 91
        }
      ]
    },
    {
      "cell_type": "code",
      "metadata": {
        "id": "QyAhDsQsDclx"
      },
      "source": [
        "lst.append('NUEVO')"
      ],
      "execution_count": null,
      "outputs": []
    },
    {
      "cell_type": "code",
      "metadata": {
        "id": "SNZgv4OpDclx",
        "colab": {
          "base_uri": "https://localhost:8080/"
        },
        "outputId": "b530edf2-ac94-4237-e2bc-509c527fbc66"
      },
      "source": [
        "lst"
      ],
      "execution_count": null,
      "outputs": [
        {
          "output_type": "execute_result",
          "data": {
            "text/plain": [
              "[2, 3, 4, 'NUEVO']"
            ]
          },
          "metadata": {},
          "execution_count": 93
        }
      ]
    },
    {
      "cell_type": "code",
      "metadata": {
        "id": "ho3_NK6ODcly",
        "colab": {
          "base_uri": "https://localhost:8080/"
        },
        "outputId": "f3fc8721-76e3-464f-9011-3b2552fa2029"
      },
      "source": [
        "'x' in [1,2,3]"
      ],
      "execution_count": null,
      "outputs": [
        {
          "output_type": "execute_result",
          "data": {
            "text/plain": [
              "False"
            ]
          },
          "metadata": {},
          "execution_count": 94
        }
      ]
    },
    {
      "cell_type": "code",
      "metadata": {
        "id": "_16JiU_CDcl2",
        "colab": {
          "base_uri": "https://localhost:8080/"
        },
        "outputId": "0eb73132-f20c-4d64-caeb-ba804b25822b"
      },
      "source": [
        "'y' in ['x','y','z']"
      ],
      "execution_count": null,
      "outputs": [
        {
          "output_type": "execute_result",
          "data": {
            "text/plain": [
              "True"
            ]
          },
          "metadata": {},
          "execution_count": 95
        }
      ]
    },
    {
      "cell_type": "code",
      "metadata": {
        "id": "GlcDj_bHDcl2"
      },
      "source": [
        "# Tuple unpacking\n",
        "lst = [(1, 2), (3, 4), (5, 6)]"
      ],
      "execution_count": null,
      "outputs": []
    },
    {
      "cell_type": "code",
      "metadata": {
        "id": "XmU6QzEjDcl2",
        "colab": {
          "base_uri": "https://localhost:8080/"
        },
        "outputId": "73ff2308-7625-4e07-c75d-5734bf967ad1"
      },
      "source": [
        "lst"
      ],
      "execution_count": null,
      "outputs": [
        {
          "output_type": "execute_result",
          "data": {
            "text/plain": [
              "[(1, 2), (3, 4), (5, 6)]"
            ]
          },
          "metadata": {},
          "execution_count": 97
        }
      ]
    },
    {
      "cell_type": "code",
      "metadata": {
        "id": "p8qqIm_4Dcl2",
        "colab": {
          "base_uri": "https://localhost:8080/"
        },
        "outputId": "1d6a1b23-1525-4fcb-9319-8fa45b72256c"
      },
      "source": [
        "for tupla in lst:\n",
        "    print(tupla)"
      ],
      "execution_count": null,
      "outputs": [
        {
          "output_type": "stream",
          "name": "stdout",
          "text": [
            "(1, 2)\n",
            "(3, 4)\n",
            "(5, 6)\n"
          ]
        }
      ]
    },
    {
      "cell_type": "code",
      "metadata": {
        "id": "uuq_QEWADcl3",
        "colab": {
          "base_uri": "https://localhost:8080/"
        },
        "outputId": "391fe667-bccb-490d-81b0-6a0ea64d7319"
      },
      "source": [
        "for (a, b) in lst:\n",
        "    print(b)"
      ],
      "execution_count": null,
      "outputs": [
        {
          "output_type": "stream",
          "name": "stdout",
          "text": [
            "2\n",
            "4\n",
            "6\n"
          ]
        }
      ]
    },
    {
      "cell_type": "code",
      "metadata": {
        "id": "HYmNZec7Dcl3",
        "colab": {
          "base_uri": "https://localhost:8080/"
        },
        "outputId": "e763e4aa-9183-4339-ddbe-e34430a347ec"
      },
      "source": [
        "for (a, b) in lst:\n",
        "    print('{} está asociado con {}'.format(a,b))"
      ],
      "execution_count": null,
      "outputs": [
        {
          "output_type": "stream",
          "name": "stdout",
          "text": [
            "1 está asociado con 2\n",
            "3 está asociado con 4\n",
            "5 está asociado con 6\n"
          ]
        }
      ]
    },
    {
      "cell_type": "code",
      "metadata": {
        "id": "qOwO-InzDcl4",
        "colab": {
          "base_uri": "https://localhost:8080/"
        },
        "outputId": "5215df0b-fd76-4493-eaf8-fa86fc7f6c32"
      },
      "source": [
        "# los paréntesis son opcionales\n",
        "for a, b in lst:\n",
        "    print('{} está asociado con {}'.format(a,b))"
      ],
      "execution_count": null,
      "outputs": [
        {
          "output_type": "stream",
          "name": "stdout",
          "text": [
            "1 está asociado con 2\n",
            "3 está asociado con 4\n",
            "5 está asociado con 6\n"
          ]
        }
      ]
    },
    {
      "cell_type": "markdown",
      "metadata": {
        "id": "e0I1us8AtyVp"
      },
      "source": [
        "## Quiz"
      ]
    },
    {
      "cell_type": "markdown",
      "metadata": {
        "id": "P5gjuBL2uwQ5"
      },
      "source": [
        "### Genere una lista con los primeros 4 elementos de la serie geométrica\n",
        "$$ s_n = \\frac{1}{2^{n+1}}, n=\\{0,1,2,3\\} $$\n",
        "$$ s_n = \\sum_{n=0}^{4} \\frac{1}{2^{n+1}} = \\frac{1}{2} + \\frac{1}{4} + \\frac{1}{8} + \\frac{1}{16} = 0.9375$$"
      ]
    },
    {
      "cell_type": "markdown",
      "metadata": {
        "id": "A2blUud1MoA-"
      },
      "source": [
        "Modifique la función gen_serie() para que retorne los primeros 4 elementos de la serie."
      ]
    },
    {
      "cell_type": "code",
      "metadata": {
        "id": "GVoibZrHFpLN"
      },
      "source": [
        "def gen_serie():\n",
        "  \"\"\"\n",
        "  Retorna:\n",
        "     Lista con los primeros 4 elementos de la serie\n",
        "  \"\"\"\n",
        "  # en la siguiente línea genere la lista l con los primero 4 elementos requeridos.\n",
        "\n",
        "  #l = ### ESCRIBA SU RESPUESTA AQUI - REEMPLACE EL COMENTARIO\n",
        "  return l\n",
        "\n"
      ],
      "execution_count": null,
      "outputs": []
    },
    {
      "cell_type": "code",
      "metadata": {
        "id": "Ma9eUJUjFZCq",
        "colab": {
          "base_uri": "https://localhost:8080/"
        },
        "outputId": "e9c65889-e238-4a3a-f509-1d7b2daf8b95"
      },
      "source": [
        "# Use esta celda para verificar que su solución sea correcta\n",
        "\n",
        "import numpy as np\n",
        "\n",
        "def test_gen_serie():\n",
        "  try:\n",
        "    serie = gen_serie()\n",
        "    serie = np.asarray(serie)\n",
        "  except:\n",
        "    raise Exception(\"Error en la función\")\n",
        "  #Validar la respuesta\n",
        "  if np.abs(serie.sum()-0.9375) > 0.1:\n",
        "    raise Exception(\"El calculo de los primeros 4 elementos está mal!\")\n",
        "  return True\n",
        "\n",
        "test_gen_serie()"
      ],
      "execution_count": null,
      "outputs": [
        {
          "output_type": "execute_result",
          "data": {
            "text/plain": [
              "True"
            ]
          },
          "metadata": {},
          "execution_count": 106
        }
      ]
    },
    {
      "cell_type": "code",
      "metadata": {
        "id": "edelrBBxM9rS",
        "colab": {
          "base_uri": "https://localhost:8080/"
        },
        "outputId": "967a3196-40bf-409e-910e-3ccd185976e1"
      },
      "source": [
        "gen_serie()"
      ],
      "execution_count": null,
      "outputs": [
        {
          "output_type": "execute_result",
          "data": {
            "text/plain": [
              "[0.5, 0.25, 0.125, 0.0625]"
            ]
          },
          "metadata": {},
          "execution_count": 107
        }
      ]
    },
    {
      "cell_type": "code",
      "source": [],
      "metadata": {
        "id": "4WpzF6qK8jJN"
      },
      "execution_count": null,
      "outputs": []
    }
  ]
}