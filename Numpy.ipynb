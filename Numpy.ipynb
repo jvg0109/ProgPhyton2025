{
  "nbformat": 4,
  "nbformat_minor": 0,
  "metadata": {
    "colab": {
      "provenance": [],
      "include_colab_link": true
    },
    "kernelspec": {
      "display_name": "Python 3",
      "language": "python",
      "name": "python3"
    }
  },
  "cells": [
    {
      "cell_type": "markdown",
      "metadata": {
        "id": "view-in-github",
        "colab_type": "text"
      },
      "source": [
        "<a href=\"https://colab.research.google.com/github/jvg0109/ProgPhyton2025/blob/main/Numpy.ipynb\" target=\"_parent\"><img src=\"https://colab.research.google.com/assets/colab-badge.svg\" alt=\"Open In Colab\"/></a>"
      ]
    },
    {
      "cell_type": "markdown",
      "metadata": {
        "id": "d5cRhUl1o8SZ"
      },
      "source": [
        "# NumPy\n",
        "\n",
        "**NumPy: Librería de álgebra lineal para Python.**\n",
        "\n",
        "NumPy es el paquete fundamental para la computación científica con Python. Contiene, entre otras cosas:\n",
        "* una poderoso tipo de datos de matrices N-dimensionales: arreglos numpy\n",
        "* funciones sofisticadas (broadcast)\n",
        "* herramientas para integrar código C/C ++ y Fortran\n",
        "* funcionalidades útiles de álgebra lineal, transformada de Fourier, números aleatorios\n",
        "\n",
        "Además de sus usos científicos obvios, NumPy también se puede usar como un contenedor multidimensional eficiente de datos genéricos. Se pueden definir tipos de datos arbitrarios. Esto permite a NumPy integrarse de manera rápida y sin problemas con una amplia variedad de bases de datos.\n",
        "\n",
        "NumPy también es muy rápido (ya que usa librerías de lenguaje C). Para ver más información acerca de por qué usar Arreglos en lugar de Listas, ver [este post de StackOverflow](http://stackoverflow.com/questions/993984/why-numpy-instead-of-python-lists).\n"
      ]
    },
    {
      "cell_type": "markdown",
      "metadata": {
        "id": "tqQ-prB2o8Sb"
      },
      "source": [
        "## Instalación\n",
        "\n",
        "**Se recomienda instalar Python usando la distribución Anaconda para asegurarse que todas las dependencias (como las librerías de álgebra lineal) se instalarán mediante el uso del comando \"conda install\". Si tiene Anaconda, instale NumPy simplemente escribiendo el siguiente comando en una terminal:**\n",
        "    \n",
        "    conda install numpy\n",
        "    \n",
        "**Si no tiene la distribución Anaconda, ejecute el comando \"pip install numpy\". Si no tiene éxito, ver: [la documentación oficial de Numpy para más instrucciones de instalación.](http://docs.scipy.org/doc/numpy-1.10.1/user/install.html)**"
      ]
    },
    {
      "cell_type": "markdown",
      "metadata": {
        "id": "de0P9ZAFo8Sc"
      },
      "source": [
        "## Usando NumPy\n",
        "\n",
        "Una vez se haya instalado NumPy, se puede importar como una librería:"
      ]
    },
    {
      "cell_type": "code",
      "metadata": {
        "id": "shLHBZRto8Sd"
      },
      "source": [
        "import numpy as np"
      ],
      "execution_count": null,
      "outputs": []
    },
    {
      "cell_type": "markdown",
      "metadata": {
        "id": "tYCUoAvko8Si"
      },
      "source": [
        "**En este notebook trabajaremos con:**\n",
        "\n",
        "* Arreglos NumPy: vectores, matrices\n",
        "* Funciones para generar arreglos\n",
        "* Generación de arreglos con números aleatorios\n",
        "* Métodos y atributos de los arreglos\n",
        "* Índices en arreglos numpy\n",
        "* Operaciones con arreglos\n",
        "* Funciones para trabajar con arreglos\n",
        "\n",
        "\n",
        "# Arreglos NumPy\n",
        "\n",
        "Los arreglos de NumPy serán la principal funcionalidad que usaremos durante el curso.\n",
        "\n",
        "**Tipos de arreglos:**\n",
        "* Vectores: 1-d\n",
        "* Matrices: 2-d (aunque podrían tener una sola fila o una sola columna)\n",
        "\n",
        "\n",
        "\n",
        "## Creación de Arreglos NumPy (Arrays)\n",
        "\n",
        "### A partir de Listas de Python\n",
        "\n",
        "Podemos crear un Array conviertiendo una lista o lista de listas en un arreglo de NumPy:"
      ]
    },
    {
      "cell_type": "code",
      "metadata": {
        "id": "RZqORKZwo8Sj",
        "colab": {
          "base_uri": "https://localhost:8080/"
        },
        "outputId": "5beee4b0-8281-468a-b7fc-a6d4baae39ba"
      },
      "source": [
        "lista = [1,2,3]\n",
        "lista*3"
      ],
      "execution_count": null,
      "outputs": [
        {
          "output_type": "execute_result",
          "data": {
            "text/plain": [
              "[1, 2, 3, 1, 2, 3, 1, 2, 3]"
            ]
          },
          "metadata": {},
          "execution_count": 2
        }
      ]
    },
    {
      "cell_type": "code",
      "metadata": {
        "id": "lubnZb-3o8Sn",
        "colab": {
          "base_uri": "https://localhost:8080/"
        },
        "outputId": "e6218075-d89c-46fd-e293-1053d1b5c99a"
      },
      "source": [
        "np.array(lista)"
      ],
      "execution_count": null,
      "outputs": [
        {
          "output_type": "execute_result",
          "data": {
            "text/plain": [
              "array([1, 2, 3])"
            ]
          },
          "metadata": {},
          "execution_count": 3
        }
      ]
    },
    {
      "cell_type": "code",
      "metadata": {
        "id": "5y8i9D9No8Sq"
      },
      "source": [
        "arr = np.array(lista)"
      ],
      "execution_count": null,
      "outputs": []
    },
    {
      "cell_type": "code",
      "metadata": {
        "id": "JeIxSQBto8St",
        "colab": {
          "base_uri": "https://localhost:8080/"
        },
        "outputId": "6ea0df16-21ee-4c67-ccf8-271c2e779e0e"
      },
      "source": [
        "arr*3"
      ],
      "execution_count": null,
      "outputs": [
        {
          "output_type": "execute_result",
          "data": {
            "text/plain": [
              "array([3, 6, 9])"
            ]
          },
          "metadata": {},
          "execution_count": 5
        }
      ]
    },
    {
      "cell_type": "code",
      "metadata": {
        "id": "ftBDpcgao8Sx",
        "colab": {
          "base_uri": "https://localhost:8080/"
        },
        "outputId": "7e69259f-2078-41dc-a99e-bdb1a34c150d"
      },
      "source": [
        "matriz = [[1,2,3],[4,5,6],[7,8,9]]\n",
        "matriz"
      ],
      "execution_count": null,
      "outputs": [
        {
          "output_type": "execute_result",
          "data": {
            "text/plain": [
              "[[1, 2, 3], [4, 5, 6], [7, 8, 9]]"
            ]
          },
          "metadata": {},
          "execution_count": 6
        }
      ]
    },
    {
      "cell_type": "code",
      "metadata": {
        "id": "WUb3G4PRo8S0",
        "colab": {
          "base_uri": "https://localhost:8080/"
        },
        "outputId": "a9f0be4c-a976-480f-894d-689e1c1707e5"
      },
      "source": [
        "np.array(matriz)"
      ],
      "execution_count": null,
      "outputs": [
        {
          "output_type": "execute_result",
          "data": {
            "text/plain": [
              "array([[1, 2, 3],\n",
              "       [4, 5, 6],\n",
              "       [7, 8, 9]])"
            ]
          },
          "metadata": {},
          "execution_count": 7
        }
      ]
    },
    {
      "cell_type": "markdown",
      "metadata": {
        "id": "yj6kiI5Mo8S1"
      },
      "source": [
        "# Funciones para generar arreglos\n",
        "\n",
        "Existen varias funciones para generar Arreglos:"
      ]
    },
    {
      "cell_type": "markdown",
      "metadata": {
        "id": "yrhAsezso8S3"
      },
      "source": [
        "## arange\n",
        "\n",
        "Funciona de forma similar al método \"range\" de Python pero devuelve un arreglo."
      ]
    },
    {
      "cell_type": "code",
      "metadata": {
        "id": "siFywI4Jo8S3",
        "colab": {
          "base_uri": "https://localhost:8080/"
        },
        "outputId": "9e3292ee-c3d9-4e77-a07e-3373324f3d1c"
      },
      "source": [
        "np.arange(0,10)"
      ],
      "execution_count": null,
      "outputs": [
        {
          "output_type": "execute_result",
          "data": {
            "text/plain": [
              "array([0, 1, 2, 3, 4, 5, 6, 7, 8, 9])"
            ]
          },
          "metadata": {},
          "execution_count": 8
        }
      ]
    },
    {
      "cell_type": "code",
      "metadata": {
        "id": "4uQlxExWo8S5",
        "colab": {
          "base_uri": "https://localhost:8080/"
        },
        "outputId": "2f0a5a21-bba1-4587-f8c2-5d97a67012ea"
      },
      "source": [
        "np.arange(0,11,2)"
      ],
      "execution_count": null,
      "outputs": [
        {
          "output_type": "execute_result",
          "data": {
            "text/plain": [
              "array([ 0,  2,  4,  6,  8, 10])"
            ]
          },
          "metadata": {},
          "execution_count": 9
        }
      ]
    },
    {
      "cell_type": "markdown",
      "metadata": {
        "id": "4Nxy0tu_o8S8"
      },
      "source": [
        "## ceros y unos (zeros/ones)\n",
        "\n",
        "Generan arreglos de ceros (zeros) y unos (ones)."
      ]
    },
    {
      "cell_type": "code",
      "metadata": {
        "id": "pYtIVKBlo8S8",
        "colab": {
          "base_uri": "https://localhost:8080/"
        },
        "outputId": "8a02db92-28f8-4789-cecf-671c81056fc1"
      },
      "source": [
        "np.zeros(30)"
      ],
      "execution_count": null,
      "outputs": [
        {
          "output_type": "execute_result",
          "data": {
            "text/plain": [
              "array([0., 0., 0., 0., 0., 0., 0., 0., 0., 0., 0., 0., 0., 0., 0., 0., 0.,\n",
              "       0., 0., 0., 0., 0., 0., 0., 0., 0., 0., 0., 0., 0.])"
            ]
          },
          "metadata": {},
          "execution_count": 10
        }
      ]
    },
    {
      "cell_type": "code",
      "metadata": {
        "id": "PtQfsxH_o8S_",
        "colab": {
          "base_uri": "https://localhost:8080/"
        },
        "outputId": "99ff0af0-0ac7-4bfe-bc59-7eea8cc85054"
      },
      "source": [
        "np.zeros((5,15))"
      ],
      "execution_count": null,
      "outputs": [
        {
          "output_type": "execute_result",
          "data": {
            "text/plain": [
              "array([[0., 0., 0., 0., 0., 0., 0., 0., 0., 0., 0., 0., 0., 0., 0.],\n",
              "       [0., 0., 0., 0., 0., 0., 0., 0., 0., 0., 0., 0., 0., 0., 0.],\n",
              "       [0., 0., 0., 0., 0., 0., 0., 0., 0., 0., 0., 0., 0., 0., 0.],\n",
              "       [0., 0., 0., 0., 0., 0., 0., 0., 0., 0., 0., 0., 0., 0., 0.],\n",
              "       [0., 0., 0., 0., 0., 0., 0., 0., 0., 0., 0., 0., 0., 0., 0.]])"
            ]
          },
          "metadata": {},
          "execution_count": 11
        }
      ]
    },
    {
      "cell_type": "code",
      "metadata": {
        "id": "Y6bw3Hc-o8TA",
        "colab": {
          "base_uri": "https://localhost:8080/"
        },
        "outputId": "87726f71-1a9e-41d7-8a3d-de89345dfa5d"
      },
      "source": [
        "np.zeros((2,3))"
      ],
      "execution_count": null,
      "outputs": [
        {
          "output_type": "execute_result",
          "data": {
            "text/plain": [
              "array([[0., 0., 0.],\n",
              "       [0., 0., 0.]])"
            ]
          },
          "metadata": {},
          "execution_count": 12
        }
      ]
    },
    {
      "cell_type": "code",
      "metadata": {
        "id": "GIL4SU5Bo8TD",
        "colab": {
          "base_uri": "https://localhost:8080/"
        },
        "outputId": "065f31d6-5bbd-4fec-df7e-d7d58b0e0bc7"
      },
      "source": [
        "np.zeros((2,3), dtype='int')"
      ],
      "execution_count": null,
      "outputs": [
        {
          "output_type": "execute_result",
          "data": {
            "text/plain": [
              "array([[0, 0, 0],\n",
              "       [0, 0, 0]])"
            ]
          },
          "metadata": {},
          "execution_count": 13
        }
      ]
    },
    {
      "cell_type": "code",
      "metadata": {
        "id": "njn9VApmo8TF",
        "colab": {
          "base_uri": "https://localhost:8080/"
        },
        "outputId": "b62a1658-b678-4958-c614-0c93f604ad7f"
      },
      "source": [
        "np.ones(3)"
      ],
      "execution_count": null,
      "outputs": [
        {
          "output_type": "execute_result",
          "data": {
            "text/plain": [
              "array([1., 1., 1.])"
            ]
          },
          "metadata": {},
          "execution_count": 14
        }
      ]
    },
    {
      "cell_type": "code",
      "metadata": {
        "id": "0W6DdA9fo8TG",
        "colab": {
          "base_uri": "https://localhost:8080/"
        },
        "outputId": "57d1754c-bc6d-4322-cf2d-45d50760ee43"
      },
      "source": [
        "np.ones((3,5))"
      ],
      "execution_count": null,
      "outputs": [
        {
          "output_type": "execute_result",
          "data": {
            "text/plain": [
              "array([[1., 1., 1., 1., 1.],\n",
              "       [1., 1., 1., 1., 1.],\n",
              "       [1., 1., 1., 1., 1.]])"
            ]
          },
          "metadata": {},
          "execution_count": 15
        }
      ]
    },
    {
      "cell_type": "code",
      "metadata": {
        "colab": {
          "base_uri": "https://localhost:8080/"
        },
        "id": "ZH8nPx46U53F",
        "outputId": "fd3eab3a-7d1b-49ff-f361-901b4f81736c"
      },
      "source": [
        "np.ones(50)\n"
      ],
      "execution_count": null,
      "outputs": [
        {
          "output_type": "execute_result",
          "data": {
            "text/plain": [
              "array([3., 3., 3., 3., 3., 3., 3., 3., 3., 3., 3., 3., 3., 3., 3., 3., 3.,\n",
              "       3., 3., 3., 3., 3., 3., 3., 3., 3., 3., 3., 3., 3., 3., 3., 3., 3.,\n",
              "       3., 3., 3., 3., 3., 3., 3., 3., 3., 3., 3., 3., 3., 3., 3., 3.])"
            ]
          },
          "metadata": {},
          "execution_count": 17
        }
      ]
    },
    {
      "cell_type": "markdown",
      "metadata": {
        "id": "NhfcJdSdo8TI"
      },
      "source": [
        "## linspace\n",
        "Retorna un vector (arreglo de una dimensión) desde un número (primer parámetro) hasta otro (segundo parámetro) separados entre si por la misma distancia. El número de elementos está determinado por el tercer parámetro."
      ]
    },
    {
      "cell_type": "code",
      "metadata": {
        "id": "uwh2cx8Vo8TJ",
        "colab": {
          "base_uri": "https://localhost:8080/"
        },
        "outputId": "c8bf62d7-fc77-4940-d9a6-ca0a0c5f0fd7"
      },
      "source": [
        "np.linspace(0,10,3)"
      ],
      "execution_count": null,
      "outputs": [
        {
          "output_type": "execute_result",
          "data": {
            "text/plain": [
              "array([ 0.,  5., 10.])"
            ]
          },
          "metadata": {},
          "execution_count": 18
        }
      ]
    },
    {
      "cell_type": "code",
      "metadata": {
        "id": "WBctrY3vo8TM",
        "colab": {
          "base_uri": "https://localhost:8080/"
        },
        "outputId": "2690e151-c53b-41a0-c407-49d59fb900f0"
      },
      "source": [
        "np.linspace(0,10,6)"
      ],
      "execution_count": null,
      "outputs": [
        {
          "output_type": "execute_result",
          "data": {
            "text/plain": [
              "array([ 0.,  2.,  4.,  6.,  8., 10.])"
            ]
          },
          "metadata": {},
          "execution_count": 19
        }
      ]
    },
    {
      "cell_type": "code",
      "metadata": {
        "id": "bgQtcejRo8TN",
        "colab": {
          "base_uri": "https://localhost:8080/"
        },
        "outputId": "60c4a603-43e6-481f-fdf4-35ff17e8defe"
      },
      "source": [
        "np.linspace(0,10,20)"
      ],
      "execution_count": null,
      "outputs": [
        {
          "output_type": "execute_result",
          "data": {
            "text/plain": [
              "array([ 0.        ,  0.52631579,  1.05263158,  1.57894737,  2.10526316,\n",
              "        2.63157895,  3.15789474,  3.68421053,  4.21052632,  4.73684211,\n",
              "        5.26315789,  5.78947368,  6.31578947,  6.84210526,  7.36842105,\n",
              "        7.89473684,  8.42105263,  8.94736842,  9.47368421, 10.        ])"
            ]
          },
          "metadata": {},
          "execution_count": 20
        }
      ]
    },
    {
      "cell_type": "code",
      "metadata": {
        "id": "EqlBjqWso8TP",
        "colab": {
          "base_uri": "https://localhost:8080/"
        },
        "outputId": "b0f28692-92da-4412-ed7f-7f6c9bc38ab7"
      },
      "source": [
        "np.linspace(0,10,100)"
      ],
      "execution_count": null,
      "outputs": [
        {
          "output_type": "execute_result",
          "data": {
            "text/plain": [
              "array([ 0.        ,  0.1010101 ,  0.2020202 ,  0.3030303 ,  0.4040404 ,\n",
              "        0.50505051,  0.60606061,  0.70707071,  0.80808081,  0.90909091,\n",
              "        1.01010101,  1.11111111,  1.21212121,  1.31313131,  1.41414141,\n",
              "        1.51515152,  1.61616162,  1.71717172,  1.81818182,  1.91919192,\n",
              "        2.02020202,  2.12121212,  2.22222222,  2.32323232,  2.42424242,\n",
              "        2.52525253,  2.62626263,  2.72727273,  2.82828283,  2.92929293,\n",
              "        3.03030303,  3.13131313,  3.23232323,  3.33333333,  3.43434343,\n",
              "        3.53535354,  3.63636364,  3.73737374,  3.83838384,  3.93939394,\n",
              "        4.04040404,  4.14141414,  4.24242424,  4.34343434,  4.44444444,\n",
              "        4.54545455,  4.64646465,  4.74747475,  4.84848485,  4.94949495,\n",
              "        5.05050505,  5.15151515,  5.25252525,  5.35353535,  5.45454545,\n",
              "        5.55555556,  5.65656566,  5.75757576,  5.85858586,  5.95959596,\n",
              "        6.06060606,  6.16161616,  6.26262626,  6.36363636,  6.46464646,\n",
              "        6.56565657,  6.66666667,  6.76767677,  6.86868687,  6.96969697,\n",
              "        7.07070707,  7.17171717,  7.27272727,  7.37373737,  7.47474747,\n",
              "        7.57575758,  7.67676768,  7.77777778,  7.87878788,  7.97979798,\n",
              "        8.08080808,  8.18181818,  8.28282828,  8.38383838,  8.48484848,\n",
              "        8.58585859,  8.68686869,  8.78787879,  8.88888889,  8.98989899,\n",
              "        9.09090909,  9.19191919,  9.29292929,  9.39393939,  9.49494949,\n",
              "        9.5959596 ,  9.6969697 ,  9.7979798 ,  9.8989899 , 10.        ])"
            ]
          },
          "metadata": {},
          "execution_count": 21
        }
      ]
    },
    {
      "cell_type": "markdown",
      "metadata": {
        "id": "7WUmE4uQ8ZmY"
      },
      "source": [
        "##Repaso de conceptos básicos de Álgebra Lineal\n",
        "https://stanford.edu/~shervine/l/es/teaching/cs-229/repaso-algebra-lineal-calculo"
      ]
    },
    {
      "cell_type": "markdown",
      "metadata": {
        "id": "3MhLF_pSo8TQ"
      },
      "source": [
        "## eye\n",
        "\n",
        "Crea una matriz identidad del tamaño indicado en el argumento."
      ]
    },
    {
      "cell_type": "code",
      "metadata": {
        "id": "qt7C4pDZo8TQ",
        "colab": {
          "base_uri": "https://localhost:8080/"
        },
        "outputId": "290fcc95-99c3-4f24-c8c5-bd2c24bad09d"
      },
      "source": [
        "np.eye(4)"
      ],
      "execution_count": null,
      "outputs": [
        {
          "output_type": "execute_result",
          "data": {
            "text/plain": [
              "array([[1., 0., 0., 0.],\n",
              "       [0., 1., 0., 0.],\n",
              "       [0., 0., 1., 0.],\n",
              "       [0., 0., 0., 1.]])"
            ]
          },
          "metadata": {},
          "execution_count": 23
        }
      ]
    },
    {
      "cell_type": "code",
      "metadata": {
        "id": "HqVPm0Ido8TR",
        "colab": {
          "base_uri": "https://localhost:8080/"
        },
        "outputId": "5e5693ce-8b83-4d69-85a4-d66fd1aa5fdb"
      },
      "source": [
        "I = np.eye(10)\n",
        "I"
      ],
      "execution_count": null,
      "outputs": [
        {
          "output_type": "execute_result",
          "data": {
            "text/plain": [
              "array([[1., 0., 0., 0., 0., 0., 0., 0., 0., 0.],\n",
              "       [0., 1., 0., 0., 0., 0., 0., 0., 0., 0.],\n",
              "       [0., 0., 1., 0., 0., 0., 0., 0., 0., 0.],\n",
              "       [0., 0., 0., 1., 0., 0., 0., 0., 0., 0.],\n",
              "       [0., 0., 0., 0., 1., 0., 0., 0., 0., 0.],\n",
              "       [0., 0., 0., 0., 0., 1., 0., 0., 0., 0.],\n",
              "       [0., 0., 0., 0., 0., 0., 1., 0., 0., 0.],\n",
              "       [0., 0., 0., 0., 0., 0., 0., 1., 0., 0.],\n",
              "       [0., 0., 0., 0., 0., 0., 0., 0., 1., 0.],\n",
              "       [0., 0., 0., 0., 0., 0., 0., 0., 0., 1.]])"
            ]
          },
          "metadata": {},
          "execution_count": 24
        }
      ]
    },
    {
      "cell_type": "markdown",
      "metadata": {
        "id": "mn5SoNTCo8TT"
      },
      "source": [
        "# Generación de números y arreglos de números aleatorios\n",
        "\n"
      ]
    },
    {
      "cell_type": "markdown",
      "metadata": {
        "id": "YNyU6F0RfL9Q"
      },
      "source": [
        "Los números aleatorios son importantísimos en computación. Como veremos, NumPy ofrece funciones para generar datos aleatorios simples y basados en algunas distribuciones estadísticas."
      ]
    },
    {
      "cell_type": "markdown",
      "metadata": {
        "id": "SwzG6x1Ef6dj"
      },
      "source": [
        "## Crear un número aleatorio"
      ]
    },
    {
      "cell_type": "code",
      "metadata": {
        "id": "r4YCxxX5fLP-",
        "colab": {
          "base_uri": "https://localhost:8080/"
        },
        "outputId": "132edcfc-ccca-4c05-af26-9861373eb059"
      },
      "source": [
        "# Sin argumentos se general un número aleatorio\n",
        "np.random.rand()"
      ],
      "execution_count": null,
      "outputs": [
        {
          "output_type": "execute_result",
          "data": {
            "text/plain": [
              "0.5101446637856443"
            ]
          },
          "metadata": {},
          "execution_count": 29
        }
      ]
    },
    {
      "cell_type": "markdown",
      "metadata": {
        "id": "d8BQTjVXgA_5"
      },
      "source": [
        "## Crear un arreglo de números aleatorios\n",
        "\n",
        "Numpy también ofrece varias maneras de crear arreglos de número aleatorios:\n"
      ]
    },
    {
      "cell_type": "markdown",
      "metadata": {
        "id": "CGBfbFSS1GFI"
      },
      "source": [
        "### Seed\n",
        "Semilla para números aleatorios"
      ]
    },
    {
      "cell_type": "code",
      "metadata": {
        "id": "WpIVXhH91ERj"
      },
      "source": [
        "np.random.seed(10)"
      ],
      "execution_count": null,
      "outputs": []
    },
    {
      "cell_type": "markdown",
      "metadata": {
        "id": "BhG5MIsagSGM"
      },
      "source": [
        "### Rand\n",
        "\n",
        "Crea un arreglo del tamaño dado y lo llena con una muestra aleatoria de números con una distribución uniforme en el rango [0, 1)."
      ]
    },
    {
      "cell_type": "code",
      "metadata": {
        "id": "AQoLTyJHgGtW",
        "colab": {
          "base_uri": "https://localhost:8080/"
        },
        "outputId": "b41970cb-f447-4027-bbdd-a72d555a739a"
      },
      "source": [
        "np.random.rand(7)  # Un array de 7 elementos"
      ],
      "execution_count": null,
      "outputs": [
        {
          "output_type": "execute_result",
          "data": {
            "text/plain": [
              "array([0.81262096, 0.61252607, 0.72175532, 0.29187607, 0.91777412,\n",
              "       0.71457578, 0.54254437])"
            ]
          },
          "metadata": {},
          "execution_count": 34
        }
      ]
    },
    {
      "cell_type": "markdown",
      "metadata": {
        "id": "-rWPvPKqgsda"
      },
      "source": [
        "*En la distribución uniforme todos los números reales entre 0 y 1 tienen la misma probabilidad de ocurrencia.*"
      ]
    },
    {
      "cell_type": "code",
      "metadata": {
        "id": "sc-wayCsg0z4",
        "colab": {
          "base_uri": "https://localhost:8080/"
        },
        "outputId": "7f44d191-5a0e-4fd5-a4dd-4d346ffffb85"
      },
      "source": [
        "np.random.rand(5,5) # Una matriz cuadrada 5x5 de números aleatorios"
      ],
      "execution_count": null,
      "outputs": [
        {
          "output_type": "execute_result",
          "data": {
            "text/plain": [
              "array([[0.14217005, 0.37334076, 0.67413362, 0.44183317, 0.43401399],\n",
              "       [0.61776698, 0.51313824, 0.65039718, 0.60103895, 0.8052232 ],\n",
              "       [0.52164715, 0.90864888, 0.31923609, 0.09045935, 0.30070006],\n",
              "       [0.11398436, 0.82868133, 0.04689632, 0.62628715, 0.54758616],\n",
              "       [0.819287  , 0.19894754, 0.8568503 , 0.35165264, 0.75464769]])"
            ]
          },
          "metadata": {},
          "execution_count": 35
        }
      ]
    },
    {
      "cell_type": "code",
      "metadata": {
        "id": "jI93gPogo8TW",
        "colab": {
          "base_uri": "https://localhost:8080/"
        },
        "outputId": "2b3c47ba-7424-4cec-9e50-2eeb97c518ee"
      },
      "source": [
        "np.random.rand(2,4,2)"
      ],
      "execution_count": null,
      "outputs": [
        {
          "output_type": "execute_result",
          "data": {
            "text/plain": [
              "array([[[0.29596171, 0.88393648],\n",
              "        [0.32551164, 0.1650159 ],\n",
              "        [0.39252924, 0.09346037],\n",
              "        [0.82110566, 0.15115202]],\n",
              "\n",
              "       [[0.38411445, 0.94426071],\n",
              "        [0.98762547, 0.45630455],\n",
              "        [0.82612284, 0.25137413],\n",
              "        [0.59737165, 0.90283176]]])"
            ]
          },
          "metadata": {},
          "execution_count": 36
        }
      ]
    },
    {
      "cell_type": "markdown",
      "metadata": {
        "id": "JY49v72Mo8TY"
      },
      "source": [
        "### Randn\n",
        "Retorna un arreglo con una muestra de números aleatorios con una distribución normal (centrada en 0), a diferencia de rand cuya distribución es uniforme:\n",
        "\n",
        "\n",
        "![wget](https://drive.google.com/uc?export=view&id=1RRx5wqZeknAOTTUggdyeq0s7eOkptZDV)"
      ]
    },
    {
      "cell_type": "code",
      "metadata": {
        "id": "AMYy8X0do8TY",
        "colab": {
          "base_uri": "https://localhost:8080/"
        },
        "outputId": "7a5ac03f-1eea-494d-dd5d-f95e42422310"
      },
      "source": [
        "np.random.randn()"
      ],
      "execution_count": null,
      "outputs": [
        {
          "output_type": "execute_result",
          "data": {
            "text/plain": [
              "2.3947036648845352"
            ]
          },
          "metadata": {},
          "execution_count": 37
        }
      ]
    },
    {
      "cell_type": "code",
      "metadata": {
        "id": "oHYh-VbFo8Ta",
        "colab": {
          "base_uri": "https://localhost:8080/"
        },
        "outputId": "d41a3673-f50d-4aeb-fb65-81307382331c"
      },
      "source": [
        "np.random.randn(4,5)"
      ],
      "execution_count": null,
      "outputs": [
        {
          "output_type": "execute_result",
          "data": {
            "text/plain": [
              "array([[ 0.62060066, -1.04513254, -0.79800882,  1.98508459,  1.74481415],\n",
              "       [-1.85618548, -0.2227737 , -0.06584785, -2.13171211, -0.04883051],\n",
              "       [ 0.39334122,  0.21726515, -1.99439377,  1.10770823,  0.24454398],\n",
              "       [-0.06191203, -0.75389296,  0.71195902,  0.91826915, -0.48209314]])"
            ]
          },
          "metadata": {},
          "execution_count": 39
        }
      ]
    },
    {
      "cell_type": "markdown",
      "metadata": {
        "id": "CW1I2ymejuRk"
      },
      "source": [
        "Más info acerca de distribuciones de probabilidad en este [**enlace**](https://www.healthknowledge.org.uk/public-health-textbook/research-methods/1b-statistical-methods/statistical-distributions)."
      ]
    },
    {
      "cell_type": "markdown",
      "metadata": {
        "id": "ccn-jzC_o8Tb"
      },
      "source": [
        "### Randint\n",
        "Retorna números enteros aleatorios desde el primer parámetro (inclusive) hasta el segundo parámetro (excluido). Si tiene un tercer argumento, éste será el número de elementos que tendrá el arreglo de enteros aleatorios que retorna."
      ]
    },
    {
      "cell_type": "code",
      "metadata": {
        "id": "t8kD6r1Io8Tc",
        "colab": {
          "base_uri": "https://localhost:8080/"
        },
        "outputId": "7f9be2f0-5f2b-475b-9975-40a3c6d13c1f"
      },
      "source": [
        "# El primer parámetro es el límite inferior,\n",
        "# el segundo el límite superior\n",
        "# el tercero es el número de elementos. Por defecto es 1\n",
        "np.random.randint(1,100)"
      ],
      "execution_count": null,
      "outputs": [
        {
          "output_type": "execute_result",
          "data": {
            "text/plain": [
              "90"
            ]
          },
          "metadata": {},
          "execution_count": 41
        }
      ]
    },
    {
      "cell_type": "code",
      "metadata": {
        "id": "U1Fel4MVo8Tf",
        "colab": {
          "base_uri": "https://localhost:8080/"
        },
        "outputId": "de54b659-a306-4c08-c898-d54b2cbcb144"
      },
      "source": [
        "np.random.randint(1,100,12)"
      ],
      "execution_count": null,
      "outputs": [
        {
          "output_type": "execute_result",
          "data": {
            "text/plain": [
              "array([26, 79, 82, 86, 63, 14, 42, 34,  5, 88, 95, 29])"
            ]
          },
          "metadata": {},
          "execution_count": 42
        }
      ]
    },
    {
      "cell_type": "markdown",
      "metadata": {
        "id": "3Qur62puo8Tj"
      },
      "source": [
        "# Atributos y manipulación de los arreglos\n"
      ]
    },
    {
      "cell_type": "code",
      "metadata": {
        "id": "JK7yesDvo8Tk"
      },
      "source": [
        "arr = np.arange(6)\n",
        "ranarr = np.random.randint(0,50,10)\n",
        "ranarr2 = np.random.randint(0,50,(10,10))"
      ],
      "execution_count": null,
      "outputs": []
    },
    {
      "cell_type": "code",
      "source": [
        "arr"
      ],
      "metadata": {
        "colab": {
          "base_uri": "https://localhost:8080/"
        },
        "id": "DTUZ3nBX7W7U",
        "outputId": "a61b9528-f172-4120-80a6-bc038721d304"
      },
      "execution_count": null,
      "outputs": [
        {
          "output_type": "execute_result",
          "data": {
            "text/plain": [
              "array([0, 1, 2, 3, 4, 5])"
            ]
          },
          "metadata": {},
          "execution_count": 44
        }
      ]
    },
    {
      "cell_type": "code",
      "source": [
        "ranarr"
      ],
      "metadata": {
        "colab": {
          "base_uri": "https://localhost:8080/"
        },
        "id": "TqJlvkCv7WiE",
        "outputId": "f1847f9d-be40-43a0-90cc-7ce4a53546e6"
      },
      "execution_count": null,
      "outputs": [
        {
          "output_type": "execute_result",
          "data": {
            "text/plain": [
              "array([39, 27, 39,  9,  7, 22, 32,  3,  9, 12])"
            ]
          },
          "metadata": {},
          "execution_count": 45
        }
      ]
    },
    {
      "cell_type": "code",
      "source": [
        "ranarr2"
      ],
      "metadata": {
        "colab": {
          "base_uri": "https://localhost:8080/"
        },
        "id": "l6FRy4GY7f61",
        "outputId": "381294eb-65c8-47e0-e740-245058541e0e"
      },
      "execution_count": null,
      "outputs": [
        {
          "output_type": "execute_result",
          "data": {
            "text/plain": [
              "array([[ 4, 30,  6, 46, 10, 30,  9,  2,  1, 49],\n",
              "       [38, 42, 13, 11,  5, 29, 47, 20, 48, 42],\n",
              "       [34, 40, 46, 32, 30, 22,  5, 45, 18, 48],\n",
              "       [44,  1, 43, 13, 18, 27, 19, 37,  7, 24],\n",
              "       [39, 15,  6, 44,  9,  0, 44,  4, 14, 45],\n",
              "       [ 4,  6, 42,  9, 44, 48, 36, 26, 38, 20],\n",
              "       [ 9, 40, 16, 11, 39, 17, 39, 49, 33, 11],\n",
              "       [14, 42, 15, 21,  5, 48, 13, 40,  3, 31],\n",
              "       [12, 23, 17, 29,  5, 20,  5, 44,  6, 40],\n",
              "       [16, 10,  4, 22, 19, 21,  9, 35, 35, 48]])"
            ]
          },
          "metadata": {},
          "execution_count": 46
        }
      ]
    },
    {
      "cell_type": "markdown",
      "metadata": {
        "id": "KP3rNL2ykrdS"
      },
      "source": [
        "## Dimesionalidad del arreglo"
      ]
    },
    {
      "cell_type": "code",
      "metadata": {
        "id": "Zt3a20poG4Iu",
        "colab": {
          "base_uri": "https://localhost:8080/"
        },
        "outputId": "3ce9829d-d5e8-425e-db40-03943b9223fb"
      },
      "source": [
        "arr"
      ],
      "execution_count": null,
      "outputs": [
        {
          "output_type": "execute_result",
          "data": {
            "text/plain": [
              "array([0, 1, 2, 3, 4, 5])"
            ]
          },
          "metadata": {},
          "execution_count": 47
        }
      ]
    },
    {
      "cell_type": "code",
      "metadata": {
        "id": "cDbEng1no8Tm",
        "colab": {
          "base_uri": "https://localhost:8080/"
        },
        "outputId": "eedc2c7c-9327-414b-d9f4-08ecb35fc873"
      },
      "source": [
        "arr.ndim"
      ],
      "execution_count": null,
      "outputs": [
        {
          "output_type": "execute_result",
          "data": {
            "text/plain": [
              "1"
            ]
          },
          "metadata": {},
          "execution_count": 48
        }
      ]
    },
    {
      "cell_type": "code",
      "metadata": {
        "id": "FgZV4KHQk3xG",
        "colab": {
          "base_uri": "https://localhost:8080/"
        },
        "outputId": "4fbec5e9-2fa0-4536-b082-bd7adf4c0211"
      },
      "source": [
        "ranarr2.ndim"
      ],
      "execution_count": null,
      "outputs": [
        {
          "output_type": "execute_result",
          "data": {
            "text/plain": [
              "2"
            ]
          },
          "metadata": {},
          "execution_count": 49
        }
      ]
    },
    {
      "cell_type": "markdown",
      "metadata": {
        "id": "dxmxKknRo8T2"
      },
      "source": [
        "## Shape: Forma del arreglo\n",
        "\n",
        "Shape  es un atributo de los arreglos que indica las dimensiones del arreglo:"
      ]
    },
    {
      "cell_type": "code",
      "metadata": {
        "id": "aAMZLtw6o8T5",
        "colab": {
          "base_uri": "https://localhost:8080/"
        },
        "outputId": "f95b85b1-7ad9-4f91-e3ea-24901fe1341d"
      },
      "source": [
        "# Vector: 1-dimensión\n",
        "arr.shape"
      ],
      "execution_count": null,
      "outputs": [
        {
          "output_type": "execute_result",
          "data": {
            "text/plain": [
              "(6,)"
            ]
          },
          "metadata": {},
          "execution_count": 50
        }
      ]
    },
    {
      "cell_type": "code",
      "metadata": {
        "id": "VeOUI30yo8T8",
        "colab": {
          "base_uri": "https://localhost:8080/"
        },
        "outputId": "c4f8c891-5440-4a38-9a83-a146e405b01d"
      },
      "source": [
        "ranarr2.shape"
      ],
      "execution_count": null,
      "outputs": [
        {
          "output_type": "execute_result",
          "data": {
            "text/plain": [
              "(10, 10)"
            ]
          },
          "metadata": {},
          "execution_count": 51
        }
      ]
    },
    {
      "cell_type": "markdown",
      "metadata": {
        "id": "2_i4UD9Do8To"
      },
      "source": [
        "## Reshape\n",
        "Retorna un arreglo que contiene los mismos datos que el arreglo original pero con unas dimensiones nuevas."
      ]
    },
    {
      "cell_type": "code",
      "source": [
        "arr"
      ],
      "metadata": {
        "colab": {
          "base_uri": "https://localhost:8080/"
        },
        "id": "Zq99suHnOMt2",
        "outputId": "6106e09a-1192-45f5-a0d7-6e17518c9dcd"
      },
      "execution_count": null,
      "outputs": [
        {
          "output_type": "execute_result",
          "data": {
            "text/plain": [
              "array([0, 1, 2, 3, 4, 5])"
            ]
          },
          "metadata": {},
          "execution_count": 52
        }
      ]
    },
    {
      "cell_type": "code",
      "metadata": {
        "id": "EMYa0Mkko8T-",
        "colab": {
          "base_uri": "https://localhost:8080/"
        },
        "outputId": "7a58e3fc-1519-4669-a3ce-53620a69f923"
      },
      "source": [
        "arr.reshape(2,3)"
      ],
      "execution_count": null,
      "outputs": [
        {
          "output_type": "execute_result",
          "data": {
            "text/plain": [
              "array([[0, 1, 2],\n",
              "       [3, 4, 5]])"
            ]
          },
          "metadata": {},
          "execution_count": 53
        }
      ]
    },
    {
      "cell_type": "code",
      "metadata": {
        "id": "TSgbWL5Ao8Tp",
        "colab": {
          "base_uri": "https://localhost:8080/"
        },
        "outputId": "62997dc9-db55-459b-83db-909b45ed2b99"
      },
      "source": [
        "arr.reshape(3,2)"
      ],
      "execution_count": null,
      "outputs": [
        {
          "output_type": "execute_result",
          "data": {
            "text/plain": [
              "array([[0, 1],\n",
              "       [2, 3],\n",
              "       [4, 5]])"
            ]
          },
          "metadata": {},
          "execution_count": 54
        }
      ]
    },
    {
      "cell_type": "code",
      "metadata": {
        "id": "TURsZEp9o8Tq",
        "colab": {
          "base_uri": "https://localhost:8080/"
        },
        "outputId": "3d05f343-5619-49fe-ce84-c9cd2555c8ff"
      },
      "source": [
        "# Debe contener el mismo número de elementos que el arreglo original. De lo contrario se produce un error como aquí:\n",
        "arr.reshape(6, 1)"
      ],
      "execution_count": null,
      "outputs": [
        {
          "output_type": "execute_result",
          "data": {
            "text/plain": [
              "array([[0],\n",
              "       [1],\n",
              "       [2],\n",
              "       [3],\n",
              "       [4],\n",
              "       [5]])"
            ]
          },
          "metadata": {},
          "execution_count": 55
        }
      ]
    },
    {
      "cell_type": "markdown",
      "metadata": {
        "id": "4Mrn-jA4o8Tt"
      },
      "source": [
        "## max, min, argmax, argmin\n",
        "\n",
        "Estos métodos se usan para encontrar los valores máximos y mínimos en un arreglo. También, para encontrar los índices donde están ubicados mediante argmin/argmax."
      ]
    },
    {
      "cell_type": "code",
      "metadata": {
        "id": "MMkddbZXo8Tu",
        "colab": {
          "base_uri": "https://localhost:8080/"
        },
        "outputId": "da69d932-af2b-4e4f-d4a8-7acd104b9643"
      },
      "source": [
        "ranarr"
      ],
      "execution_count": null,
      "outputs": [
        {
          "output_type": "execute_result",
          "data": {
            "text/plain": [
              "array([39, 27, 39,  9,  7, 22, 32,  3,  9, 12])"
            ]
          },
          "metadata": {},
          "execution_count": 56
        }
      ]
    },
    {
      "cell_type": "code",
      "metadata": {
        "id": "eh8XJSv1o8Tw",
        "colab": {
          "base_uri": "https://localhost:8080/"
        },
        "outputId": "3c6f8df5-2dde-41a2-88e2-a95388368fb7"
      },
      "source": [
        "ranarr.max()"
      ],
      "execution_count": null,
      "outputs": [
        {
          "output_type": "execute_result",
          "data": {
            "text/plain": [
              "np.int64(39)"
            ]
          },
          "metadata": {},
          "execution_count": 57
        }
      ]
    },
    {
      "cell_type": "code",
      "metadata": {
        "id": "QAZvc5MVo8Tx",
        "colab": {
          "base_uri": "https://localhost:8080/"
        },
        "outputId": "d541d165-f1a8-461f-829d-69fc4c6edffa"
      },
      "source": [
        "ranarr.argmax()"
      ],
      "execution_count": null,
      "outputs": [
        {
          "output_type": "execute_result",
          "data": {
            "text/plain": [
              "np.int64(0)"
            ]
          },
          "metadata": {},
          "execution_count": 58
        }
      ]
    },
    {
      "cell_type": "code",
      "metadata": {
        "id": "daQhw821o8Tz",
        "colab": {
          "base_uri": "https://localhost:8080/"
        },
        "outputId": "ed4700e5-ce20-4e39-85bf-7d355c1b3573"
      },
      "source": [
        "ranarr.min()"
      ],
      "execution_count": null,
      "outputs": [
        {
          "output_type": "execute_result",
          "data": {
            "text/plain": [
              "np.int64(3)"
            ]
          },
          "metadata": {},
          "execution_count": 59
        }
      ]
    },
    {
      "cell_type": "code",
      "metadata": {
        "id": "W21muDZFo8T0",
        "colab": {
          "base_uri": "https://localhost:8080/"
        },
        "outputId": "5c47c671-a545-4b6a-c8ca-4bd82f252679"
      },
      "source": [
        "ranarr.argmin()"
      ],
      "execution_count": null,
      "outputs": [
        {
          "output_type": "execute_result",
          "data": {
            "text/plain": [
              "np.int64(7)"
            ]
          },
          "metadata": {},
          "execution_count": 60
        }
      ]
    },
    {
      "cell_type": "markdown",
      "metadata": {
        "id": "NkMV6_aDo8UE"
      },
      "source": [
        "## dtype\n",
        "\n",
        "También es posible averiguar el tipo de dato del arreglo usando el atributo dtype:"
      ]
    },
    {
      "cell_type": "code",
      "metadata": {
        "id": "EfLKpt5bo8UE",
        "colab": {
          "base_uri": "https://localhost:8080/"
        },
        "outputId": "8ce91625-0366-4c44-f1c3-37a777895110"
      },
      "source": [
        "arr.dtype"
      ],
      "execution_count": null,
      "outputs": [
        {
          "output_type": "execute_result",
          "data": {
            "text/plain": [
              "dtype('int64')"
            ]
          },
          "metadata": {},
          "execution_count": 61
        }
      ]
    },
    {
      "cell_type": "markdown",
      "metadata": {
        "id": "5elzmg60o8UG"
      },
      "source": [
        "## Importar directamente función de un módulo\n",
        "\n",
        "Para evitar tener que llamar el módulo y luego la función, por ejemplo:\n",
        "\n",
        "**np.random **\n",
        "\n",
        "Se puede importar la función directamente."
      ]
    },
    {
      "cell_type": "code",
      "metadata": {
        "id": "HW9khWuJo8UG"
      },
      "source": [
        "from numpy.random import randint"
      ],
      "execution_count": null,
      "outputs": []
    },
    {
      "cell_type": "code",
      "metadata": {
        "id": "dWCXsiKDo8UI",
        "colab": {
          "base_uri": "https://localhost:8080/"
        },
        "outputId": "a03246d5-1ddc-4c28-f508-3c41b3e21712"
      },
      "source": [
        "randint(500,1000)"
      ],
      "execution_count": null,
      "outputs": [
        {
          "output_type": "execute_result",
          "data": {
            "text/plain": [
              "686"
            ]
          },
          "metadata": {},
          "execution_count": 57
        }
      ]
    },
    {
      "cell_type": "markdown",
      "metadata": {
        "id": "sum5GwX3is_i"
      },
      "source": [
        "# NumPy Indices\n",
        "\n",
        "En un arreglo el índice es la posición de la secuencia para cada uno de los elementos."
      ]
    },
    {
      "cell_type": "code",
      "metadata": {
        "id": "3MxjdWvOis_n",
        "colab": {
          "base_uri": "https://localhost:8080/"
        },
        "outputId": "5423cc2c-c65c-47d7-f272-8f9386b8cc3e"
      },
      "source": [
        "vector1 = np.array([0,1,2,3,4,5,6,7,8,9,10])\n",
        "print(vector1)\n",
        "print('Elemento en posición 0: ', vector1[0])"
      ],
      "execution_count": null,
      "outputs": [
        {
          "output_type": "stream",
          "name": "stdout",
          "text": [
            "[ 0  1  2  3  4  5  6  7  8  9 10]\n",
            "Elemento en posición 0:  0\n"
          ]
        }
      ]
    },
    {
      "cell_type": "markdown",
      "metadata": {
        "id": "nVQIAfEsis_x"
      },
      "source": [
        "### Arreglos uni-dimesionales Vectores\n",
        "\n",
        "La forma más sencilla de seleccionar un elemento o un conjunto de ellos de un arreglo es muy similar a las listas de Python:"
      ]
    },
    {
      "cell_type": "code",
      "metadata": {
        "id": "APjsXkEgis_y",
        "colab": {
          "base_uri": "https://localhost:8080/"
        },
        "outputId": "3e90affd-2a78-470c-d050-c56827c31ce6"
      },
      "source": [
        "# Obtiene el elemento ubicado en el índice dado\n",
        "vector1[8]"
      ],
      "execution_count": null,
      "outputs": [
        {
          "output_type": "execute_result",
          "data": {
            "text/plain": [
              "np.int64(8)"
            ]
          },
          "metadata": {},
          "execution_count": 63
        }
      ]
    },
    {
      "cell_type": "code",
      "metadata": {
        "id": "TF3cYpmKis_6",
        "colab": {
          "base_uri": "https://localhost:8080/"
        },
        "outputId": "f5c55ca8-2753-4229-fc75-de28d1baaff3"
      },
      "source": [
        "# Obtiene los elementos en el rango dado (sin incluir el límite superior)\n",
        "vector1[1:5]"
      ],
      "execution_count": null,
      "outputs": [
        {
          "output_type": "execute_result",
          "data": {
            "text/plain": [
              "array([1, 2, 3, 4])"
            ]
          },
          "metadata": {},
          "execution_count": 64
        }
      ]
    },
    {
      "cell_type": "code",
      "metadata": {
        "id": "zXeiD1F0itAD",
        "colab": {
          "base_uri": "https://localhost:8080/"
        },
        "outputId": "f109f416-38b4-43b0-83a7-707451b86d11"
      },
      "source": [
        "# Obtiene los elementos desde el inicio hasta el elemento en la posición 7\n",
        "vector1[:7]"
      ],
      "execution_count": null,
      "outputs": [
        {
          "output_type": "execute_result",
          "data": {
            "text/plain": [
              "array([0, 1, 2, 3, 4, 5, 6])"
            ]
          },
          "metadata": {},
          "execution_count": 65
        }
      ]
    },
    {
      "cell_type": "code",
      "metadata": {
        "id": "v92kHgWvitAJ",
        "colab": {
          "base_uri": "https://localhost:8080/"
        },
        "outputId": "6aa1b503-db56-44ed-aba1-a02727b7cf61"
      },
      "source": [
        "# Obtener desde una posición hasta el final del erreglo\n",
        "print(vector1[5:])\n",
        "print(vector1[5:11])"
      ],
      "execution_count": null,
      "outputs": [
        {
          "output_type": "stream",
          "name": "stdout",
          "text": [
            "[ 5  6  7  8  9 10]\n",
            "[ 5  6  7  8  9 10]\n"
          ]
        }
      ]
    },
    {
      "cell_type": "code",
      "metadata": {
        "id": "vircGCrIitAO",
        "colab": {
          "base_uri": "https://localhost:8080/"
        },
        "outputId": "0034a78a-90ef-4416-aee9-af8255377b1a"
      },
      "source": [
        "# Obtener desde la posición inicial y hasta la 8, cada 2 posiciones\n",
        "vector1[0:8:2]"
      ],
      "execution_count": null,
      "outputs": [
        {
          "output_type": "execute_result",
          "data": {
            "text/plain": [
              "array([0, 2, 4, 6])"
            ]
          },
          "metadata": {},
          "execution_count": 67
        }
      ]
    },
    {
      "cell_type": "code",
      "metadata": {
        "id": "J6QbW2SBitAS",
        "colab": {
          "base_uri": "https://localhost:8080/"
        },
        "outputId": "bba1da13-02f5-4313-ece4-3d8d3f30abdc"
      },
      "source": [
        "# Obtener la última posición del arreglo\n",
        "vector1[-1]"
      ],
      "execution_count": null,
      "outputs": [
        {
          "output_type": "execute_result",
          "data": {
            "text/plain": [
              "np.int64(10)"
            ]
          },
          "metadata": {},
          "execution_count": 68
        }
      ]
    },
    {
      "cell_type": "code",
      "metadata": {
        "id": "gOpNoFJaitAU",
        "colab": {
          "base_uri": "https://localhost:8080/"
        },
        "outputId": "862adefb-6d80-44c8-d359-54f2277f75aa"
      },
      "source": [
        "# Obtener todo el arreglo pero en órden inverso\n",
        "vector1[::-1]"
      ],
      "execution_count": null,
      "outputs": [
        {
          "output_type": "execute_result",
          "data": {
            "text/plain": [
              "array([10,  9,  8,  7,  6,  5,  4,  3,  2,  1,  0])"
            ]
          },
          "metadata": {},
          "execution_count": 69
        }
      ]
    },
    {
      "cell_type": "markdown",
      "metadata": {
        "id": "4sREYsnLitAY"
      },
      "source": [
        "### Arreglos bi-dimensionales (Matrices)"
      ]
    },
    {
      "cell_type": "code",
      "metadata": {
        "id": "nVATzeKMitAY",
        "colab": {
          "base_uri": "https://localhost:8080/"
        },
        "outputId": "92d3e19c-4858-4307-a9f7-e38f119f1da3"
      },
      "source": [
        "# Inicialización\n",
        "arr2d = np.zeros((5,5))\n",
        "for i in range(5):\n",
        "    arr2d[i] = i\n",
        "\n",
        "arr2d"
      ],
      "execution_count": null,
      "outputs": [
        {
          "output_type": "execute_result",
          "data": {
            "text/plain": [
              "array([[0., 0., 0., 0., 0.],\n",
              "       [1., 1., 1., 1., 1.],\n",
              "       [2., 2., 2., 2., 2.],\n",
              "       [3., 3., 3., 3., 3.],\n",
              "       [4., 4., 4., 4., 4.]])"
            ]
          },
          "metadata": {},
          "execution_count": 70
        }
      ]
    },
    {
      "cell_type": "code",
      "metadata": {
        "id": "2U6NHk8MitAb",
        "colab": {
          "base_uri": "https://localhost:8080/"
        },
        "outputId": "683dbadb-0876-4758-f5e4-b51eeae8e1ce"
      },
      "source": [
        "matriz_a = np.array([[1,3],[2,8]])\n",
        "print(matriz_a)"
      ],
      "execution_count": null,
      "outputs": [
        {
          "output_type": "stream",
          "name": "stdout",
          "text": [
            "[[1 3]\n",
            " [2 8]]\n"
          ]
        }
      ]
    },
    {
      "cell_type": "code",
      "metadata": {
        "id": "weqCHKbEitAf",
        "colab": {
          "base_uri": "https://localhost:8080/"
        },
        "outputId": "9ef5d839-d9fd-4959-e4cb-c64fb616a5ee"
      },
      "source": [
        "#Obtener el elemento de la primera fila y primera columna\n",
        "print(matriz_a[0,0])"
      ],
      "execution_count": null,
      "outputs": [
        {
          "output_type": "stream",
          "name": "stdout",
          "text": [
            "1\n"
          ]
        }
      ]
    },
    {
      "cell_type": "code",
      "metadata": {
        "id": "RBYSOPJkitAi",
        "colab": {
          "base_uri": "https://localhost:8080/"
        },
        "outputId": "ee865237-cefe-4cf2-ec60-21b46a0adfcf"
      },
      "source": [
        "#Obtener el elemento de la última fila y última columna\n",
        "print(matriz_a[-1][-1])"
      ],
      "execution_count": null,
      "outputs": [
        {
          "output_type": "stream",
          "name": "stdout",
          "text": [
            "8\n"
          ]
        }
      ]
    },
    {
      "cell_type": "code",
      "metadata": {
        "id": "1NaXh_bBitAk",
        "colab": {
          "base_uri": "https://localhost:8080/"
        },
        "outputId": "14eb87cf-92a7-42d3-bca5-401306d3b3e6"
      },
      "source": [
        "# Tamaño de la fila 1\n",
        "arr_length = arr2d.shape[1]\n",
        "\n",
        "arr_length"
      ],
      "execution_count": null,
      "outputs": [
        {
          "output_type": "execute_result",
          "data": {
            "text/plain": [
              "5"
            ]
          },
          "metadata": {},
          "execution_count": 76
        }
      ]
    },
    {
      "cell_type": "code",
      "metadata": {
        "id": "1xltvX5JitAo",
        "colab": {
          "base_uri": "https://localhost:8080/"
        },
        "outputId": "05365fdd-dd4c-4298-f6a9-3353dec401b6"
      },
      "source": [
        "#Obtener todos los elementos de la primera fila\n",
        "print(matriz_a[0,:])"
      ],
      "execution_count": null,
      "outputs": [
        {
          "output_type": "stream",
          "name": "stdout",
          "text": [
            "[1 3]\n"
          ]
        }
      ]
    },
    {
      "cell_type": "code",
      "metadata": {
        "id": "p5o3j5HMitAs",
        "colab": {
          "base_uri": "https://localhost:8080/"
        },
        "outputId": "a7962e5c-d67e-4a7a-a344-89ea73005cb9"
      },
      "source": [
        "#Obtener todos los elementos de la primera columna\n",
        "print(matriz_a[:,0])"
      ],
      "execution_count": null,
      "outputs": [
        {
          "output_type": "stream",
          "name": "stdout",
          "text": [
            "[1 2]\n"
          ]
        }
      ]
    },
    {
      "cell_type": "code",
      "metadata": {
        "id": "g5CSNNL_itAv",
        "colab": {
          "base_uri": "https://localhost:8080/"
        },
        "outputId": "29c70cb0-cd02-411c-a969-764b1a5c1084"
      },
      "source": [
        "# Traer la matriz 2x2 de la esquina superior izquierda\n",
        "arr2d[:2,:2]"
      ],
      "execution_count": null,
      "outputs": [
        {
          "output_type": "execute_result",
          "data": {
            "text/plain": [
              "array([[0., 0.],\n",
              "       [1., 1.]])"
            ]
          },
          "metadata": {},
          "execution_count": 80
        }
      ]
    },
    {
      "cell_type": "markdown",
      "source": [
        "# Ejercicio\n",
        "a) Realizar las operaciones descritas en la matriz de la siguiente figura:\n",
        "<br>\n",
        "<img src=\"https://scipy-lectures.org/_images/numpy_indexing.png\" width=\"280\" height=\"150\">\n",
        "<br>\n",
        "b)Extraer los números 21, 23, 25, 41, 43, 45"
      ],
      "metadata": {
        "id": "ZSTuaE2DB4Yq"
      }
    },
    {
      "cell_type": "code",
      "source": [
        "a[2::2,1::2]"
      ],
      "metadata": {
        "colab": {
          "base_uri": "https://localhost:8080/"
        },
        "id": "lSK_akdu8-UR",
        "outputId": "b00229d9-0a77-43ea-c719-b432300222f7"
      },
      "execution_count": null,
      "outputs": [
        {
          "output_type": "stream",
          "name": "stdout",
          "text": [
            "Extracción de números específicos:\n",
            " [[21 23 25]\n",
            " [41 43 45]]\n"
          ]
        }
      ]
    },
    {
      "cell_type": "markdown",
      "metadata": {
        "id": "k_57GoKXitAx"
      },
      "source": [
        "### Arreglo n-dimensionales (Tensores)\n",
        "\n",
        "\n",
        "El formato general es **arr_nd[d1][d2][dn]** o **arr_2d[d1,d2,dn]**.\n",
        "\n",
        "Por claridad, se recomienda la notación con coma."
      ]
    },
    {
      "cell_type": "code",
      "metadata": {
        "id": "mrIF5fX3itAx",
        "colab": {
          "base_uri": "https://localhost:8080/"
        },
        "outputId": "41ac50c6-10b9-4cd4-874b-68706019a316"
      },
      "source": [
        "arr_3d = np.array(([[[5,10,],[20,25]],[[7,21],[7,28]]]))\n",
        "print(arr_3d)"
      ],
      "execution_count": null,
      "outputs": [
        {
          "output_type": "stream",
          "name": "stdout",
          "text": [
            "[[[ 5 10]\n",
            "  [20 25]]\n",
            "\n",
            " [[ 7 21]\n",
            "  [ 7 28]]]\n"
          ]
        }
      ]
    },
    {
      "cell_type": "code",
      "metadata": {
        "id": "ZywveLiFitAz",
        "colab": {
          "base_uri": "https://localhost:8080/"
        },
        "outputId": "5f3cc76f-5f01-4e9b-bea3-2c035d566182"
      },
      "source": [
        "# Accediendo a un elemento particular\n",
        "arr_3d[0,0,0]"
      ],
      "execution_count": null,
      "outputs": [
        {
          "output_type": "execute_result",
          "data": {
            "text/plain": [
              "5"
            ]
          },
          "metadata": {},
          "execution_count": 80
        }
      ]
    },
    {
      "cell_type": "code",
      "metadata": {
        "id": "4dlWAlVlitA0",
        "colab": {
          "base_uri": "https://localhost:8080/"
        },
        "outputId": "0728c293-6845-4e73-9e16-22cb58732df3"
      },
      "source": [
        "# Tomar el primer elemento de la primera dimesión (Es decir una matriz)\n",
        "arr_3d[0,:,:]\n"
      ],
      "execution_count": null,
      "outputs": [
        {
          "output_type": "execute_result",
          "data": {
            "text/plain": [
              "array([[ 5, 10],\n",
              "       [20, 25]])"
            ]
          },
          "metadata": {},
          "execution_count": 81
        }
      ]
    },
    {
      "cell_type": "code",
      "metadata": {
        "id": "6Q2OgeEuitA4",
        "colab": {
          "base_uri": "https://localhost:8080/"
        },
        "outputId": "590bd51b-4ed3-48ec-e69c-97451b46b6bc"
      },
      "source": [
        "# Traer la primera fila de las 2 submatrices\n",
        "arr_3d[:,:,0]"
      ],
      "execution_count": null,
      "outputs": [
        {
          "output_type": "execute_result",
          "data": {
            "text/plain": [
              "array([[ 5, 20],\n",
              "       [ 7,  7]])"
            ]
          },
          "metadata": {},
          "execution_count": 82
        }
      ]
    },
    {
      "cell_type": "code",
      "metadata": {
        "id": "Go-FGQpvitA6",
        "colab": {
          "base_uri": "https://localhost:8080/"
        },
        "outputId": "33685b02-34a6-4e9e-9e9d-8e8336ad6f1b"
      },
      "source": [
        "# Traer la última fila de las 2 submatrices\n",
        "arr_3d[:,-1,:]"
      ],
      "execution_count": null,
      "outputs": [
        {
          "output_type": "execute_result",
          "data": {
            "text/plain": [
              "array([[20, 25],\n",
              "       [ 7, 28]])"
            ]
          },
          "metadata": {},
          "execution_count": 83
        }
      ]
    },
    {
      "cell_type": "markdown",
      "metadata": {
        "id": "hUIQ1HQpiyhJ"
      },
      "source": [
        "## Broadcasting e Indexado Elegante"
      ]
    },
    {
      "cell_type": "markdown",
      "metadata": {
        "id": "rW_cKOm8iyhM"
      },
      "source": [
        "### Broadcasting\n",
        "\n",
        "Los arreglos de Numpy se diferencian de las listas de Python porque tienen la habilidad de hacer \"broadcast\":"
      ]
    },
    {
      "cell_type": "code",
      "metadata": {
        "id": "f9-fdnEPiyhN",
        "colab": {
          "base_uri": "https://localhost:8080/"
        },
        "outputId": "3f203a6d-652c-42bb-c1c7-29aa1384503a"
      },
      "source": [
        "c = np.zeros((3, 3))\n",
        "print(c)\n",
        "print(c.shape)"
      ],
      "execution_count": null,
      "outputs": [
        {
          "output_type": "stream",
          "name": "stdout",
          "text": [
            "[[0. 0. 0.]\n",
            " [0. 0. 0.]\n",
            " [0. 0. 0.]]\n",
            "(3, 3)\n"
          ]
        }
      ]
    },
    {
      "cell_type": "code",
      "metadata": {
        "id": "oM3iEd52iyhZ",
        "colab": {
          "base_uri": "https://localhost:8080/"
        },
        "outputId": "35b3e6e6-d36a-43d2-972f-0bea1e351935"
      },
      "source": [
        "n = np.array([1, 2, 3])\n",
        "print(n)\n",
        "print(n.shape)"
      ],
      "execution_count": null,
      "outputs": [
        {
          "output_type": "stream",
          "name": "stdout",
          "text": [
            "[1 2 3]\n",
            "(3,)\n"
          ]
        }
      ]
    },
    {
      "cell_type": "code",
      "metadata": {
        "id": "owJtCODYiyhg",
        "colab": {
          "base_uri": "https://localhost:8080/"
        },
        "outputId": "a3d464f0-7db5-4c31-c569-e91f48c2c59b"
      },
      "source": [
        "t = n + c  # Se expande la primera dimensión de n\n",
        "print(t)"
      ],
      "execution_count": null,
      "outputs": [
        {
          "output_type": "stream",
          "name": "stdout",
          "text": [
            "[[1. 2. 3.]\n",
            " [1. 2. 3.]\n",
            " [1. 2. 3.]]\n"
          ]
        }
      ]
    },
    {
      "cell_type": "code",
      "metadata": {
        "id": "3V_1wb9Oiyhm",
        "colab": {
          "base_uri": "https://localhost:8080/"
        },
        "outputId": "651e2cae-16d3-4f8c-d443-24d7995c8824"
      },
      "source": [
        "arr = np.arange(1,11)\n",
        "print(arr)\n",
        "\n"
      ],
      "execution_count": null,
      "outputs": [
        {
          "output_type": "stream",
          "name": "stdout",
          "text": [
            "[ 1  2  3  4  5  6  7  8  9 10]\n"
          ]
        }
      ]
    },
    {
      "cell_type": "code",
      "metadata": {
        "id": "vAk0Nofm5uyk",
        "colab": {
          "base_uri": "https://localhost:8080/"
        },
        "outputId": "23ff67fb-694f-4d86-aa55-f0f8db76491a"
      },
      "source": [
        "# Asignar un valor dado a un rango de índices en un arreglo (Broadcasting)\n",
        "arr[0:5] = 100\n",
        "\n",
        "# Resultado\n",
        "arr"
      ],
      "execution_count": null,
      "outputs": [
        {
          "output_type": "execute_result",
          "data": {
            "text/plain": [
              "array([100, 100, 100, 100, 100,   6,   7,   8,   9,  10])"
            ]
          },
          "metadata": {},
          "execution_count": 102
        }
      ]
    },
    {
      "cell_type": "code",
      "metadata": {
        "id": "aVU7jK-6iyht",
        "colab": {
          "base_uri": "https://localhost:8080/"
        },
        "outputId": "04ba167a-f8a9-4866-f532-3cb4d8c6e99d"
      },
      "source": [
        "arr[0::2] = -1\n",
        "\n",
        "arr"
      ],
      "execution_count": null,
      "outputs": [
        {
          "output_type": "execute_result",
          "data": {
            "text/plain": [
              "array([ -1, 100,  -1, 100,  -1,   6,  -1,   8,  -1,  10])"
            ]
          },
          "metadata": {},
          "execution_count": 103
        }
      ]
    },
    {
      "cell_type": "code",
      "metadata": {
        "id": "3hmLNz2Fiyhx",
        "colab": {
          "base_uri": "https://localhost:8080/"
        },
        "outputId": "34bb6504-6f2a-407e-ac05-75714ee8c8bd"
      },
      "source": [
        "# Recuperar el arreglo anterior\n",
        "arr = np.arange(0,11)\n",
        "\n",
        "# Resultado\n",
        "arr"
      ],
      "execution_count": null,
      "outputs": [
        {
          "output_type": "execute_result",
          "data": {
            "text/plain": [
              "array([ 0,  1,  2,  3,  4,  5,  6,  7,  8,  9, 10])"
            ]
          },
          "metadata": {},
          "execution_count": 121
        }
      ]
    },
    {
      "cell_type": "code",
      "metadata": {
        "id": "w_N1GUpyiyh1",
        "colab": {
          "base_uri": "https://localhost:8080/"
        },
        "outputId": "93dacc78-7897-4200-b2f0-8de51b09004d"
      },
      "source": [
        "# Troceado de arreglos\n",
        "trozo_de_arr = arr[0:6]\n",
        "\n",
        "# Resultado\n",
        "trozo_de_arr"
      ],
      "execution_count": null,
      "outputs": [
        {
          "output_type": "execute_result",
          "data": {
            "text/plain": [
              "array([0, 1, 2, 3, 4, 5])"
            ]
          },
          "metadata": {},
          "execution_count": 105
        }
      ]
    },
    {
      "cell_type": "code",
      "metadata": {
        "id": "5OLt_4p0iyh4",
        "colab": {
          "base_uri": "https://localhost:8080/"
        },
        "outputId": "3ddd8e31-116d-46db-87a3-32c434d175e8"
      },
      "source": [
        "# Cambios\n",
        "trozo_de_arr[:] = 99\n",
        "\n",
        "#Show Slice again\n",
        "trozo_de_arr"
      ],
      "execution_count": null,
      "outputs": [
        {
          "output_type": "execute_result",
          "data": {
            "text/plain": [
              "array([99, 99, 99, 99, 99, 99])"
            ]
          },
          "metadata": {},
          "execution_count": 106
        }
      ]
    },
    {
      "cell_type": "markdown",
      "metadata": {
        "id": "cpoCxvpfiyiA"
      },
      "source": [
        "** OJO: los cambios también ocurren en el arreglo original!**"
      ]
    },
    {
      "cell_type": "code",
      "metadata": {
        "id": "9zNSuG-0iyiA",
        "colab": {
          "base_uri": "https://localhost:8080/"
        },
        "outputId": "4ee800fb-dab2-4093-d5a6-b94e5a07a0b9"
      },
      "source": [
        "arr"
      ],
      "execution_count": null,
      "outputs": [
        {
          "output_type": "execute_result",
          "data": {
            "text/plain": [
              "array([99, 99, 99, 99, 99, 99,  6,  7,  8,  9, 10])"
            ]
          },
          "metadata": {},
          "execution_count": 107
        }
      ]
    },
    {
      "cell_type": "markdown",
      "metadata": {
        "id": "Ole3GGnmiyiD"
      },
      "source": [
        "** Los datos no se copian, un \"trozo\" de un arreglo es simplemente una vista del arreglo original! ** Esto sirve para prevenir problemas de memoria!"
      ]
    },
    {
      "cell_type": "code",
      "metadata": {
        "id": "r6wNDNvwiyiE",
        "colab": {
          "base_uri": "https://localhost:8080/"
        },
        "outputId": "cfc334bc-91a1-4c97-c8a8-869a9f5f12c1"
      },
      "source": [
        "# Para obtener una copia, es necesario usar el método copy()\n",
        "copia_arr = arr.copy()\n",
        "\n",
        "copia_arr"
      ],
      "execution_count": null,
      "outputs": [
        {
          "output_type": "execute_result",
          "data": {
            "text/plain": [
              "array([99, 99, 99, 99, 99, 99,  6,  7,  8,  9, 10])"
            ]
          },
          "metadata": {},
          "execution_count": 108
        }
      ]
    },
    {
      "cell_type": "code",
      "metadata": {
        "id": "ihB5a5UGiyiN",
        "colab": {
          "base_uri": "https://localhost:8080/"
        },
        "outputId": "0e3c59b1-d39b-444a-83a7-93091d4819c3"
      },
      "source": [
        "copia_arr[:] = 100\n",
        "\n",
        "copia_arr"
      ],
      "execution_count": null,
      "outputs": [
        {
          "output_type": "execute_result",
          "data": {
            "text/plain": [
              "array([100, 100, 100, 100, 100, 100, 100, 100, 100, 100, 100])"
            ]
          },
          "metadata": {},
          "execution_count": 109
        }
      ]
    },
    {
      "cell_type": "code",
      "metadata": {
        "id": "4VL_-zsxiyiP",
        "colab": {
          "base_uri": "https://localhost:8080/"
        },
        "outputId": "0e76ee2e-a13d-4824-ae1b-7a16b855ccb4"
      },
      "source": [
        "arr"
      ],
      "execution_count": null,
      "outputs": [
        {
          "output_type": "execute_result",
          "data": {
            "text/plain": [
              "array([99, 99, 99, 99, 99, 99,  6,  7,  8,  9, 10])"
            ]
          },
          "metadata": {},
          "execution_count": 110
        }
      ]
    },
    {
      "cell_type": "markdown",
      "metadata": {
        "id": "cy3vybcwiyiV"
      },
      "source": [
        "### \"Indexado elegante\" (fancy indexing)\n",
        "\n",
        "Se permite indexar filas o columnas enteras de una sola vez:"
      ]
    },
    {
      "cell_type": "code",
      "metadata": {
        "id": "YTOg1XjNiyiV",
        "colab": {
          "base_uri": "https://localhost:8080/"
        },
        "outputId": "ef0e8867-8d51-4612-ab6f-e60d624dc562"
      },
      "source": [
        "arr = np.arange(10,21)\n",
        "arr"
      ],
      "execution_count": null,
      "outputs": [
        {
          "output_type": "execute_result",
          "data": {
            "text/plain": [
              "array([10, 11, 12, 13, 14, 15, 16, 17, 18, 19, 20])"
            ]
          },
          "metadata": {},
          "execution_count": 8
        }
      ]
    },
    {
      "cell_type": "code",
      "metadata": {
        "id": "m3McxxrxiyiY",
        "colab": {
          "base_uri": "https://localhost:8080/"
        },
        "outputId": "08fec8c2-e2d3-48de-80f4-de592e4f0541"
      },
      "source": [
        "# Obtener elementos también en cualquier orden\n",
        "arr[[7,3,4]]"
      ],
      "execution_count": null,
      "outputs": [
        {
          "output_type": "execute_result",
          "data": {
            "text/plain": [
              "array([17, 13, 14])"
            ]
          },
          "metadata": {},
          "execution_count": 112
        }
      ]
    },
    {
      "cell_type": "code",
      "metadata": {
        "id": "kFGJUXldiyib",
        "colab": {
          "base_uri": "https://localhost:8080/"
        },
        "outputId": "e138d0d2-ea0e-4d2a-e99e-23120b767681"
      },
      "source": [
        "# matriz\n",
        "arr2d = np.zeros((10,10))\n",
        "\n",
        "arr2d"
      ],
      "execution_count": null,
      "outputs": [
        {
          "output_type": "execute_result",
          "data": {
            "text/plain": [
              "array([[0., 0., 0., 0., 0., 0., 0., 0., 0., 0.],\n",
              "       [0., 0., 0., 0., 0., 0., 0., 0., 0., 0.],\n",
              "       [0., 0., 0., 0., 0., 0., 0., 0., 0., 0.],\n",
              "       [0., 0., 0., 0., 0., 0., 0., 0., 0., 0.],\n",
              "       [0., 0., 0., 0., 0., 0., 0., 0., 0., 0.],\n",
              "       [0., 0., 0., 0., 0., 0., 0., 0., 0., 0.],\n",
              "       [0., 0., 0., 0., 0., 0., 0., 0., 0., 0.],\n",
              "       [0., 0., 0., 0., 0., 0., 0., 0., 0., 0.],\n",
              "       [0., 0., 0., 0., 0., 0., 0., 0., 0., 0.],\n",
              "       [0., 0., 0., 0., 0., 0., 0., 0., 0., 0.]])"
            ]
          },
          "metadata": {},
          "execution_count": 113
        }
      ]
    },
    {
      "cell_type": "code",
      "metadata": {
        "id": "D8ACQtsqiyid",
        "colab": {
          "base_uri": "https://localhost:8080/"
        },
        "outputId": "15f377ba-86e4-49a2-8986-f9b62cd03ea6"
      },
      "source": [
        "# Tamaño de la fila 1\n",
        "arr_length = arr2d.shape[1]\n",
        "\n",
        "arr_length"
      ],
      "execution_count": null,
      "outputs": [
        {
          "output_type": "execute_result",
          "data": {
            "text/plain": [
              "10"
            ]
          },
          "metadata": {},
          "execution_count": 114
        }
      ]
    },
    {
      "cell_type": "code",
      "metadata": {
        "id": "iyFR_nU-iyie",
        "colab": {
          "base_uri": "https://localhost:8080/"
        },
        "outputId": "34085bb2-a879-44b1-ef7c-5419fe8d785a"
      },
      "source": [
        "# Inicialización\n",
        "\n",
        "for i in range(arr_length):\n",
        "    arr2d[i] = i\n",
        "\n",
        "arr2d"
      ],
      "execution_count": null,
      "outputs": [
        {
          "output_type": "execute_result",
          "data": {
            "text/plain": [
              "array([[0., 0., 0., 0., 0., 0., 0., 0., 0., 0.],\n",
              "       [1., 1., 1., 1., 1., 1., 1., 1., 1., 1.],\n",
              "       [2., 2., 2., 2., 2., 2., 2., 2., 2., 2.],\n",
              "       [3., 3., 3., 3., 3., 3., 3., 3., 3., 3.],\n",
              "       [4., 4., 4., 4., 4., 4., 4., 4., 4., 4.],\n",
              "       [5., 5., 5., 5., 5., 5., 5., 5., 5., 5.],\n",
              "       [6., 6., 6., 6., 6., 6., 6., 6., 6., 6.],\n",
              "       [7., 7., 7., 7., 7., 7., 7., 7., 7., 7.],\n",
              "       [8., 8., 8., 8., 8., 8., 8., 8., 8., 8.],\n",
              "       [9., 9., 9., 9., 9., 9., 9., 9., 9., 9.]])"
            ]
          },
          "metadata": {},
          "execution_count": 115
        }
      ]
    },
    {
      "cell_type": "code",
      "metadata": {
        "id": "rVDmQAL4iyig",
        "colab": {
          "base_uri": "https://localhost:8080/"
        },
        "outputId": "3de441d7-2a94-4f32-d620-884afe0499a6"
      },
      "source": [
        "# Obtener elementos de la matriz en cualquier orden\n",
        "arr2d[[6,4,2,7]]"
      ],
      "execution_count": null,
      "outputs": [
        {
          "output_type": "execute_result",
          "data": {
            "text/plain": [
              "array([[6., 6., 6., 6., 6., 6., 6., 6., 6., 6.],\n",
              "       [4., 4., 4., 4., 4., 4., 4., 4., 4., 4.],\n",
              "       [2., 2., 2., 2., 2., 2., 2., 2., 2., 2.],\n",
              "       [7., 7., 7., 7., 7., 7., 7., 7., 7., 7.]])"
            ]
          },
          "metadata": {},
          "execution_count": 116
        }
      ]
    },
    {
      "cell_type": "markdown",
      "metadata": {
        "id": "Ak2XQcC4iyih"
      },
      "source": [
        "# Selección condicional\n"
      ]
    },
    {
      "cell_type": "code",
      "metadata": {
        "id": "HN4L0YRfiyij",
        "colab": {
          "base_uri": "https://localhost:8080/"
        },
        "outputId": "55aa6c9c-27d8-425c-8ce5-04006fcb5d8c"
      },
      "source": [
        "print(arr)"
      ],
      "execution_count": null,
      "outputs": [
        {
          "output_type": "stream",
          "name": "stdout",
          "text": [
            "[0 1 2 3 4 5]\n"
          ]
        }
      ]
    },
    {
      "cell_type": "code",
      "metadata": {
        "id": "dqC5uN_liyik",
        "colab": {
          "base_uri": "https://localhost:8080/"
        },
        "outputId": "06b9474a-d6e4-4c85-ee3b-5dd594f2d361"
      },
      "source": [
        "#Validación elemento a elemento\n",
        "indices_cond = arr > 3\n",
        "print(indices_cond)"
      ],
      "execution_count": null,
      "outputs": [
        {
          "output_type": "stream",
          "name": "stdout",
          "text": [
            "[False False False False  True  True]\n"
          ]
        }
      ]
    },
    {
      "cell_type": "code",
      "metadata": {
        "id": "vleZzsUyiyim",
        "colab": {
          "base_uri": "https://localhost:8080/"
        },
        "outputId": "a845d593-5847-4420-a1cf-d6038dffa6e3"
      },
      "source": [
        "# Seleccion de elementos basados en alguna condición\n",
        "arr[indices_cond]"
      ],
      "execution_count": null,
      "outputs": [
        {
          "output_type": "execute_result",
          "data": {
            "text/plain": [
              "array([4, 5])"
            ]
          },
          "metadata": {},
          "execution_count": 86
        }
      ]
    },
    {
      "cell_type": "code",
      "source": [
        "arr[arr > 3]"
      ],
      "metadata": {
        "colab": {
          "base_uri": "https://localhost:8080/"
        },
        "id": "9Q5krAikAKtj",
        "outputId": "fec9ac9a-32da-45a0-dbf6-f902e7757ec8"
      },
      "execution_count": null,
      "outputs": [
        {
          "output_type": "execute_result",
          "data": {
            "text/plain": [
              "array([4, 5])"
            ]
          },
          "metadata": {},
          "execution_count": 87
        }
      ]
    },
    {
      "cell_type": "code",
      "metadata": {
        "id": "HEfoJ93Ciyip",
        "colab": {
          "base_uri": "https://localhost:8080/"
        },
        "outputId": "73dceecf-2e52-4bb1-a083-5f90d9a3057d"
      },
      "source": [
        "#Usando condiciones más complejas\n",
        "arr[(arr>=1) & (arr<=4)]"
      ],
      "execution_count": null,
      "outputs": [
        {
          "output_type": "execute_result",
          "data": {
            "text/plain": [
              "array([1, 2, 3, 4])"
            ]
          },
          "metadata": {},
          "execution_count": 88
        }
      ]
    },
    {
      "cell_type": "code",
      "metadata": {
        "id": "VCTAK520iyir",
        "colab": {
          "base_uri": "https://localhost:8080/"
        },
        "outputId": "86d0583c-6b0c-49fd-f1c0-69c58bed999d"
      },
      "source": [
        "x = 2\n",
        "arr[arr>x]"
      ],
      "execution_count": null,
      "outputs": [
        {
          "output_type": "execute_result",
          "data": {
            "text/plain": [
              "array([3, 4, 5])"
            ]
          },
          "metadata": {},
          "execution_count": 89
        }
      ]
    },
    {
      "cell_type": "markdown",
      "metadata": {
        "id": "ds-q3j8_piW2"
      },
      "source": [
        "# NumPy  - Operaciones\n"
      ]
    },
    {
      "cell_type": "markdown",
      "metadata": {
        "id": "OBKWxg_YpiW4"
      },
      "source": [
        "## Aritméticas\n",
        "\n",
        "Es posible hacer operaciones aritméticas entre arreglos; y también, entre arreglos y escalares. Se usan los operadores aritméticos tradicionales."
      ]
    },
    {
      "cell_type": "markdown",
      "metadata": {
        "id": "F_o5SqRc_ZrL"
      },
      "source": [
        "### Operaciones con vectores"
      ]
    },
    {
      "cell_type": "code",
      "metadata": {
        "id": "zwgUzQrK_tkY",
        "colab": {
          "base_uri": "https://localhost:8080/"
        },
        "outputId": "17dabeec-f6eb-4272-c286-46ab81f58485"
      },
      "source": [
        "v1 = np.array([2,10,10])\n",
        "print(v1)"
      ],
      "execution_count": null,
      "outputs": [
        {
          "output_type": "stream",
          "name": "stdout",
          "text": [
            "[ 2 10 10]\n"
          ]
        }
      ]
    },
    {
      "cell_type": "code",
      "metadata": {
        "id": "PA31ujju_yjj",
        "colab": {
          "base_uri": "https://localhost:8080/"
        },
        "outputId": "50fc0d2d-7093-455b-877f-056128895660"
      },
      "source": [
        "#Multiplicación vector por escalar\n",
        "print(2*v1)"
      ],
      "execution_count": null,
      "outputs": [
        {
          "output_type": "stream",
          "name": "stdout",
          "text": [
            "[ 4 20 20]\n"
          ]
        }
      ]
    },
    {
      "cell_type": "code",
      "metadata": {
        "id": "dFYypX0m_7QF",
        "colab": {
          "base_uri": "https://localhost:8080/"
        },
        "outputId": "1e3c76d4-e882-4e42-8a35-0cda910f095b"
      },
      "source": [
        "#Suma de dos vectores\n",
        "v2 = np.array([1,2,1])\n",
        "print(v1)\n",
        "print(v2)\n"
      ],
      "execution_count": null,
      "outputs": [
        {
          "output_type": "stream",
          "name": "stdout",
          "text": [
            "[ 2 10 10]\n",
            "[1 2 1]\n"
          ]
        }
      ]
    },
    {
      "cell_type": "code",
      "metadata": {
        "id": "1Cd5XXJ0oA31",
        "colab": {
          "base_uri": "https://localhost:8080/"
        },
        "outputId": "f2be3195-ffdd-44b1-e884-359a5da91755"
      },
      "source": [
        "# suma\n",
        "v1+v2"
      ],
      "execution_count": null,
      "outputs": [
        {
          "output_type": "execute_result",
          "data": {
            "text/plain": [
              "array([ 3, 12, 11])"
            ]
          },
          "metadata": {},
          "execution_count": 97
        }
      ]
    },
    {
      "cell_type": "code",
      "metadata": {
        "id": "1OMIiWeQoDzt",
        "colab": {
          "base_uri": "https://localhost:8080/"
        },
        "outputId": "e0719b00-8344-465e-cbd1-4646afae8239"
      },
      "source": [
        "# resta\n",
        "v1-v2"
      ],
      "execution_count": null,
      "outputs": [
        {
          "output_type": "execute_result",
          "data": {
            "text/plain": [
              "array([1, 8, 9])"
            ]
          },
          "metadata": {},
          "execution_count": 96
        }
      ]
    },
    {
      "cell_type": "code",
      "metadata": {
        "id": "EGYWw08ZoHx9",
        "colab": {
          "base_uri": "https://localhost:8080/"
        },
        "outputId": "b279ff64-fe0c-4efb-afb5-ac0eb7fcf389"
      },
      "source": [
        "# multiplicación\n",
        "v1*v2"
      ],
      "execution_count": null,
      "outputs": [
        {
          "output_type": "execute_result",
          "data": {
            "text/plain": [
              "array([ 2, 20, 10])"
            ]
          },
          "metadata": {},
          "execution_count": 98
        }
      ]
    },
    {
      "cell_type": "code",
      "metadata": {
        "id": "6_tQmFR8oKYd",
        "colab": {
          "base_uri": "https://localhost:8080/"
        },
        "outputId": "c7569911-41b0-432d-c836-2c6314b54d17"
      },
      "source": [
        "# división\n",
        "print(v1/v2)"
      ],
      "execution_count": null,
      "outputs": [
        {
          "output_type": "stream",
          "name": "stdout",
          "text": [
            "[ 2.  5. 10.]\n"
          ]
        }
      ]
    },
    {
      "cell_type": "code",
      "metadata": {
        "id": "ofTYY41tpiW5",
        "colab": {
          "base_uri": "https://localhost:8080/"
        },
        "outputId": "17522c27-0a70-445e-8058-195f547fcba1"
      },
      "source": [
        "# Creamos arr para el siguiente ejemplo\n",
        "arr = np.arange(0,10)\n",
        "\n",
        "arr"
      ],
      "execution_count": null,
      "outputs": [
        {
          "output_type": "execute_result",
          "data": {
            "text/plain": [
              "array([0, 1, 2, 3, 4, 5, 6, 7, 8, 9])"
            ]
          },
          "metadata": {},
          "execution_count": 100
        }
      ]
    },
    {
      "cell_type": "code",
      "metadata": {
        "id": "JInExBXUpiXE",
        "colab": {
          "base_uri": "https://localhost:8080/",
          "height": 158
        },
        "outputId": "916c9059-53c1-42ff-a7be-a313d1a46a64"
      },
      "source": [
        "# En Python, la siguiente división retorna un error\n",
        "1/0"
      ],
      "execution_count": null,
      "outputs": [
        {
          "output_type": "error",
          "ename": "ZeroDivisionError",
          "evalue": "division by zero",
          "traceback": [
            "\u001b[0;31m---------------------------------------------------------------------------\u001b[0m",
            "\u001b[0;31mZeroDivisionError\u001b[0m                         Traceback (most recent call last)",
            "\u001b[0;32m<ipython-input-101-ae3231269596>\u001b[0m in \u001b[0;36m<cell line: 2>\u001b[0;34m()\u001b[0m\n\u001b[1;32m      1\u001b[0m \u001b[0;31m# En Python, la siguiente división retorna un error\u001b[0m\u001b[0;34m\u001b[0m\u001b[0;34m\u001b[0m\u001b[0m\n\u001b[0;32m----> 2\u001b[0;31m \u001b[0;36m1\u001b[0m\u001b[0;34m/\u001b[0m\u001b[0;36m0\u001b[0m\u001b[0;34m\u001b[0m\u001b[0;34m\u001b[0m\u001b[0m\n\u001b[0m",
            "\u001b[0;31mZeroDivisionError\u001b[0m: division by zero"
          ]
        }
      ]
    },
    {
      "cell_type": "code",
      "metadata": {
        "id": "t6MpRd-jpiXG",
        "colab": {
          "base_uri": "https://localhost:8080/"
        },
        "outputId": "8aac9c67-1f85-4899-e4b4-a1b0d3b05e57"
      },
      "source": [
        "# Sin embargo, en NumPy si dividimos arr/arr, obtendremos un Warning de división por cero, pero no se considera como un error!\n",
        "# Se reemplaza por 'NaN' (Not a Number)\n",
        "\n",
        "arr/arr"
      ],
      "execution_count": null,
      "outputs": [
        {
          "output_type": "stream",
          "name": "stderr",
          "text": [
            "<ipython-input-102-862082b9c61a>:4: RuntimeWarning: invalid value encountered in divide\n",
            "  arr/arr\n"
          ]
        },
        {
          "output_type": "execute_result",
          "data": {
            "text/plain": [
              "array([nan,  1.,  1.,  1.,  1.,  1.,  1.,  1.,  1.,  1.])"
            ]
          },
          "metadata": {},
          "execution_count": 102
        }
      ]
    },
    {
      "cell_type": "code",
      "metadata": {
        "id": "tbuxJbhgpiXI",
        "colab": {
          "base_uri": "https://localhost:8080/"
        },
        "outputId": "aedfeb40-e4d3-4922-b564-f113ba8b10c2"
      },
      "source": [
        "# 1/arr también produce un warning, pero no un error. En la división 1/0 se obtiene 'inf' (infinito)\n",
        "1/arr"
      ],
      "execution_count": null,
      "outputs": [
        {
          "output_type": "stream",
          "name": "stderr",
          "text": [
            "<ipython-input-103-fff3184bdd5f>:2: RuntimeWarning: divide by zero encountered in divide\n",
            "  1/arr\n"
          ]
        },
        {
          "output_type": "execute_result",
          "data": {
            "text/plain": [
              "array([       inf, 1.        , 0.5       , 0.33333333, 0.25      ,\n",
              "       0.2       , 0.16666667, 0.14285714, 0.125     , 0.11111111])"
            ]
          },
          "metadata": {},
          "execution_count": 103
        }
      ]
    },
    {
      "cell_type": "code",
      "metadata": {
        "id": "cue2HK8DpiXL",
        "colab": {
          "base_uri": "https://localhost:8080/"
        },
        "outputId": "54dbcbf0-e7af-44c5-e5f4-c7c907774879"
      },
      "source": [
        "# Potencia\n",
        "arr**3"
      ],
      "execution_count": null,
      "outputs": [
        {
          "output_type": "execute_result",
          "data": {
            "text/plain": [
              "array([  0,   1,   8,  27,  64, 125, 216, 343, 512, 729])"
            ]
          },
          "metadata": {},
          "execution_count": 104
        }
      ]
    },
    {
      "cell_type": "markdown",
      "metadata": {
        "id": "7ver-KdpwPX5"
      },
      "source": [
        "#### Diferencia con las listas de Python"
      ]
    },
    {
      "cell_type": "code",
      "metadata": {
        "id": "X9Sq_-rxwPX3"
      },
      "source": [
        "# Listas\n",
        "lista = [1, 2]\n",
        "lista2 = [3, 4]"
      ],
      "execution_count": null,
      "outputs": []
    },
    {
      "cell_type": "code",
      "metadata": {
        "id": "L6pQ-Y3DwPXz",
        "colab": {
          "base_uri": "https://localhost:8080/"
        },
        "outputId": "ee6f99bf-e23f-44e8-e738-12afc3431165"
      },
      "source": [
        "lista + lista2"
      ],
      "execution_count": null,
      "outputs": [
        {
          "output_type": "execute_result",
          "data": {
            "text/plain": [
              "[1, 2, 3, 4]"
            ]
          },
          "metadata": {},
          "execution_count": 106
        }
      ]
    },
    {
      "cell_type": "code",
      "metadata": {
        "id": "36I3E6m_wPXw",
        "colab": {
          "base_uri": "https://localhost:8080/"
        },
        "outputId": "16546532-c9e3-4c70-8cc7-87223c7c65f7"
      },
      "source": [
        "lista*5"
      ],
      "execution_count": null,
      "outputs": [
        {
          "output_type": "execute_result",
          "data": {
            "text/plain": [
              "[1, 2, 1, 2, 1, 2, 1, 2, 1, 2]"
            ]
          },
          "metadata": {},
          "execution_count": 107
        }
      ]
    },
    {
      "cell_type": "markdown",
      "metadata": {
        "id": "0aCJPGWqAbLg"
      },
      "source": [
        " ### Operaciones con Matrices"
      ]
    },
    {
      "cell_type": "markdown",
      "metadata": {
        "id": "nJNoWzOC9LVc"
      },
      "source": [
        "#### Suma/Resta de matrices"
      ]
    },
    {
      "cell_type": "code",
      "metadata": {
        "id": "IAnBi1nMARBd",
        "colab": {
          "base_uri": "https://localhost:8080/"
        },
        "outputId": "728a20e7-6f8a-41a5-d8f2-8db36e9b59c0"
      },
      "source": [
        "a = np.array([[1,1,1], [2,2,2]]) # arreglo 2 x 3\n",
        "\n",
        "b = np.array([[0, 1, 2], [3, 4, 5]]) # arreglo 2 x 3\n",
        "\n",
        "print(a)\n",
        "print()\n",
        "print(b)"
      ],
      "execution_count": null,
      "outputs": [
        {
          "output_type": "stream",
          "name": "stdout",
          "text": [
            "[[1 1 1]\n",
            " [2 2 2]]\n",
            "\n",
            "[[0 1 2]\n",
            " [3 4 5]]\n"
          ]
        }
      ]
    },
    {
      "cell_type": "code",
      "metadata": {
        "id": "iIcXDnDX9ARE",
        "colab": {
          "base_uri": "https://localhost:8080/"
        },
        "outputId": "011d0e77-1fee-4af5-db49-7b9c948b1f09"
      },
      "source": [
        "print(a+b)"
      ],
      "execution_count": null,
      "outputs": [
        {
          "output_type": "stream",
          "name": "stdout",
          "text": [
            "[[1 2 3]\n",
            " [5 6 7]]\n"
          ]
        }
      ]
    },
    {
      "cell_type": "code",
      "metadata": {
        "id": "ns02533QpiW8",
        "colab": {
          "base_uri": "https://localhost:8080/"
        },
        "outputId": "92a85317-290f-43a8-b348-ed4d9d554704"
      },
      "source": [
        "print(a-b)"
      ],
      "execution_count": null,
      "outputs": [
        {
          "output_type": "stream",
          "name": "stdout",
          "text": [
            "[[ 1  0 -1]\n",
            " [-1 -2 -3]]\n"
          ]
        }
      ]
    },
    {
      "cell_type": "markdown",
      "metadata": {
        "id": "to_MVU17A1e7"
      },
      "source": [
        "#### Multiplicación de Matrices"
      ]
    },
    {
      "cell_type": "code",
      "metadata": {
        "id": "9zktHHveA38d",
        "colab": {
          "base_uri": "https://localhost:8080/"
        },
        "outputId": "27a13c18-9122-455c-e368-c7e2a10bf35d"
      },
      "source": [
        "a = np.array([[1, 0], [2, -1]])\n",
        "print(a)\n",
        "print()\n",
        "b = np.array([[1, 1], [2, 2]])\n",
        "print(b)\n"
      ],
      "execution_count": null,
      "outputs": [
        {
          "output_type": "stream",
          "name": "stdout",
          "text": [
            "[[ 1  0]\n",
            " [ 2 -1]]\n",
            "\n",
            "[[1 1]\n",
            " [2 2]]\n"
          ]
        }
      ]
    },
    {
      "cell_type": "code",
      "metadata": {
        "id": "Y3oOEDIzsKq4",
        "colab": {
          "base_uri": "https://localhost:8080/"
        },
        "outputId": "2658d1b2-6638-4f9f-9f3f-72643c548cad"
      },
      "source": [
        "# Para el producto punto se usa dot()\n",
        "print(np.dot(a, b))"
      ],
      "execution_count": null,
      "outputs": [
        {
          "output_type": "stream",
          "name": "stdout",
          "text": [
            "[[1 1]\n",
            " [0 0]]\n"
          ]
        }
      ]
    },
    {
      "cell_type": "code",
      "metadata": {
        "id": "74CqD9AiBwJl",
        "colab": {
          "base_uri": "https://localhost:8080/"
        },
        "outputId": "ba697a8b-c69f-4482-a956-26cdfc8ea979"
      },
      "source": [
        "#Producto entre la misma matriz\n",
        "print(np.dot(a, a))"
      ],
      "execution_count": null,
      "outputs": [
        {
          "output_type": "stream",
          "name": "stdout",
          "text": [
            "[[1 0]\n",
            " [0 1]]\n"
          ]
        }
      ]
    },
    {
      "cell_type": "code",
      "source": [
        "arreglo_1 = np.array([-3, 4, 1])\n",
        "arreglo_2 = np.array([2, -1, 5])"
      ],
      "metadata": {
        "id": "icbeCeUKHLmU"
      },
      "execution_count": null,
      "outputs": []
    },
    {
      "cell_type": "code",
      "source": [
        "arreglo_1"
      ],
      "metadata": {
        "colab": {
          "base_uri": "https://localhost:8080/"
        },
        "id": "H8xdYYVtHW6R",
        "outputId": "25724b9f-e2bf-42da-d3d8-cf1668905b90"
      },
      "execution_count": null,
      "outputs": [
        {
          "output_type": "execute_result",
          "data": {
            "text/plain": [
              "array([-3,  4,  1])"
            ]
          },
          "metadata": {},
          "execution_count": 115
        }
      ]
    },
    {
      "cell_type": "code",
      "source": [
        "arreglo_2"
      ],
      "metadata": {
        "colab": {
          "base_uri": "https://localhost:8080/"
        },
        "id": "SoEpuj-EHZRk",
        "outputId": "15c73e4c-176a-4ac6-d89d-33c3b480bb21"
      },
      "execution_count": null,
      "outputs": [
        {
          "output_type": "execute_result",
          "data": {
            "text/plain": [
              "array([ 2, -1,  5])"
            ]
          },
          "metadata": {},
          "execution_count": 116
        }
      ]
    },
    {
      "cell_type": "code",
      "source": [
        "np.dot(arreglo_1, arreglo_2)"
      ],
      "metadata": {
        "colab": {
          "base_uri": "https://localhost:8080/"
        },
        "id": "MMjqOchOHbcH",
        "outputId": "c1faf03a-a70e-45fe-941f-b3b14059f700"
      },
      "execution_count": null,
      "outputs": [
        {
          "output_type": "execute_result",
          "data": {
            "text/plain": [
              "-5"
            ]
          },
          "metadata": {},
          "execution_count": 117
        }
      ]
    },
    {
      "cell_type": "markdown",
      "metadata": {
        "id": "AeSFa4tf9kwY"
      },
      "source": [
        "#### Multiplicación (elemento a elemento) entre matrices"
      ]
    },
    {
      "cell_type": "code",
      "metadata": {
        "id": "KIYxuJrS9sWs",
        "colab": {
          "base_uri": "https://localhost:8080/"
        },
        "outputId": "92955c90-b701-4308-9a5e-8118ce4e95a4"
      },
      "source": [
        "# El operador * multiplica los elementos uno a uno (NO es multiplicación matricial)\n",
        "print(a*b)"
      ],
      "execution_count": null,
      "outputs": [
        {
          "output_type": "stream",
          "name": "stdout",
          "text": [
            "[[ 1  0]\n",
            " [ 4 -2]]\n"
          ]
        }
      ]
    },
    {
      "cell_type": "code",
      "metadata": {
        "id": "jVQqJLOI-PZ5",
        "colab": {
          "base_uri": "https://localhost:8080/"
        },
        "outputId": "5b49ff17-2a6f-4592-e82b-b5f1b4c7435c"
      },
      "source": [
        "matriz_2x3 = np.ones((2,3))\n",
        "print(matriz_2x3)"
      ],
      "execution_count": null,
      "outputs": [
        {
          "output_type": "stream",
          "name": "stdout",
          "text": [
            "[[1. 1. 1.]\n",
            " [1. 1. 1.]]\n"
          ]
        }
      ]
    },
    {
      "cell_type": "code",
      "source": [
        "a"
      ],
      "metadata": {
        "colab": {
          "base_uri": "https://localhost:8080/"
        },
        "id": "rC_Jwk8ZIMCp",
        "outputId": "45f9917d-b5be-4d20-de2c-8ef1ce7d92e6"
      },
      "execution_count": null,
      "outputs": [
        {
          "output_type": "execute_result",
          "data": {
            "text/plain": [
              "array([[ 1,  0],\n",
              "       [ 2, -1]])"
            ]
          },
          "metadata": {},
          "execution_count": 120
        }
      ]
    },
    {
      "cell_type": "code",
      "metadata": {
        "id": "XAlabmJfpiW-",
        "colab": {
          "base_uri": "https://localhost:8080/",
          "height": 158
        },
        "outputId": "af7df191-3644-4c67-9c40-c9128d1be296"
      },
      "source": [
        "print(a/matriz_2x3)\n",
        "# En Python, esta división retorna un error porque no tienen las mismas dimensiones"
      ],
      "execution_count": null,
      "outputs": [
        {
          "output_type": "error",
          "ename": "ValueError",
          "evalue": "operands could not be broadcast together with shapes (2,2) (2,3) ",
          "traceback": [
            "\u001b[0;31m---------------------------------------------------------------------------\u001b[0m",
            "\u001b[0;31mValueError\u001b[0m                                Traceback (most recent call last)",
            "\u001b[0;32m<ipython-input-121-9520a76cab48>\u001b[0m in \u001b[0;36m<cell line: 1>\u001b[0;34m()\u001b[0m\n\u001b[0;32m----> 1\u001b[0;31m \u001b[0mprint\u001b[0m\u001b[0;34m(\u001b[0m\u001b[0ma\u001b[0m\u001b[0;34m/\u001b[0m\u001b[0mmatriz_2x3\u001b[0m\u001b[0;34m)\u001b[0m\u001b[0;34m\u001b[0m\u001b[0;34m\u001b[0m\u001b[0m\n\u001b[0m\u001b[1;32m      2\u001b[0m \u001b[0;31m# En Python, esta división retorna un error porque no tienen las mismas dimensiones\u001b[0m\u001b[0;34m\u001b[0m\u001b[0;34m\u001b[0m\u001b[0m\n",
            "\u001b[0;31mValueError\u001b[0m: operands could not be broadcast together with shapes (2,2) (2,3) "
          ]
        }
      ]
    },
    {
      "cell_type": "markdown",
      "metadata": {
        "id": "BcR2bjGSrvHp"
      },
      "source": [
        "### Otras operaciones\n"
      ]
    },
    {
      "cell_type": "code",
      "metadata": {
        "id": "v0DtId1jwQk3",
        "colab": {
          "base_uri": "https://localhost:8080/"
        },
        "outputId": "62f13c8c-de59-48d6-dd7e-193e164a22ac"
      },
      "source": [
        "a = np.array([[0, 1, 2], [3, 4, 5]]) # arreglo 2 x 3\n",
        "a"
      ],
      "execution_count": null,
      "outputs": [
        {
          "output_type": "execute_result",
          "data": {
            "text/plain": [
              "array([[0, 1, 2],\n",
              "       [3, 4, 5]])"
            ]
          },
          "metadata": {},
          "execution_count": 122
        }
      ]
    },
    {
      "cell_type": "code",
      "metadata": {
        "id": "wTryKsA3piXO",
        "colab": {
          "base_uri": "https://localhost:8080/"
        },
        "outputId": "25e323a7-1205-4239-c6a1-057868b9d263"
      },
      "source": [
        "a.transpose()"
      ],
      "execution_count": null,
      "outputs": [
        {
          "output_type": "execute_result",
          "data": {
            "text/plain": [
              "array([[0, 3],\n",
              "       [1, 4],\n",
              "       [2, 5]])"
            ]
          },
          "metadata": {},
          "execution_count": 123
        }
      ]
    },
    {
      "cell_type": "code",
      "metadata": {
        "id": "Q17afEPkw8iA",
        "colab": {
          "base_uri": "https://localhost:8080/"
        },
        "outputId": "026c54e3-42b0-4d14-c9c0-a537de6ed1f7"
      },
      "source": [
        "a"
      ],
      "execution_count": null,
      "outputs": [
        {
          "output_type": "execute_result",
          "data": {
            "text/plain": [
              "array([[0, 1, 2],\n",
              "       [3, 4, 5]])"
            ]
          },
          "metadata": {},
          "execution_count": 124
        }
      ]
    },
    {
      "cell_type": "code",
      "metadata": {
        "id": "tVVx4s8UwvvQ",
        "colab": {
          "base_uri": "https://localhost:8080/"
        },
        "outputId": "ddf47275-cd40-4b2b-cc20-d095dc56a03e"
      },
      "source": [
        "a.sum()"
      ],
      "execution_count": null,
      "outputs": [
        {
          "output_type": "execute_result",
          "data": {
            "text/plain": [
              "15"
            ]
          },
          "metadata": {},
          "execution_count": 125
        }
      ]
    },
    {
      "cell_type": "code",
      "metadata": {
        "id": "ihOnbDedwxP1",
        "colab": {
          "base_uri": "https://localhost:8080/"
        },
        "outputId": "38870864-ad71-440a-e1c4-0657cf17eb0f"
      },
      "source": [
        "a.sum(axis=1)"
      ],
      "execution_count": null,
      "outputs": [
        {
          "output_type": "execute_result",
          "data": {
            "text/plain": [
              "array([ 3, 12])"
            ]
          },
          "metadata": {},
          "execution_count": 126
        }
      ]
    },
    {
      "cell_type": "code",
      "metadata": {
        "id": "NmlpbUnxxAO4",
        "colab": {
          "base_uri": "https://localhost:8080/"
        },
        "outputId": "175f6a8d-3fdd-4f61-8b66-af3e7bb54ee0"
      },
      "source": [
        "a.sum(axis=0)"
      ],
      "execution_count": null,
      "outputs": [
        {
          "output_type": "execute_result",
          "data": {
            "text/plain": [
              "array([3, 5, 7])"
            ]
          },
          "metadata": {},
          "execution_count": 127
        }
      ]
    },
    {
      "cell_type": "code",
      "metadata": {
        "id": "o_YKDd_gxNko",
        "colab": {
          "base_uri": "https://localhost:8080/"
        },
        "outputId": "997c01aa-1140-4941-caca-ff652eb5997c"
      },
      "source": [
        "a.std()"
      ],
      "execution_count": null,
      "outputs": [
        {
          "output_type": "execute_result",
          "data": {
            "text/plain": [
              "1.707825127659933"
            ]
          },
          "metadata": {},
          "execution_count": 128
        }
      ]
    },
    {
      "cell_type": "markdown",
      "metadata": {
        "id": "e6eMn6hyGGYM"
      },
      "source": [
        "# NumPy  - Funciones\n",
        "\n",
        "* Funciones Universales\n",
        "* Iterando sobre los arreglos"
      ]
    },
    {
      "cell_type": "markdown",
      "metadata": {
        "id": "8FocQxIXpiXM"
      },
      "source": [
        "## Funciones Universales con Arreglos\n",
        "\n",
        "Numpy viene con muchas [funciones universales para arreglos](http://docs.scipy.org/doc/numpy/reference/ufuncs.html), las cuales son operaciones matemáticas que se pueden usar para efectuar una operación sobre el arreglo. Por ejemplo:"
      ]
    },
    {
      "cell_type": "markdown",
      "metadata": {
        "id": "axychBbFhveL"
      },
      "source": [
        "### Cálculos sobre el arreglo"
      ]
    },
    {
      "cell_type": "code",
      "source": [
        "import numpy as np"
      ],
      "metadata": {
        "id": "aKsFZhiDyxEt"
      },
      "execution_count": null,
      "outputs": []
    },
    {
      "cell_type": "code",
      "metadata": {
        "id": "T7GGk6cjcvWY",
        "colab": {
          "base_uri": "https://localhost:8080/"
        },
        "outputId": "981a2426-7ff1-404c-93a2-9d6a0ce2febe"
      },
      "source": [
        "arr = np.array([2,6,1,10])\n",
        "arr"
      ],
      "execution_count": null,
      "outputs": [
        {
          "output_type": "execute_result",
          "data": {
            "text/plain": [
              "array([ 2,  6,  1, 10])"
            ]
          },
          "metadata": {},
          "execution_count": 130
        }
      ]
    },
    {
      "cell_type": "code",
      "metadata": {
        "id": "pD3mGyB2GGZF",
        "colab": {
          "base_uri": "https://localhost:8080/"
        },
        "outputId": "c49f92be-d348-440c-fc20-32c5a183e8a5"
      },
      "source": [
        "# Raíz cuadrada elemento a elemento\n",
        "np.sqrt(arr)"
      ],
      "execution_count": null,
      "outputs": [
        {
          "output_type": "execute_result",
          "data": {
            "text/plain": [
              "array([1.41421356, 2.44948974, 1.        , 3.16227766])"
            ]
          },
          "metadata": {},
          "execution_count": 131
        }
      ]
    },
    {
      "cell_type": "code",
      "source": [
        "arr.min()"
      ],
      "metadata": {
        "colab": {
          "base_uri": "https://localhost:8080/"
        },
        "id": "kxV3wPIIIswG",
        "outputId": "de35fc0b-2d64-42b2-c34d-d2b8eaec172e"
      },
      "execution_count": null,
      "outputs": [
        {
          "output_type": "execute_result",
          "data": {
            "text/plain": [
              "1"
            ]
          },
          "metadata": {},
          "execution_count": 132
        }
      ]
    },
    {
      "cell_type": "code",
      "source": [
        "np.min(arr)"
      ],
      "metadata": {
        "colab": {
          "base_uri": "https://localhost:8080/"
        },
        "id": "HlezqCQdIyqN",
        "outputId": "df0192c5-31d0-4a75-aecd-ff4b3241c6d2"
      },
      "execution_count": null,
      "outputs": [
        {
          "output_type": "execute_result",
          "data": {
            "text/plain": [
              "1"
            ]
          },
          "metadata": {},
          "execution_count": 133
        }
      ]
    },
    {
      "cell_type": "code",
      "metadata": {
        "id": "nsXsWFRUGGZT",
        "colab": {
          "base_uri": "https://localhost:8080/"
        },
        "outputId": "ae41cbd4-1ad1-4bf7-9e8c-b5b3212dcd01"
      },
      "source": [
        "# exponencial (e^)\n",
        "np.exp(arr)"
      ],
      "execution_count": null,
      "outputs": [
        {
          "output_type": "execute_result",
          "data": {
            "text/plain": [
              "array([7.38905610e+00, 4.03428793e+02, 2.71828183e+00, 2.20264658e+04])"
            ]
          },
          "metadata": {},
          "execution_count": 134
        }
      ]
    },
    {
      "cell_type": "code",
      "metadata": {
        "id": "4snxefNbGGZd",
        "colab": {
          "base_uri": "https://localhost:8080/"
        },
        "outputId": "1324955f-e6f6-4de7-a8ae-6cb1089b9b76"
      },
      "source": [
        "# Funciones trigonométricas\n",
        "np.sin(arr)"
      ],
      "execution_count": null,
      "outputs": [
        {
          "output_type": "execute_result",
          "data": {
            "text/plain": [
              "array([ 0.90929743, -0.2794155 ,  0.84147098, -0.54402111])"
            ]
          },
          "metadata": {},
          "execution_count": 135
        }
      ]
    },
    {
      "cell_type": "code",
      "metadata": {
        "id": "a0qjmnHfGGZn",
        "colab": {
          "base_uri": "https://localhost:8080/"
        },
        "outputId": "0dad300e-0d1c-40be-9395-c27183ba90d6"
      },
      "source": [
        "# Logaritmo natural\n",
        "np.log(arr)"
      ],
      "execution_count": null,
      "outputs": [
        {
          "output_type": "execute_result",
          "data": {
            "text/plain": [
              "array([0.69314718, 1.79175947, 0.        , 2.30258509])"
            ]
          },
          "metadata": {},
          "execution_count": 136
        }
      ]
    },
    {
      "cell_type": "markdown",
      "metadata": {
        "id": "xJ7sRKqXf0qu"
      },
      "source": [
        "### Reducciones Básicas"
      ]
    },
    {
      "cell_type": "code",
      "metadata": {
        "id": "IVqxtlldgAyQ",
        "colab": {
          "base_uri": "https://localhost:8080/"
        },
        "outputId": "47fe7445-b1dd-43af-d5ea-f25725f0f97a"
      },
      "source": [
        "vector = np.random.randint(0,100,10)\n",
        "print(vector)"
      ],
      "execution_count": null,
      "outputs": [
        {
          "output_type": "stream",
          "name": "stdout",
          "text": [
            "[69 45 18 50 44  1 63 77 18 27]\n"
          ]
        }
      ]
    },
    {
      "cell_type": "markdown",
      "metadata": {
        "id": "GET92RsZgXXH"
      },
      "source": [
        "**Máximo**"
      ]
    },
    {
      "cell_type": "code",
      "metadata": {
        "id": "CsTEuJ08GGa2",
        "colab": {
          "base_uri": "https://localhost:8080/"
        },
        "outputId": "7e514c12-5581-43dc-a478-5f7536e437cb"
      },
      "source": [
        "np.max(vector) # igual que arr.max()"
      ],
      "execution_count": null,
      "outputs": [
        {
          "output_type": "execute_result",
          "data": {
            "text/plain": [
              "77"
            ]
          },
          "metadata": {},
          "execution_count": 138
        }
      ]
    },
    {
      "cell_type": "code",
      "source": [
        "np.argmax(vector)"
      ],
      "metadata": {
        "colab": {
          "base_uri": "https://localhost:8080/"
        },
        "id": "8fcCukqZcx1a",
        "outputId": "6d33c7fc-71c5-4c1f-cd3d-68244c577c3d"
      },
      "execution_count": null,
      "outputs": [
        {
          "output_type": "execute_result",
          "data": {
            "text/plain": [
              "7"
            ]
          },
          "metadata": {},
          "execution_count": 139
        }
      ]
    },
    {
      "cell_type": "markdown",
      "metadata": {
        "id": "FBJGN-V2gbwg"
      },
      "source": [
        "**Mínimo**"
      ]
    },
    {
      "cell_type": "code",
      "metadata": {
        "id": "ju8ss66IgaW6",
        "colab": {
          "base_uri": "https://localhost:8080/"
        },
        "outputId": "aca01ae1-d94c-46f3-ff86-8c0f883bc525"
      },
      "source": [
        "np.min(vector)"
      ],
      "execution_count": null,
      "outputs": [
        {
          "output_type": "execute_result",
          "data": {
            "text/plain": [
              "1"
            ]
          },
          "metadata": {},
          "execution_count": 140
        }
      ]
    },
    {
      "cell_type": "markdown",
      "metadata": {
        "id": "tqPtnOUqgpRj"
      },
      "source": [
        "**Suma de todos los elementos**"
      ]
    },
    {
      "cell_type": "code",
      "metadata": {
        "id": "tT8OIx4Nf3vC",
        "colab": {
          "base_uri": "https://localhost:8080/"
        },
        "outputId": "e8c2bfb8-66aa-4aa0-be8b-27602f798e66"
      },
      "source": [
        "np.sum(vector)"
      ],
      "execution_count": null,
      "outputs": [
        {
          "output_type": "execute_result",
          "data": {
            "text/plain": [
              "412"
            ]
          },
          "metadata": {},
          "execution_count": 141
        }
      ]
    },
    {
      "cell_type": "markdown",
      "metadata": {
        "id": "u_dCq06zgzi8"
      },
      "source": [
        "**Promedio**"
      ]
    },
    {
      "cell_type": "code",
      "metadata": {
        "id": "-s0uFcQLgtFT",
        "colab": {
          "base_uri": "https://localhost:8080/"
        },
        "outputId": "eaa4f486-6667-4a32-84ac-6f597b19e545"
      },
      "source": [
        "np.average(vector)"
      ],
      "execution_count": null,
      "outputs": [
        {
          "output_type": "execute_result",
          "data": {
            "text/plain": [
              "41.2"
            ]
          },
          "metadata": {},
          "execution_count": 142
        }
      ]
    },
    {
      "cell_type": "markdown",
      "metadata": {
        "id": "6eTMqTDPg2NP"
      },
      "source": [
        "**Desviación estándar**"
      ]
    },
    {
      "cell_type": "code",
      "metadata": {
        "id": "E5BVOiA-g56I",
        "colab": {
          "base_uri": "https://localhost:8080/"
        },
        "outputId": "941cf08b-3323-4fa4-cd03-b4fbc521d45c"
      },
      "source": [
        "np.std(vector)"
      ],
      "execution_count": null,
      "outputs": [
        {
          "output_type": "execute_result",
          "data": {
            "text/plain": [
              "23.502340308999013"
            ]
          },
          "metadata": {},
          "execution_count": 143
        }
      ]
    },
    {
      "cell_type": "markdown",
      "metadata": {
        "id": "s10bfX5IpiXa"
      },
      "source": [
        "## Iterando sobre arreglos"
      ]
    },
    {
      "cell_type": "code",
      "metadata": {
        "id": "StsMzS2_piXb",
        "colab": {
          "base_uri": "https://localhost:8080/"
        },
        "outputId": "003ca2e6-4e60-4b13-ef22-d379e2267ce3"
      },
      "source": [
        "# Arreglo 1-D\n",
        "arr = np.arange(0,4)\n",
        "arr"
      ],
      "execution_count": null,
      "outputs": [
        {
          "output_type": "execute_result",
          "data": {
            "text/plain": [
              "array([0, 1, 2, 3])"
            ]
          },
          "metadata": {},
          "execution_count": 73
        }
      ]
    },
    {
      "cell_type": "code",
      "metadata": {
        "id": "FDM3IUb3piXd",
        "colab": {
          "base_uri": "https://localhost:8080/"
        },
        "outputId": "8633cb49-a304-49bc-e9fb-81bfd4583cd2"
      },
      "source": [
        "# Iterando sobre un arreglo unidimensional\n",
        "for item in arr:\n",
        "    print(item)"
      ],
      "execution_count": null,
      "outputs": [
        {
          "output_type": "stream",
          "name": "stdout",
          "text": [
            "0\n",
            "1\n",
            "2\n",
            "3\n"
          ]
        }
      ]
    },
    {
      "cell_type": "code",
      "source": [
        "np.arange(0,4)"
      ],
      "metadata": {
        "colab": {
          "base_uri": "https://localhost:8080/"
        },
        "id": "OFASGVfZdesN",
        "outputId": "310c13d3-60f3-4cfb-a3ac-3d3b586024a1"
      },
      "execution_count": null,
      "outputs": [
        {
          "output_type": "execute_result",
          "data": {
            "text/plain": [
              "array([0, 1, 2, 3])"
            ]
          },
          "metadata": {},
          "execution_count": 77
        }
      ]
    },
    {
      "cell_type": "code",
      "metadata": {
        "id": "yI_GxyfDpiXg",
        "colab": {
          "base_uri": "https://localhost:8080/"
        },
        "outputId": "8c3705e4-23f6-4716-d544-447c8858ae15"
      },
      "source": [
        "# Arreglo 2-D\n",
        "arr = np.arange(0,4).reshape(2,2)\n",
        "arr"
      ],
      "execution_count": null,
      "outputs": [
        {
          "output_type": "execute_result",
          "data": {
            "text/plain": [
              "array([[0, 1],\n",
              "       [2, 3]])"
            ]
          },
          "metadata": {},
          "execution_count": 76
        }
      ]
    },
    {
      "cell_type": "code",
      "metadata": {
        "id": "Af06e2ekpiXi",
        "colab": {
          "base_uri": "https://localhost:8080/"
        },
        "outputId": "2d2c4027-9d18-4310-b119-54535a31020a"
      },
      "source": [
        "# Iterando por filas sobre un arreglo 2-D\n",
        "for fila in arr:\n",
        "    print(fila)"
      ],
      "execution_count": null,
      "outputs": [
        {
          "output_type": "stream",
          "text": [
            "[0 1]\n",
            "[2 3]\n"
          ],
          "name": "stdout"
        }
      ]
    },
    {
      "cell_type": "code",
      "metadata": {
        "id": "Kp0z1Y_NpiXk",
        "colab": {
          "base_uri": "https://localhost:8080/"
        },
        "outputId": "e4bed4d6-07ca-4217-a4d7-e54b15077dc0"
      },
      "source": [
        "# Si se quiere hacer una operación sobre cada uno de los valores, es necesario usar la propiedad \"flat\"\n",
        "for fila in arr.flat:\n",
        "    print(fila)"
      ],
      "execution_count": null,
      "outputs": [
        {
          "output_type": "stream",
          "text": [
            "0\n",
            "1\n",
            "2\n",
            "3\n"
          ],
          "name": "stdout"
        }
      ]
    },
    {
      "cell_type": "code",
      "metadata": {
        "id": "5zVVQi6mlIbi",
        "colab": {
          "base_uri": "https://localhost:8080/"
        },
        "outputId": "9addda86-6529-4694-9c58-4b1214d6bb84"
      },
      "source": [
        "# Iterar sobre el par de coordenadas x,y\n",
        "a = np.array([[1,2],[3,4],[5,6]])\n",
        "print(a)\n",
        "for index, value in np.ndenumerate(a):\n",
        "  print('index:',index,', value: ',value)"
      ],
      "execution_count": null,
      "outputs": [
        {
          "output_type": "stream",
          "text": [
            "[[1 2]\n",
            " [3 4]\n",
            " [5 6]]\n",
            "index: (0, 0) , value:  1\n",
            "index: (0, 1) , value:  2\n",
            "index: (1, 0) , value:  3\n",
            "index: (1, 1) , value:  4\n",
            "index: (2, 0) , value:  5\n",
            "index: (2, 1) , value:  6\n"
          ],
          "name": "stdout"
        }
      ]
    },
    {
      "cell_type": "markdown",
      "metadata": {
        "id": "mhLFZCX9piXl"
      },
      "source": [
        "**Consultar más info: https://docs.scipy.org/doc/numpy/user/quickstart.html**"
      ]
    },
    {
      "cell_type": "markdown",
      "source": [
        "#Ejercicio: Multiplicación de Matrices\n",
        "\n",
        "Escribe una función en Python que reciba dos matrices (listas de listas) y retorne su producto matricial.\n",
        "\n",
        "**Instrucciones**:\n",
        "* Crea una función llamada multiplica_matrices que tome como parámetros dos matrices A y B.\n",
        "* La función debe verificar que el número de columnas de A sea igual al número de filas de B.\n",
        "* Si no es así, la función debe retornar un mensaje indicando que la multiplicación no es posible.\n",
        "* Si las dimensiones son correctas, la función debe calcular el producto matricial y devolver la matriz resultante."
      ],
      "metadata": {
        "id": "4VfQre0hG4QY"
      }
    },
    {
      "cell_type": "code",
      "source": [
        "def multiplica_matrices(Lista_A, Lista_B):\n",
        "    A = np.array(Lista_A)\n",
        "    B = np.array(Lista_B)\n",
        "    if A.shape[1] == B.shape[0]:\n",
        "        resultado = np.dot(A, B)\n",
        "        return resultado\n",
        "    return \"No se puede realizar la multiplicación de matrices\"\n"
      ],
      "metadata": {
        "id": "b4qIOMoXGlb8"
      },
      "execution_count": null,
      "outputs": []
    },
    {
      "cell_type": "code",
      "source": [
        "A = [[1, 2, 3], [3, 4, 6], [3, 4, 6]]\n",
        "B = [[5, 6], [7, 8], [9, 10]]\n",
        "print(multiplica_matrices(A, B))"
      ],
      "metadata": {
        "colab": {
          "base_uri": "https://localhost:8080/"
        },
        "id": "g89_YhfpM_5I",
        "outputId": "5e4f84b7-ed82-47aa-d0c4-973cb994dbd5"
      },
      "execution_count": null,
      "outputs": [
        {
          "output_type": "stream",
          "name": "stdout",
          "text": [
            "[[ 46  52]\n",
            " [ 97 110]\n",
            " [ 97 110]]\n"
          ]
        }
      ]
    },
    {
      "cell_type": "code",
      "source": [],
      "metadata": {
        "id": "mwe2hwYjNEvk"
      },
      "execution_count": null,
      "outputs": []
    }
  ]
}