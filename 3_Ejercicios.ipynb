{
  "nbformat": 4,
  "nbformat_minor": 0,
  "metadata": {
    "colab": {
      "provenance": [],
      "include_colab_link": true
    },
    "kernelspec": {
      "display_name": "Python 3",
      "language": "python",
      "name": "python3"
    }
  },
  "cells": [
    {
      "cell_type": "markdown",
      "metadata": {
        "id": "view-in-github",
        "colab_type": "text"
      },
      "source": [
        "<a href=\"https://colab.research.google.com/github/jvg0109/ProgPhyton2025/blob/main/3_Ejercicios.ipynb\" target=\"_parent\"><img src=\"https://colab.research.google.com/assets/colab-badge.svg\" alt=\"Open In Colab\"/></a>"
      ]
    },
    {
      "cell_type": "markdown",
      "metadata": {
        "id": "Wq3TTTOhv_XG"
      },
      "source": [
        "# Ejercicios curso rápido de Python\n",
        "\n",
        "En este notebook se plantan algunos ejercicios de programación en Python para repasar los conceptos estudiados. Si usted piensa que necesita más bases de programación o más bases de Python por favor considere hacer trabajo extra para ponerse al día. Por ejemplo con el siguiente curso en línea: [CodeCademy: Learn Python (10 hours)](https://www.codecademy.com/courses/learn-python/lessons/python-syntax/exercises/welcome?action=lesson_resume)."
      ]
    },
    {
      "cell_type": "markdown",
      "source": [
        "<img src='https://mdg.imgix.net/assets/images/tux.png?auto=format&fit=clip&q=40&w=100'>"
      ],
      "metadata": {
        "id": "PvxYtalovHLQ"
      }
    },
    {
      "cell_type": "markdown",
      "metadata": {
        "id": "vIhFXSDKv_XM"
      },
      "source": [
        "## Ejercicios\n",
        "\n",
        "Conteste las preguntas o complete las tareas que se presentan en negrilla a continuación. Use los métodos de Python cuando sea necesario."
      ]
    },
    {
      "cell_type": "markdown",
      "metadata": {
        "id": "SCdd0p4-v_XQ"
      },
      "source": [
        "**Calcular el resultado de 7 elevado a la potencia de 4.**"
      ]
    },
    {
      "cell_type": "code",
      "metadata": {
        "id": "vM3YnNdEv_XX",
        "colab": {
          "base_uri": "https://localhost:8080/"
        },
        "outputId": "2dd67eef-43db-4eb1-a7e5-bdcd88df80d1"
      },
      "source": [],
      "execution_count": null,
      "outputs": [
        {
          "output_type": "execute_result",
          "data": {
            "text/plain": [
              "2401"
            ]
          },
          "metadata": {},
          "execution_count": 1
        }
      ]
    },
    {
      "cell_type": "code",
      "metadata": {
        "id": "nuVkmGFnv_Xg",
        "outputId": "b36a3f78-58e9-42be-8c83-de1eda926c45"
      },
      "source": [
        "# NO USAR ESTA CELDA PARA QUE NO SE BORRE EL RESULTADO ESPERADO"
      ],
      "execution_count": null,
      "outputs": [
        {
          "output_type": "execute_result",
          "data": {
            "text/plain": [
              "2401"
            ]
          },
          "metadata": {
            "tags": []
          },
          "execution_count": 1
        }
      ]
    },
    {
      "cell_type": "markdown",
      "metadata": {
        "id": "uN0TW4n9v_Xt"
      },
      "source": [
        "**Separe la siguiente cadena (usando como delimitador los espacios):**\n",
        "\n",
        "    s = \"Hola, este es un ejercio de Python!\"\n",
        "    \n",
        "**en una lista.**"
      ]
    },
    {
      "cell_type": "code",
      "metadata": {
        "id": "SAqg16Fcv_Xv"
      },
      "source": [
        "s = \"Hola, este es un ejercio de Python!\""
      ],
      "execution_count": null,
      "outputs": []
    },
    {
      "cell_type": "code",
      "metadata": {
        "id": "mfJMUTJgv_X2",
        "colab": {
          "base_uri": "https://localhost:8080/",
          "height": 34
        },
        "outputId": "7c696541-f53c-4f23-cb84-c8156820aaa1"
      },
      "source": [],
      "execution_count": null,
      "outputs": [
        {
          "output_type": "execute_result",
          "data": {
            "text/plain": [
              "['Hola,', 'este', 'es', 'un', 'ejercio', 'de', 'Python!']"
            ]
          },
          "metadata": {
            "tags": []
          },
          "execution_count": 2
        }
      ]
    },
    {
      "cell_type": "code",
      "metadata": {
        "id": "zJRjhSJtv_X8",
        "outputId": "f03420cc-84a4-41b0-c004-ee741f909b72"
      },
      "source": [
        "# NO USAR ESTA CELDA PARA QUE NO SE BORRE EL RESULTADO ESPERADO"
      ],
      "execution_count": null,
      "outputs": [
        {
          "output_type": "execute_result",
          "data": {
            "text/plain": [
              "['Hola,', 'este', 'es', 'un', 'ejercio', 'de', 'Python!']"
            ]
          },
          "metadata": {
            "tags": []
          },
          "execution_count": 4
        }
      ]
    },
    {
      "cell_type": "markdown",
      "metadata": {
        "id": "Eg2AjGVMv_YH"
      },
      "source": [
        "**Dadas las siguientes variables:**\n",
        "\n",
        "    planeta = \"Tierra\"\n",
        "    diametro = 12756\n",
        "\n",
        "**Use el método .format() para imprimir en pantalla la siguiente cadena: **\n",
        "\n",
        "    El diámetro del planeta Tierra es 12756 kilometros."
      ]
    },
    {
      "cell_type": "code",
      "metadata": {
        "id": "Ws4ZZ9-cv_YL"
      },
      "source": [
        "planeta = \"Tierra\"\n",
        "diametro = 12756"
      ],
      "execution_count": null,
      "outputs": []
    },
    {
      "cell_type": "code",
      "metadata": {
        "id": "yXpp5WiSv_YR",
        "colab": {
          "base_uri": "https://localhost:8080/",
          "height": 34
        },
        "outputId": "4c07ff12-787b-4334-e198-565fc57084be"
      },
      "source": [],
      "execution_count": null,
      "outputs": [
        {
          "output_type": "execute_result",
          "data": {
            "text/plain": [
              "'El diámetro del planeta Tierra es 12756 kilometros'"
            ]
          },
          "metadata": {
            "tags": []
          },
          "execution_count": 5
        }
      ]
    },
    {
      "cell_type": "code",
      "metadata": {
        "id": "POq8J6Lpv_Ye",
        "outputId": "ed5c372c-2fa3-4bb7-8630-a162e504f348"
      },
      "source": [
        "# NO USAR ESTA CELDA PARA QUE NO SE BORRE EL RESULTADO ESPERADO"
      ],
      "execution_count": null,
      "outputs": [
        {
          "output_type": "stream",
          "text": [
            "El diámetro del planeta Tierra es 12756 kilometros.\n"
          ],
          "name": "stdout"
        }
      ]
    },
    {
      "cell_type": "markdown",
      "metadata": {
        "id": "M6rIDWpcv_Yv"
      },
      "source": [
        "**Dada la siguiente lista anidada, acceda a la palabra \"hola\" usando solamente los índices de la lista: **"
      ]
    },
    {
      "cell_type": "code",
      "metadata": {
        "id": "fAyI9VATv_Y0"
      },
      "source": [
        "lst = [1,2,[3,4],[5,[100,200,['hola']],23,11],1,7]"
      ],
      "execution_count": null,
      "outputs": []
    },
    {
      "cell_type": "code",
      "metadata": {
        "id": "ecOTBUy-v_Y7",
        "colab": {
          "base_uri": "https://localhost:8080/",
          "height": 34
        },
        "outputId": "372085d1-89b1-4bbe-f9b4-5174b65412f4"
      },
      "source": [],
      "execution_count": null,
      "outputs": [
        {
          "output_type": "execute_result",
          "data": {
            "text/plain": [
              "'hola'"
            ]
          },
          "metadata": {
            "tags": []
          },
          "execution_count": 17
        }
      ]
    },
    {
      "cell_type": "code",
      "metadata": {
        "id": "fObqF47Kv_ZD",
        "outputId": "7bb30828-31e4-481f-d67c-483f05ebee3b"
      },
      "source": [
        "# NO USAR ESTA CELDA PARA QUE NO SE BORRE EL RESULTADO ESPERADO"
      ],
      "execution_count": null,
      "outputs": [
        {
          "output_type": "execute_result",
          "data": {
            "text/plain": [
              "'hola'"
            ]
          },
          "metadata": {
            "tags": []
          },
          "execution_count": 11
        }
      ]
    },
    {
      "cell_type": "markdown",
      "metadata": {
        "id": "OWkdUIt_v_ZR"
      },
      "source": [
        "**Dado el siguiente diccionario anidado, acceda a la palabra \"hola\". Este ejercicio puede ser un poco difícil.\n",
        "NOTA: Aunque este tipo de cosas no son necesarias normalmente, sirven para terminar de despejar dudas acerca del acceso a diccionarios y listas anidadas:**"
      ]
    },
    {
      "cell_type": "code",
      "metadata": {
        "id": "QK_axa1qv_ZU"
      },
      "source": [
        "d = {'k1':[1,2,3,{'difícil':['que','significa','esto',{'casi':[0,1,2,3,'hola']}]}]}"
      ],
      "execution_count": null,
      "outputs": []
    },
    {
      "cell_type": "code",
      "metadata": {
        "id": "L4AEk58Jv_Zb"
      },
      "source": [],
      "execution_count": null,
      "outputs": []
    },
    {
      "cell_type": "code",
      "metadata": {
        "id": "Ptvfx2jOv_Zg",
        "outputId": "e5027187-cf25-4f3d-a155-d7391728098b"
      },
      "source": [
        "# NO USAR ESTA CELDA PARA QUE NO SE BORRE EL RESULTADO ESPERADO"
      ],
      "execution_count": null,
      "outputs": [
        {
          "output_type": "execute_result",
          "data": {
            "text/plain": [
              "'hola'"
            ]
          },
          "metadata": {
            "tags": []
          },
          "execution_count": 15
        }
      ]
    },
    {
      "cell_type": "markdown",
      "metadata": {
        "id": "zLb2ibKVv_Zs"
      },
      "source": [
        "**¿Cuál es la principal diferencia entre una tupla y una lista? Escriba su respuesta como un comentario de Python**"
      ]
    },
    {
      "cell_type": "code",
      "metadata": {
        "id": "vZkJMPP7v_Zv"
      },
      "source": [
        "#este último puede ser cualquier objeto: un número, una cadena, una función, una clase, una instancia, etc.\n",
        "#La diferencia es que las listas presentan una serie de funciones adicionales que permiten un amplio manejo de los valores que contienen."
      ],
      "execution_count": null,
      "outputs": []
    },
    {
      "cell_type": "markdown",
      "metadata": {
        "id": "qZ5desSUv_Z9"
      },
      "source": [
        "**Crear una función llamada \"extraerDominio\" que extraiga el nombre de dominio de un email a partir de una cadena que contenga un email de la siguiente forma:**\n",
        "\n",
        "    usuario@dominio.com\n",
        "    \n",
        "**Por ejemplo: si se le pasa \"camargoj@gmail.com\", la función retornará: gmail.com**"
      ]
    },
    {
      "cell_type": "code",
      "metadata": {
        "id": "SnLVmAoUv_aC"
      },
      "source": [
        "correo_electronico = input(\"Ingrese su correo electronico :\")\n",
        "partes = correo_electronico.split('@')\n",
        "if len(partes)== 2:\n",
        "    dominio= partes [1]\n",
        "    print(\"El dominio es: \", dominio)\n",
        "else:\n",
        "    print(\"El correo electronico es invalido\")"
      ],
      "execution_count": null,
      "outputs": []
    },
    {
      "cell_type": "code",
      "metadata": {
        "id": "uQK42HdWv_aI",
        "colab": {
          "base_uri": "https://localhost:8080/",
          "height": 34
        },
        "outputId": "bd011c0a-576f-4681-84e3-100dff34551a"
      },
      "source": [
        "correo_electronico = input(\"Ingrese su correo electronico :\")\n",
        "partes = correo_electronico.split('@')\n",
        "if len(partes)== 2:\n",
        "    dominio= partes [1]\n",
        "    print(\"El dominio es: \", dominio)\n",
        "else:\n",
        "    print(\"El correo electronico es invalido\")"
      ],
      "execution_count": null,
      "outputs": [
        {
          "output_type": "execute_result",
          "data": {
            "text/plain": [
              "'gmail.com'"
            ]
          },
          "metadata": {
            "tags": []
          },
          "execution_count": 37
        }
      ]
    },
    {
      "cell_type": "code",
      "metadata": {
        "id": "44R1evuAv_aU"
      },
      "source": [
        "extraerDominio('camargoj@gmail.com')"
      ],
      "execution_count": null,
      "outputs": []
    },
    {
      "cell_type": "markdown",
      "metadata": {
        "id": "TpfnyisEv_ag"
      },
      "source": [
        "**Crear una función que retorne True si la palabra 'perro' está contenida en la cadena de entrada; False, en caso contrario. Por ahora no se preocupe por casos especiales como cuando la palabra tiene algún signo de puntuación inmediatamente despúes de ésta, pero si tenga en cuenta que la palabra puede estar en mayúsculas, minúsculas o una mezcla de ellas.**"
      ]
    },
    {
      "cell_type": "code",
      "metadata": {
        "id": "2ZcgJvtkv_ak"
      },
      "source": [
        "texto = input(\"Ingrese el texto: \")\n",
        "texto_minusculas = texto.lower()\n",
        "resultado = \"perro\" in texto_minusculas\n",
        "print(resultado)\n",
        "\n"
      ],
      "execution_count": null,
      "outputs": []
    },
    {
      "cell_type": "code",
      "metadata": {
        "id": "ohjRmCfrv_ap",
        "colab": {
          "base_uri": "https://localhost:8080/"
        },
        "outputId": "4a23f468-d971-4b38-f77c-e1e89981de1f"
      },
      "source": [
        "texto = input(\"Ingrese el texto: \")\n",
        "texto_minusculas = texto.lower()\n",
        "resultado = \"perro\" in texto_minusculas\n",
        "print(resultado)# Hacer pruebas en esta celda\n"
      ],
      "execution_count": 2,
      "outputs": [
        {
          "output_type": "stream",
          "name": "stdout",
          "text": [
            "Ingrese el texto: El pErro mañana viene\n",
            "True\n"
          ]
        }
      ]
    },
    {
      "cell_type": "code",
      "metadata": {
        "id": "B--kSRoov_at",
        "outputId": "19114eb2-f0ff-4a14-889c-59246c9bda77"
      },
      "source": [
        "encontrarPerro('¿Hay algún peRRo aquí?')"
      ],
      "execution_count": null,
      "outputs": [
        {
          "output_type": "execute_result",
          "data": {
            "text/plain": [
              "True"
            ]
          },
          "metadata": {
            "tags": []
          },
          "execution_count": 27
        }
      ]
    },
    {
      "cell_type": "markdown",
      "metadata": {
        "id": "NQiWhhHVv_a8"
      },
      "source": [
        "**Crear una función que cuente el número de veces que aparece la palabra \"perro\" en una cadena. Puede ignorar casos especiales como antes.**"
      ]
    },
    {
      "cell_type": "code",
      "metadata": {
        "id": "bjA4rCA3v_a-"
      },
      "source": [
        "texto = input(\"Ingrese el texto: \")\n",
        "texto_minus = texto.lower()\n",
        "cantidad= texto_minus.count(\"perro\")\n",
        "resultado = \"perro\" in texto_minus\n",
        "print(\"La palabra perro esta {} veces\".format(cantidad))"
      ],
      "execution_count": null,
      "outputs": []
    },
    {
      "cell_type": "code",
      "metadata": {
        "id": "WT9_DF6rv_bE",
        "colab": {
          "base_uri": "https://localhost:8080/"
        },
        "outputId": "87039ac9-c216-4f44-a77c-58b6312d91f5"
      },
      "source": [
        "texto = input(\"Ingrese el texto: \")\n",
        "texto_minus = texto.lower()\n",
        "cantidad= texto_minus.count(\"perro\")\n",
        "resultado = \"perro\" in texto_minus\n",
        "print(\"La palabra perro esta {} veces\".format(cantidad))"
      ],
      "execution_count": 3,
      "outputs": [
        {
          "output_type": "stream",
          "name": "stdout",
          "text": [
            "Ingrese el texto: 'Este peRRO corre más rápido que el perro blanco y el perro negro!'\n",
            "La palabra perro esta 3 veces\n"
          ]
        }
      ]
    },
    {
      "cell_type": "code",
      "metadata": {
        "id": "kOVujSn_v_bK",
        "outputId": "e4f8508b-6e39-40f4-c081-a87e20889405"
      },
      "source": [
        "contarPerro('Este peRRO corre más rápido que el perro blanco y el perro negro!')"
      ],
      "execution_count": null,
      "outputs": [
        {
          "output_type": "execute_result",
          "data": {
            "text/plain": [
              "3"
            ]
          },
          "metadata": {
            "tags": []
          },
          "execution_count": 48
        }
      ]
    },
    {
      "cell_type": "markdown",
      "metadata": {
        "id": "u9ljFoxBv_bU"
      },
      "source": [
        "**Usar una expresión lambda y la función filter() para filtrar las palabras de una lista que comiencen con la letra 's'. Por ejemplo:**\n",
        "\n",
        "    seq = ['sopa','perro','sal','gato','grande']\n",
        "\n",
        "**se debe filtrar como:**\n",
        "\n",
        "    ['sopa','sal']"
      ]
    },
    {
      "cell_type": "code",
      "metadata": {
        "id": "bvgrJi2nv_bV"
      },
      "source": [
        "seq = ['sopa','perro','sal','gato','grande']"
      ],
      "execution_count": null,
      "outputs": []
    },
    {
      "cell_type": "code",
      "metadata": {
        "id": "bCsEgBJBv_bZ",
        "colab": {
          "base_uri": "https://localhost:8080/"
        },
        "outputId": "de60b246-01f9-4107-977f-74ea51ab761e"
      },
      "source": [
        "#10. Filtrar palabras con S\n",
        "\n",
        "seq = ['sopa', 'perro', 'sal', 'gato', 'grande']\n",
        "palabras = list(filter(lambda p: p[0] == 's', seq))\n",
        "print(palabras)\n",
        "\n",
        "# p: p[0] == 's'esto se podria reemplazar por un bucle for y la condicional if\n",
        "#p toma cada palabra"
      ],
      "execution_count": 4,
      "outputs": [
        {
          "output_type": "stream",
          "name": "stdout",
          "text": [
            "['sopa', 'sal']\n"
          ]
        }
      ]
    },
    {
      "cell_type": "code",
      "metadata": {
        "id": "wp_XZD9Fv_bi",
        "outputId": "b71a34ba-11bd-4825-8297-ac8e95d1bf20"
      },
      "source": [
        "# NO USAR ESTA CELDA PARA QUE NO SE BORRE EL RESULTADO ESPERADO"
      ],
      "execution_count": null,
      "outputs": [
        {
          "output_type": "execute_result",
          "data": {
            "text/plain": [
              "['sopa', 'sal']"
            ]
          },
          "metadata": {
            "tags": []
          },
          "execution_count": 50
        }
      ]
    },
    {
      "cell_type": "markdown",
      "metadata": {
        "id": "xE0y1M7gv_bl"
      },
      "source": [
        "### Problema final\n",
        "**Usted va conduciendo su carro muy rápido y es detenido por un agente de tránsito. Escriba una función que retorne uno de los 3 siguientes resultados: \"Sin multa\", \"Multa pequeña\", or \"Multa grande\".\n",
        "  Si la velocidad es 60 Km/h o menos, el resultado es \"Sin multa\". Si la velocidad está entre 60 y 80 Km/h (inclusive), el resultado es \"Multa pequeña\". Si la velocidad es mayor a 80 Km/h, el resultado es \"Multa grande\". Además, considere que si esto ocurre el día de su cumpleaños (codificado como parámetro booleano que recibe la función), su velocidad podría ser 5 Km/ mayor en todos los casos.**"
      ]
    },
    {
      "cell_type": "code",
      "metadata": {
        "id": "6uxuLDR0v_bm"
      },
      "source": [
        "velocidad = int(input (\"Ingrese la velocidad en km/h :\"))\n",
        "cumple_años = True\n",
        "\n",
        "if cumple_años:\n",
        "    velocidad -= 5\n",
        "\n",
        "if velocidad <= 60:\n",
        "    resultado = \"Sin multa\"\n",
        "elif 60 < velocidad <= 80:\n",
        "    resultado = \"Multa pequeña\"\n",
        "else:\n",
        "    resultado = \"Multa grande\"\n",
        "\n",
        "print(resultado)\n"
      ],
      "execution_count": null,
      "outputs": []
    },
    {
      "cell_type": "code",
      "metadata": {
        "id": "--dxQG-Iv_bp",
        "colab": {
          "base_uri": "https://localhost:8080/"
        },
        "outputId": "3a9e9254-c932-474a-fddd-fa9bd87a9ac9"
      },
      "source": [
        "velocidad = int(input (\"Ingrese la velocidad en km/h :\"))\n",
        "cumple_años = True\n",
        "\n",
        "if cumple_años:\n",
        "    velocidad += 5\n",
        "\n",
        "if velocidad <= 60:\n",
        "    resultado = \"Sin multa\"\n",
        "elif 60 < velocidad <= 80:\n",
        "    resultado = \"Multa pequeña\"\n",
        "else:\n",
        "    resultado = \"Multa grande\"\n",
        "\n",
        "print(resultado)"
      ],
      "execution_count": 8,
      "outputs": [
        {
          "output_type": "stream",
          "name": "stdout",
          "text": [
            "Ingrese la velocidad en km/h :80\n",
            "Multa grande\n"
          ]
        }
      ]
    },
    {
      "cell_type": "code",
      "metadata": {
        "id": "yLWqy7NWv_bv",
        "outputId": "328b26ec-8e0c-4346-9895-930bd16e74a1"
      },
      "source": [
        "definirMulta(80,True)"
      ],
      "execution_count": null,
      "outputs": [
        {
          "output_type": "execute_result",
          "data": {
            "text/plain": [
              "'Multa pequeña'"
            ]
          },
          "metadata": {
            "tags": []
          },
          "execution_count": 52
        }
      ]
    },
    {
      "cell_type": "code",
      "metadata": {
        "id": "Azjv8GE7v_b0",
        "outputId": "d764d4d3-2edb-42c0-a94a-947e248b19aa"
      },
      "source": [
        "definirMulta(81,False)"
      ],
      "execution_count": null,
      "outputs": [
        {
          "output_type": "execute_result",
          "data": {
            "text/plain": [
              "'Multa grande'"
            ]
          },
          "metadata": {
            "tags": []
          },
          "execution_count": 53
        }
      ]
    }
  ]
}